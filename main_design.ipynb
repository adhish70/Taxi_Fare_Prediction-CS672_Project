{
  "nbformat": 4,
  "nbformat_minor": 0,
  "metadata": {
    "colab": {
      "name": "main_design.ipynb",
      "provenance": [],
      "collapsed_sections": [],
      "machine_shape": "hm"
    },
    "kernelspec": {
      "name": "python3",
      "display_name": "Python 3"
    }
  },
  "cells": [
    {
      "cell_type": "markdown",
      "metadata": {
        "id": "a7s2okoGbbXb",
        "colab_type": "text"
      },
      "source": [
        "# Taxi Fare Prediction"
      ]
    },
    {
      "cell_type": "markdown",
      "metadata": {
        "id": "7ToyJVaaPeSc",
        "colab_type": "text"
      },
      "source": [
        "## Importing Data"
      ]
    },
    {
      "cell_type": "code",
      "metadata": {
        "id": "mWvAx4aePhB-",
        "colab_type": "code",
        "outputId": "ef97b86a-9aa5-4fb3-e238-a96e24e1b08d",
        "colab": {
          "base_uri": "https://localhost:8080/",
          "height": 73
        }
      },
      "source": [
        "import numpy as np\n",
        "import pandas as pd\n",
        "from collections import defaultdict\n",
        "import matplotlib.pyplot as plt\n",
        "import matplotlib\n",
        "import glob\n",
        "import seaborn as sns\n",
        "from sklearn.preprocessing import MinMaxScaler\n",
        "from sklearn.model_selection import train_test_split\n",
        "from sklearn import metrics\n",
        "from sklearn.linear_model import LinearRegression\n",
        "from sklearn.linear_model import Lasso\n",
        "from sklearn.svm import SVR\n",
        "from sklearn.tree import DecisionTreeRegressor\n",
        "from sklearn.ensemble import RandomForestRegressor"
      ],
      "execution_count": 1,
      "outputs": [
        {
          "output_type": "stream",
          "text": [
            "/usr/local/lib/python3.6/dist-packages/statsmodels/tools/_testing.py:19: FutureWarning: pandas.util.testing is deprecated. Use the functions in the public API at pandas.testing instead.\n",
            "  import pandas.util.testing as tm\n"
          ],
          "name": "stderr"
        }
      ]
    },
    {
      "cell_type": "code",
      "metadata": {
        "id": "y7pnEvegQ4HB",
        "colab_type": "code",
        "outputId": "141f2687-f92b-42ec-a3f3-7cd0fded5c07",
        "colab": {
          "base_uri": "https://localhost:8080/",
          "height": 128
        }
      },
      "source": [
        "# Connecting Google Drive with Colab to get Data\n",
        "from google.colab import drive\n",
        "drive.mount('/content/drive')"
      ],
      "execution_count": 2,
      "outputs": [
        {
          "output_type": "stream",
          "text": [
            "Go to this URL in a browser: https://accounts.google.com/o/oauth2/auth?client_id=947318989803-6bn6qk8qdgf4n4g3pfee6491hc0brc4i.apps.googleusercontent.com&redirect_uri=urn%3aietf%3awg%3aoauth%3a2.0%3aoob&response_type=code&scope=email%20https%3a%2f%2fwww.googleapis.com%2fauth%2fdocs.test%20https%3a%2f%2fwww.googleapis.com%2fauth%2fdrive%20https%3a%2f%2fwww.googleapis.com%2fauth%2fdrive.photos.readonly%20https%3a%2f%2fwww.googleapis.com%2fauth%2fpeopleapi.readonly\n",
            "\n",
            "Enter your authorization code:\n",
            "··········\n",
            "Mounted at /content/drive\n"
          ],
          "name": "stdout"
        }
      ]
    },
    {
      "cell_type": "markdown",
      "metadata": {
        "id": "9eOm6zlyPkhj",
        "colab_type": "text"
      },
      "source": [
        "## Reading Data"
      ]
    },
    {
      "cell_type": "code",
      "metadata": {
        "id": "quBecGB_ljWu",
        "colab_type": "code",
        "colab": {}
      },
      "source": [
        "path = '/content/drive/My Drive/Data/'"
      ],
      "execution_count": 0,
      "outputs": []
    },
    {
      "cell_type": "markdown",
      "metadata": {
        "id": "UHoxCGa3lPic",
        "colab_type": "text"
      },
      "source": [
        "Green Taxi Data"
      ]
    },
    {
      "cell_type": "code",
      "metadata": {
        "id": "R6EWLHLoFTFL",
        "colab_type": "code",
        "colab": {}
      },
      "source": [
        "# Reading Data from multiple data files and combining them\n",
        "all_files = glob.glob(path + 'Taxi_Data/*.csv')\n",
        "\n",
        "li = []\n",
        "\n",
        "for filename in all_files:\n",
        "    # Find the month\n",
        "    month = int(filename[-6:][0:2])\n",
        "    if month < 7:\n",
        "      temp_df = pd.read_csv(filename, index_col=None, header=0)\n",
        "    else:\n",
        "      temp_df = pd.read_csv(filename, header=None, names=['vendorid', 'lpep_pickup_datetime', 'lpep_dropoff_datetime', \n",
        "                                                          'store_and_fwd_flag', 'ratecodeid', 'pulocationid', 'dolocationid', \n",
        "                                                          'passenger_count', 'trip_distance', 'fare_amount', 'extra', 'mta_tax', \n",
        "                                                          'tip_amount', 'tolls_amount', 'ehail_fee', 'improvement_surcharge',\n",
        "                                                          'total_amount', 'payment_type', 'trip_type', 'one', 'two'], skiprows=1)\n",
        "    temp_df.columns = [x.lower() for x in temp_df.columns]\n",
        "    temp_df = temp_df[['vendorid', 'lpep_pickup_datetime', 'lpep_dropoff_datetime',\n",
        "       'store_and_fwd_flag', 'ratecodeid', 'passenger_count', 'trip_distance', 'fare_amount', 'extra', 'mta_tax', \n",
        "       'tip_amount', 'tolls_amount', 'ehail_fee', 'improvement_surcharge',\n",
        "       'total_amount', 'payment_type']]\n",
        "\n",
        "    li.append(temp_df)\n",
        "\n",
        "taxi_df = pd.concat(li, axis=0, ignore_index=True)"
      ],
      "execution_count": 0,
      "outputs": []
    },
    {
      "cell_type": "code",
      "metadata": {
        "id": "acxr_zGWGRgB",
        "colab_type": "code",
        "colab": {
          "base_uri": "https://localhost:8080/",
          "height": 435
        },
        "outputId": "15976869-8d98-4da6-b5ad-398d02c89904"
      },
      "source": [
        "taxi_df.info()"
      ],
      "execution_count": 5,
      "outputs": [
        {
          "output_type": "stream",
          "text": [
            "<class 'pandas.core.frame.DataFrame'>\n",
            "RangeIndex: 16385532 entries, 0 to 16385531\n",
            "Data columns (total 16 columns):\n",
            " #   Column                 Dtype  \n",
            "---  ------                 -----  \n",
            " 0   vendorid               int64  \n",
            " 1   lpep_pickup_datetime   object \n",
            " 2   lpep_dropoff_datetime  object \n",
            " 3   store_and_fwd_flag     object \n",
            " 4   ratecodeid             int64  \n",
            " 5   passenger_count        int64  \n",
            " 6   trip_distance          float64\n",
            " 7   fare_amount            float64\n",
            " 8   extra                  float64\n",
            " 9   mta_tax                float64\n",
            " 10  tip_amount             float64\n",
            " 11  tolls_amount           float64\n",
            " 12  ehail_fee              float64\n",
            " 13  improvement_surcharge  float64\n",
            " 14  total_amount           float64\n",
            " 15  payment_type           int64  \n",
            "dtypes: float64(9), int64(4), object(3)\n",
            "memory usage: 2.0+ GB\n"
          ],
          "name": "stdout"
        }
      ]
    },
    {
      "cell_type": "code",
      "metadata": {
        "id": "pFeE9O66PT75",
        "colab_type": "code",
        "outputId": "baa2dfa7-e8b8-4b7c-f7c5-42e9a1e113d0",
        "colab": {
          "base_uri": "https://localhost:8080/",
          "height": 383
        }
      },
      "source": [
        "taxi_df.head(10)"
      ],
      "execution_count": 5,
      "outputs": [
        {
          "output_type": "execute_result",
          "data": {
            "text/html": [
              "<div>\n",
              "<style scoped>\n",
              "    .dataframe tbody tr th:only-of-type {\n",
              "        vertical-align: middle;\n",
              "    }\n",
              "\n",
              "    .dataframe tbody tr th {\n",
              "        vertical-align: top;\n",
              "    }\n",
              "\n",
              "    .dataframe thead th {\n",
              "        text-align: right;\n",
              "    }\n",
              "</style>\n",
              "<table border=\"1\" class=\"dataframe\">\n",
              "  <thead>\n",
              "    <tr style=\"text-align: right;\">\n",
              "      <th></th>\n",
              "      <th>vendorid</th>\n",
              "      <th>lpep_pickup_datetime</th>\n",
              "      <th>lpep_dropoff_datetime</th>\n",
              "      <th>store_and_fwd_flag</th>\n",
              "      <th>ratecodeid</th>\n",
              "      <th>passenger_count</th>\n",
              "      <th>trip_distance</th>\n",
              "      <th>fare_amount</th>\n",
              "      <th>extra</th>\n",
              "      <th>mta_tax</th>\n",
              "      <th>tip_amount</th>\n",
              "      <th>tolls_amount</th>\n",
              "      <th>ehail_fee</th>\n",
              "      <th>improvement_surcharge</th>\n",
              "      <th>total_amount</th>\n",
              "      <th>payment_type</th>\n",
              "    </tr>\n",
              "  </thead>\n",
              "  <tbody>\n",
              "    <tr>\n",
              "      <th>0</th>\n",
              "      <td>2</td>\n",
              "      <td>2016-01-01 00:29:24</td>\n",
              "      <td>2016-01-01 00:39:36</td>\n",
              "      <td>N</td>\n",
              "      <td>1</td>\n",
              "      <td>1</td>\n",
              "      <td>1.46</td>\n",
              "      <td>8.0</td>\n",
              "      <td>0.5</td>\n",
              "      <td>0.5</td>\n",
              "      <td>1.86</td>\n",
              "      <td>0.0</td>\n",
              "      <td>NaN</td>\n",
              "      <td>0.3</td>\n",
              "      <td>11.16</td>\n",
              "      <td>1</td>\n",
              "    </tr>\n",
              "    <tr>\n",
              "      <th>1</th>\n",
              "      <td>2</td>\n",
              "      <td>2016-01-01 00:19:39</td>\n",
              "      <td>2016-01-01 00:39:18</td>\n",
              "      <td>N</td>\n",
              "      <td>1</td>\n",
              "      <td>1</td>\n",
              "      <td>3.56</td>\n",
              "      <td>15.5</td>\n",
              "      <td>0.5</td>\n",
              "      <td>0.5</td>\n",
              "      <td>0.00</td>\n",
              "      <td>0.0</td>\n",
              "      <td>NaN</td>\n",
              "      <td>0.3</td>\n",
              "      <td>16.80</td>\n",
              "      <td>2</td>\n",
              "    </tr>\n",
              "    <tr>\n",
              "      <th>2</th>\n",
              "      <td>2</td>\n",
              "      <td>2016-01-01 00:19:33</td>\n",
              "      <td>2016-01-01 00:39:48</td>\n",
              "      <td>N</td>\n",
              "      <td>1</td>\n",
              "      <td>1</td>\n",
              "      <td>3.79</td>\n",
              "      <td>16.5</td>\n",
              "      <td>0.5</td>\n",
              "      <td>0.5</td>\n",
              "      <td>4.45</td>\n",
              "      <td>0.0</td>\n",
              "      <td>NaN</td>\n",
              "      <td>0.3</td>\n",
              "      <td>22.25</td>\n",
              "      <td>1</td>\n",
              "    </tr>\n",
              "    <tr>\n",
              "      <th>3</th>\n",
              "      <td>2</td>\n",
              "      <td>2016-01-01 00:22:12</td>\n",
              "      <td>2016-01-01 00:38:32</td>\n",
              "      <td>N</td>\n",
              "      <td>1</td>\n",
              "      <td>1</td>\n",
              "      <td>3.01</td>\n",
              "      <td>13.5</td>\n",
              "      <td>0.5</td>\n",
              "      <td>0.5</td>\n",
              "      <td>0.00</td>\n",
              "      <td>0.0</td>\n",
              "      <td>NaN</td>\n",
              "      <td>0.3</td>\n",
              "      <td>14.80</td>\n",
              "      <td>2</td>\n",
              "    </tr>\n",
              "    <tr>\n",
              "      <th>4</th>\n",
              "      <td>2</td>\n",
              "      <td>2016-01-01 00:24:01</td>\n",
              "      <td>2016-01-01 00:39:22</td>\n",
              "      <td>N</td>\n",
              "      <td>1</td>\n",
              "      <td>1</td>\n",
              "      <td>2.55</td>\n",
              "      <td>12.0</td>\n",
              "      <td>0.5</td>\n",
              "      <td>0.5</td>\n",
              "      <td>0.00</td>\n",
              "      <td>0.0</td>\n",
              "      <td>NaN</td>\n",
              "      <td>0.3</td>\n",
              "      <td>13.30</td>\n",
              "      <td>2</td>\n",
              "    </tr>\n",
              "    <tr>\n",
              "      <th>5</th>\n",
              "      <td>2</td>\n",
              "      <td>2016-01-01 00:32:59</td>\n",
              "      <td>2016-01-01 00:39:35</td>\n",
              "      <td>N</td>\n",
              "      <td>1</td>\n",
              "      <td>1</td>\n",
              "      <td>1.37</td>\n",
              "      <td>7.0</td>\n",
              "      <td>0.5</td>\n",
              "      <td>0.5</td>\n",
              "      <td>0.00</td>\n",
              "      <td>0.0</td>\n",
              "      <td>NaN</td>\n",
              "      <td>0.3</td>\n",
              "      <td>8.30</td>\n",
              "      <td>2</td>\n",
              "    </tr>\n",
              "    <tr>\n",
              "      <th>6</th>\n",
              "      <td>2</td>\n",
              "      <td>2016-01-01 00:34:42</td>\n",
              "      <td>2016-01-01 00:39:21</td>\n",
              "      <td>N</td>\n",
              "      <td>1</td>\n",
              "      <td>1</td>\n",
              "      <td>0.57</td>\n",
              "      <td>5.0</td>\n",
              "      <td>0.5</td>\n",
              "      <td>0.5</td>\n",
              "      <td>0.00</td>\n",
              "      <td>0.0</td>\n",
              "      <td>NaN</td>\n",
              "      <td>0.3</td>\n",
              "      <td>6.30</td>\n",
              "      <td>2</td>\n",
              "    </tr>\n",
              "    <tr>\n",
              "      <th>7</th>\n",
              "      <td>2</td>\n",
              "      <td>2016-01-01 00:31:23</td>\n",
              "      <td>2016-01-01 00:39:36</td>\n",
              "      <td>N</td>\n",
              "      <td>1</td>\n",
              "      <td>1</td>\n",
              "      <td>1.01</td>\n",
              "      <td>7.0</td>\n",
              "      <td>0.5</td>\n",
              "      <td>0.5</td>\n",
              "      <td>0.00</td>\n",
              "      <td>0.0</td>\n",
              "      <td>NaN</td>\n",
              "      <td>0.3</td>\n",
              "      <td>8.30</td>\n",
              "      <td>2</td>\n",
              "    </tr>\n",
              "    <tr>\n",
              "      <th>8</th>\n",
              "      <td>2</td>\n",
              "      <td>2016-01-01 00:24:40</td>\n",
              "      <td>2016-01-01 00:39:52</td>\n",
              "      <td>N</td>\n",
              "      <td>1</td>\n",
              "      <td>1</td>\n",
              "      <td>2.46</td>\n",
              "      <td>12.0</td>\n",
              "      <td>0.5</td>\n",
              "      <td>0.5</td>\n",
              "      <td>2.00</td>\n",
              "      <td>0.0</td>\n",
              "      <td>NaN</td>\n",
              "      <td>0.3</td>\n",
              "      <td>15.30</td>\n",
              "      <td>1</td>\n",
              "    </tr>\n",
              "    <tr>\n",
              "      <th>9</th>\n",
              "      <td>2</td>\n",
              "      <td>2016-01-01 00:28:59</td>\n",
              "      <td>2016-01-01 00:39:23</td>\n",
              "      <td>N</td>\n",
              "      <td>1</td>\n",
              "      <td>1</td>\n",
              "      <td>1.61</td>\n",
              "      <td>9.0</td>\n",
              "      <td>0.5</td>\n",
              "      <td>0.5</td>\n",
              "      <td>1.60</td>\n",
              "      <td>0.0</td>\n",
              "      <td>NaN</td>\n",
              "      <td>0.3</td>\n",
              "      <td>11.90</td>\n",
              "      <td>1</td>\n",
              "    </tr>\n",
              "  </tbody>\n",
              "</table>\n",
              "</div>"
            ],
            "text/plain": [
              "   vendorid lpep_pickup_datetime  ... total_amount payment_type\n",
              "0         2  2016-01-01 00:29:24  ...        11.16            1\n",
              "1         2  2016-01-01 00:19:39  ...        16.80            2\n",
              "2         2  2016-01-01 00:19:33  ...        22.25            1\n",
              "3         2  2016-01-01 00:22:12  ...        14.80            2\n",
              "4         2  2016-01-01 00:24:01  ...        13.30            2\n",
              "5         2  2016-01-01 00:32:59  ...         8.30            2\n",
              "6         2  2016-01-01 00:34:42  ...         6.30            2\n",
              "7         2  2016-01-01 00:31:23  ...         8.30            2\n",
              "8         2  2016-01-01 00:24:40  ...        15.30            1\n",
              "9         2  2016-01-01 00:28:59  ...        11.90            1\n",
              "\n",
              "[10 rows x 16 columns]"
            ]
          },
          "metadata": {
            "tags": []
          },
          "execution_count": 5
        }
      ]
    },
    {
      "cell_type": "code",
      "metadata": {
        "id": "zNJhelLqPmox",
        "colab_type": "code",
        "outputId": "f52fcfb0-1aab-4296-bb13-da710d35489b",
        "colab": {
          "base_uri": "https://localhost:8080/",
          "height": 320
        }
      },
      "source": [
        "taxi_df.describe()"
      ],
      "execution_count": 6,
      "outputs": [
        {
          "output_type": "execute_result",
          "data": {
            "text/html": [
              "<div>\n",
              "<style scoped>\n",
              "    .dataframe tbody tr th:only-of-type {\n",
              "        vertical-align: middle;\n",
              "    }\n",
              "\n",
              "    .dataframe tbody tr th {\n",
              "        vertical-align: top;\n",
              "    }\n",
              "\n",
              "    .dataframe thead th {\n",
              "        text-align: right;\n",
              "    }\n",
              "</style>\n",
              "<table border=\"1\" class=\"dataframe\">\n",
              "  <thead>\n",
              "    <tr style=\"text-align: right;\">\n",
              "      <th></th>\n",
              "      <th>vendorid</th>\n",
              "      <th>ratecodeid</th>\n",
              "      <th>passenger_count</th>\n",
              "      <th>trip_distance</th>\n",
              "      <th>fare_amount</th>\n",
              "      <th>extra</th>\n",
              "      <th>mta_tax</th>\n",
              "      <th>tip_amount</th>\n",
              "      <th>tolls_amount</th>\n",
              "      <th>ehail_fee</th>\n",
              "      <th>improvement_surcharge</th>\n",
              "      <th>total_amount</th>\n",
              "      <th>payment_type</th>\n",
              "    </tr>\n",
              "  </thead>\n",
              "  <tbody>\n",
              "    <tr>\n",
              "      <th>count</th>\n",
              "      <td>1.638553e+07</td>\n",
              "      <td>1.638553e+07</td>\n",
              "      <td>1.638553e+07</td>\n",
              "      <td>1.638553e+07</td>\n",
              "      <td>1.638553e+07</td>\n",
              "      <td>1.638553e+07</td>\n",
              "      <td>1.638553e+07</td>\n",
              "      <td>1.638553e+07</td>\n",
              "      <td>1.638553e+07</td>\n",
              "      <td>0.0</td>\n",
              "      <td>1.638553e+07</td>\n",
              "      <td>1.638553e+07</td>\n",
              "      <td>1.638553e+07</td>\n",
              "    </tr>\n",
              "    <tr>\n",
              "      <th>mean</th>\n",
              "      <td>1.790590e+00</td>\n",
              "      <td>1.094279e+00</td>\n",
              "      <td>1.357557e+00</td>\n",
              "      <td>2.802718e+00</td>\n",
              "      <td>1.213675e+01</td>\n",
              "      <td>3.522082e-01</td>\n",
              "      <td>4.867317e-01</td>\n",
              "      <td>1.243873e+00</td>\n",
              "      <td>1.103113e-01</td>\n",
              "      <td>NaN</td>\n",
              "      <td>2.921152e-01</td>\n",
              "      <td>1.464115e+01</td>\n",
              "      <td>1.514710e+00</td>\n",
              "    </tr>\n",
              "    <tr>\n",
              "      <th>std</th>\n",
              "      <td>4.068873e-01</td>\n",
              "      <td>7.891883e-01</td>\n",
              "      <td>1.024279e+00</td>\n",
              "      <td>2.941111e+00</td>\n",
              "      <td>1.027957e+01</td>\n",
              "      <td>3.818636e-01</td>\n",
              "      <td>8.618982e-02</td>\n",
              "      <td>2.559969e+00</td>\n",
              "      <td>1.073319e+00</td>\n",
              "      <td>NaN</td>\n",
              "      <td>5.137505e-02</td>\n",
              "      <td>1.173573e+01</td>\n",
              "      <td>5.253130e-01</td>\n",
              "    </tr>\n",
              "    <tr>\n",
              "      <th>min</th>\n",
              "      <td>1.000000e+00</td>\n",
              "      <td>1.000000e+00</td>\n",
              "      <td>0.000000e+00</td>\n",
              "      <td>0.000000e+00</td>\n",
              "      <td>-4.990000e+02</td>\n",
              "      <td>-4.500000e+00</td>\n",
              "      <td>-5.000000e-01</td>\n",
              "      <td>-6.000000e+01</td>\n",
              "      <td>-5.000000e+01</td>\n",
              "      <td>NaN</td>\n",
              "      <td>-3.000000e-01</td>\n",
              "      <td>-4.990000e+02</td>\n",
              "      <td>1.000000e+00</td>\n",
              "    </tr>\n",
              "    <tr>\n",
              "      <th>25%</th>\n",
              "      <td>2.000000e+00</td>\n",
              "      <td>1.000000e+00</td>\n",
              "      <td>1.000000e+00</td>\n",
              "      <td>1.030000e+00</td>\n",
              "      <td>6.500000e+00</td>\n",
              "      <td>0.000000e+00</td>\n",
              "      <td>5.000000e-01</td>\n",
              "      <td>0.000000e+00</td>\n",
              "      <td>0.000000e+00</td>\n",
              "      <td>NaN</td>\n",
              "      <td>3.000000e-01</td>\n",
              "      <td>7.800000e+00</td>\n",
              "      <td>1.000000e+00</td>\n",
              "    </tr>\n",
              "    <tr>\n",
              "      <th>50%</th>\n",
              "      <td>2.000000e+00</td>\n",
              "      <td>1.000000e+00</td>\n",
              "      <td>1.000000e+00</td>\n",
              "      <td>1.840000e+00</td>\n",
              "      <td>9.500000e+00</td>\n",
              "      <td>5.000000e-01</td>\n",
              "      <td>5.000000e-01</td>\n",
              "      <td>0.000000e+00</td>\n",
              "      <td>0.000000e+00</td>\n",
              "      <td>NaN</td>\n",
              "      <td>3.000000e-01</td>\n",
              "      <td>1.130000e+01</td>\n",
              "      <td>2.000000e+00</td>\n",
              "    </tr>\n",
              "    <tr>\n",
              "      <th>75%</th>\n",
              "      <td>2.000000e+00</td>\n",
              "      <td>1.000000e+00</td>\n",
              "      <td>1.000000e+00</td>\n",
              "      <td>3.500000e+00</td>\n",
              "      <td>1.500000e+01</td>\n",
              "      <td>5.000000e-01</td>\n",
              "      <td>5.000000e-01</td>\n",
              "      <td>2.000000e+00</td>\n",
              "      <td>0.000000e+00</td>\n",
              "      <td>NaN</td>\n",
              "      <td>3.000000e-01</td>\n",
              "      <td>1.775000e+01</td>\n",
              "      <td>2.000000e+00</td>\n",
              "    </tr>\n",
              "    <tr>\n",
              "      <th>max</th>\n",
              "      <td>2.000000e+00</td>\n",
              "      <td>9.900000e+01</td>\n",
              "      <td>9.000000e+00</td>\n",
              "      <td>8.322000e+02</td>\n",
              "      <td>5.005500e+03</td>\n",
              "      <td>8.300000e+01</td>\n",
              "      <td>3.000000e+00</td>\n",
              "      <td>9.000000e+02</td>\n",
              "      <td>9.021700e+02</td>\n",
              "      <td>NaN</td>\n",
              "      <td>1.770000e+00</td>\n",
              "      <td>5.006300e+03</td>\n",
              "      <td>5.000000e+00</td>\n",
              "    </tr>\n",
              "  </tbody>\n",
              "</table>\n",
              "</div>"
            ],
            "text/plain": [
              "           vendorid    ratecodeid  ...  total_amount  payment_type\n",
              "count  1.638553e+07  1.638553e+07  ...  1.638553e+07  1.638553e+07\n",
              "mean   1.790590e+00  1.094279e+00  ...  1.464115e+01  1.514710e+00\n",
              "std    4.068873e-01  7.891883e-01  ...  1.173573e+01  5.253130e-01\n",
              "min    1.000000e+00  1.000000e+00  ... -4.990000e+02  1.000000e+00\n",
              "25%    2.000000e+00  1.000000e+00  ...  7.800000e+00  1.000000e+00\n",
              "50%    2.000000e+00  1.000000e+00  ...  1.130000e+01  2.000000e+00\n",
              "75%    2.000000e+00  1.000000e+00  ...  1.775000e+01  2.000000e+00\n",
              "max    2.000000e+00  9.900000e+01  ...  5.006300e+03  5.000000e+00\n",
              "\n",
              "[8 rows x 13 columns]"
            ]
          },
          "metadata": {
            "tags": []
          },
          "execution_count": 6
        }
      ]
    },
    {
      "cell_type": "markdown",
      "metadata": {
        "id": "QeZViYjqlTiA",
        "colab_type": "text"
      },
      "source": [
        "Weather Data"
      ]
    },
    {
      "cell_type": "code",
      "metadata": {
        "id": "VlHbaTrQigu3",
        "colab_type": "code",
        "colab": {}
      },
      "source": [
        "weather_csv = 'Monthly_Weather_Raw_JFK_Updated.csv'\n",
        "weather_df = pd.read_csv(path+weather_csv)\n",
        "weather_df.rename(columns={'Wind (mph) - Max': 'Wind (mph) - Avg',\n",
        "                           'Wind (mph) - Avg': 'Wind (mph) - Min',\n",
        "                           'Wind (mph) - Max?!?': 'Wind (mph) - Max'}, \n",
        "                  inplace=True)"
      ],
      "execution_count": 0,
      "outputs": []
    },
    {
      "cell_type": "code",
      "metadata": {
        "id": "IgzLs2WtGvKb",
        "colab_type": "code",
        "colab": {
          "base_uri": "https://localhost:8080/",
          "height": 544
        },
        "outputId": "523d03c5-fcf4-4209-8430-9192177b6050"
      },
      "source": [
        "weather_df.info()"
      ],
      "execution_count": 7,
      "outputs": [
        {
          "output_type": "stream",
          "text": [
            "<class 'pandas.core.frame.DataFrame'>\n",
            "RangeIndex: 366 entries, 0 to 365\n",
            "Data columns (total 22 columns):\n",
            " #   Column                       Non-Null Count  Dtype  \n",
            "---  ------                       --------------  -----  \n",
            " 0   Month                        366 non-null    int64  \n",
            " 1   Day                          366 non-null    int64  \n",
            " 2   Temp. (Degrees F) - Max      366 non-null    int64  \n",
            " 3   Temp. (Degrees F) - Avg      366 non-null    int64  \n",
            " 4   Temp. (Degrees F) - Min      366 non-null    int64  \n",
            " 5   Dew Point (Degrees F) - Max  366 non-null    int64  \n",
            " 6   Dew Point (Degrees F) - Avg  366 non-null    int64  \n",
            " 7   Dew Point (Degrees F) - Min  366 non-null    int64  \n",
            " 8   Humidity (%) - Max           366 non-null    int64  \n",
            " 9   Humidity (%) - Avg           366 non-null    int64  \n",
            " 10  Humidity (%) - Min           366 non-null    int64  \n",
            " 11  Sea Level Press. (in) - Max  366 non-null    float64\n",
            " 12  Sea Level Press. (in) - Avg  366 non-null    float64\n",
            " 13  Sea Level Press. (in) - Min  366 non-null    float64\n",
            " 14  Visibility (mi) - Max        366 non-null    int64  \n",
            " 15  Visibility (mi) - Avg        366 non-null    int64  \n",
            " 16  Visibility (mi) - Min        366 non-null    int64  \n",
            " 17  Wind (mph) - Avg             366 non-null    int64  \n",
            " 18  Wind (mph) - Min             366 non-null    int64  \n",
            " 19  Wind (mph) - Max             366 non-null    object \n",
            " 20  Precipitation (in) - Sum     366 non-null    float64\n",
            " 21  Event                        151 non-null    object \n",
            "dtypes: float64(4), int64(16), object(2)\n",
            "memory usage: 63.0+ KB\n"
          ],
          "name": "stdout"
        }
      ]
    },
    {
      "cell_type": "code",
      "metadata": {
        "id": "5oOx04Ymj0CG",
        "colab_type": "code",
        "outputId": "7c993aad-b711-4899-8f4f-3d32f53081d7",
        "colab": {
          "base_uri": "https://localhost:8080/",
          "height": 452
        }
      },
      "source": [
        "weather_df.head(10)"
      ],
      "execution_count": 10,
      "outputs": [
        {
          "output_type": "execute_result",
          "data": {
            "text/html": [
              "<div>\n",
              "<style scoped>\n",
              "    .dataframe tbody tr th:only-of-type {\n",
              "        vertical-align: middle;\n",
              "    }\n",
              "\n",
              "    .dataframe tbody tr th {\n",
              "        vertical-align: top;\n",
              "    }\n",
              "\n",
              "    .dataframe thead th {\n",
              "        text-align: right;\n",
              "    }\n",
              "</style>\n",
              "<table border=\"1\" class=\"dataframe\">\n",
              "  <thead>\n",
              "    <tr style=\"text-align: right;\">\n",
              "      <th></th>\n",
              "      <th>Month</th>\n",
              "      <th>Day</th>\n",
              "      <th>Temp. (Degrees F) - Max</th>\n",
              "      <th>Temp. (Degrees F) - Avg</th>\n",
              "      <th>Temp. (Degrees F) - Min</th>\n",
              "      <th>Dew Point (Degrees F) - Max</th>\n",
              "      <th>Dew Point (Degrees F) - Avg</th>\n",
              "      <th>Dew Point (Degrees F) - Min</th>\n",
              "      <th>Humidity (%) - Max</th>\n",
              "      <th>Humidity (%) - Avg</th>\n",
              "      <th>Humidity (%) - Min</th>\n",
              "      <th>Sea Level Press. (in) - Max</th>\n",
              "      <th>Sea Level Press. (in) - Avg</th>\n",
              "      <th>Sea Level Press. (in) - Min</th>\n",
              "      <th>Visibility (mi) - Max</th>\n",
              "      <th>Visibility (mi) - Avg</th>\n",
              "      <th>Visibility (mi) - Min</th>\n",
              "      <th>Wind (mph) - Avg</th>\n",
              "      <th>Wind (mph) - Min</th>\n",
              "      <th>Wind (mph) - Max</th>\n",
              "      <th>Precipitation (in) - Sum</th>\n",
              "      <th>Event</th>\n",
              "    </tr>\n",
              "  </thead>\n",
              "  <tbody>\n",
              "    <tr>\n",
              "      <th>0</th>\n",
              "      <td>1</td>\n",
              "      <td>1</td>\n",
              "      <td>44</td>\n",
              "      <td>40</td>\n",
              "      <td>36</td>\n",
              "      <td>28</td>\n",
              "      <td>24</td>\n",
              "      <td>18</td>\n",
              "      <td>59</td>\n",
              "      <td>50</td>\n",
              "      <td>40</td>\n",
              "      <td>30.08</td>\n",
              "      <td>30.04</td>\n",
              "      <td>29.99</td>\n",
              "      <td>10</td>\n",
              "      <td>10</td>\n",
              "      <td>10</td>\n",
              "      <td>28</td>\n",
              "      <td>15</td>\n",
              "      <td>33</td>\n",
              "      <td>0.00</td>\n",
              "      <td>NaN</td>\n",
              "    </tr>\n",
              "    <tr>\n",
              "      <th>1</th>\n",
              "      <td>1</td>\n",
              "      <td>2</td>\n",
              "      <td>41</td>\n",
              "      <td>38</td>\n",
              "      <td>34</td>\n",
              "      <td>22</td>\n",
              "      <td>19</td>\n",
              "      <td>17</td>\n",
              "      <td>52</td>\n",
              "      <td>47</td>\n",
              "      <td>41</td>\n",
              "      <td>30.12</td>\n",
              "      <td>30.04</td>\n",
              "      <td>29.98</td>\n",
              "      <td>10</td>\n",
              "      <td>10</td>\n",
              "      <td>10</td>\n",
              "      <td>24</td>\n",
              "      <td>13</td>\n",
              "      <td>30</td>\n",
              "      <td>0.00</td>\n",
              "      <td>NaN</td>\n",
              "    </tr>\n",
              "    <tr>\n",
              "      <th>2</th>\n",
              "      <td>1</td>\n",
              "      <td>3</td>\n",
              "      <td>48</td>\n",
              "      <td>42</td>\n",
              "      <td>35</td>\n",
              "      <td>27</td>\n",
              "      <td>23</td>\n",
              "      <td>21</td>\n",
              "      <td>64</td>\n",
              "      <td>49</td>\n",
              "      <td>34</td>\n",
              "      <td>29.96</td>\n",
              "      <td>29.88</td>\n",
              "      <td>29.80</td>\n",
              "      <td>10</td>\n",
              "      <td>10</td>\n",
              "      <td>10</td>\n",
              "      <td>23</td>\n",
              "      <td>14</td>\n",
              "      <td>29</td>\n",
              "      <td>0.00</td>\n",
              "      <td>NaN</td>\n",
              "    </tr>\n",
              "    <tr>\n",
              "      <th>3</th>\n",
              "      <td>1</td>\n",
              "      <td>4</td>\n",
              "      <td>38</td>\n",
              "      <td>27</td>\n",
              "      <td>15</td>\n",
              "      <td>25</td>\n",
              "      <td>10</td>\n",
              "      <td>-1</td>\n",
              "      <td>59</td>\n",
              "      <td>44</td>\n",
              "      <td>29</td>\n",
              "      <td>30.32</td>\n",
              "      <td>30.05</td>\n",
              "      <td>29.89</td>\n",
              "      <td>10</td>\n",
              "      <td>10</td>\n",
              "      <td>10</td>\n",
              "      <td>31</td>\n",
              "      <td>20</td>\n",
              "      <td>39</td>\n",
              "      <td>0.00</td>\n",
              "      <td>NaN</td>\n",
              "    </tr>\n",
              "    <tr>\n",
              "      <th>4</th>\n",
              "      <td>1</td>\n",
              "      <td>5</td>\n",
              "      <td>29</td>\n",
              "      <td>21</td>\n",
              "      <td>12</td>\n",
              "      <td>10</td>\n",
              "      <td>-2</td>\n",
              "      <td>-7</td>\n",
              "      <td>58</td>\n",
              "      <td>40</td>\n",
              "      <td>21</td>\n",
              "      <td>30.64</td>\n",
              "      <td>30.58</td>\n",
              "      <td>30.45</td>\n",
              "      <td>10</td>\n",
              "      <td>10</td>\n",
              "      <td>10</td>\n",
              "      <td>28</td>\n",
              "      <td>12</td>\n",
              "      <td>38</td>\n",
              "      <td>0.00</td>\n",
              "      <td>NaN</td>\n",
              "    </tr>\n",
              "    <tr>\n",
              "      <th>5</th>\n",
              "      <td>1</td>\n",
              "      <td>6</td>\n",
              "      <td>40</td>\n",
              "      <td>31</td>\n",
              "      <td>21</td>\n",
              "      <td>19</td>\n",
              "      <td>12</td>\n",
              "      <td>5</td>\n",
              "      <td>63</td>\n",
              "      <td>44</td>\n",
              "      <td>25</td>\n",
              "      <td>30.61</td>\n",
              "      <td>30.53</td>\n",
              "      <td>30.43</td>\n",
              "      <td>10</td>\n",
              "      <td>10</td>\n",
              "      <td>10</td>\n",
              "      <td>14</td>\n",
              "      <td>8</td>\n",
              "      <td>17</td>\n",
              "      <td>0.00</td>\n",
              "      <td>NaN</td>\n",
              "    </tr>\n",
              "    <tr>\n",
              "      <th>6</th>\n",
              "      <td>1</td>\n",
              "      <td>7</td>\n",
              "      <td>46</td>\n",
              "      <td>37</td>\n",
              "      <td>27</td>\n",
              "      <td>20</td>\n",
              "      <td>14</td>\n",
              "      <td>8</td>\n",
              "      <td>58</td>\n",
              "      <td>40</td>\n",
              "      <td>22</td>\n",
              "      <td>30.40</td>\n",
              "      <td>30.30</td>\n",
              "      <td>30.20</td>\n",
              "      <td>10</td>\n",
              "      <td>10</td>\n",
              "      <td>10</td>\n",
              "      <td>13</td>\n",
              "      <td>4</td>\n",
              "      <td>15</td>\n",
              "      <td>0.00</td>\n",
              "      <td>NaN</td>\n",
              "    </tr>\n",
              "    <tr>\n",
              "      <th>7</th>\n",
              "      <td>1</td>\n",
              "      <td>8</td>\n",
              "      <td>47</td>\n",
              "      <td>40</td>\n",
              "      <td>32</td>\n",
              "      <td>34</td>\n",
              "      <td>29</td>\n",
              "      <td>21</td>\n",
              "      <td>70</td>\n",
              "      <td>59</td>\n",
              "      <td>48</td>\n",
              "      <td>30.25</td>\n",
              "      <td>30.21</td>\n",
              "      <td>30.18</td>\n",
              "      <td>10</td>\n",
              "      <td>10</td>\n",
              "      <td>10</td>\n",
              "      <td>16</td>\n",
              "      <td>9</td>\n",
              "      <td>18</td>\n",
              "      <td>0.00</td>\n",
              "      <td>NaN</td>\n",
              "    </tr>\n",
              "    <tr>\n",
              "      <th>8</th>\n",
              "      <td>1</td>\n",
              "      <td>9</td>\n",
              "      <td>53</td>\n",
              "      <td>47</td>\n",
              "      <td>40</td>\n",
              "      <td>46</td>\n",
              "      <td>40</td>\n",
              "      <td>34</td>\n",
              "      <td>86</td>\n",
              "      <td>76</td>\n",
              "      <td>66</td>\n",
              "      <td>30.22</td>\n",
              "      <td>30.16</td>\n",
              "      <td>30.06</td>\n",
              "      <td>10</td>\n",
              "      <td>10</td>\n",
              "      <td>8</td>\n",
              "      <td>21</td>\n",
              "      <td>12</td>\n",
              "      <td>26</td>\n",
              "      <td>0.02</td>\n",
              "      <td>NaN</td>\n",
              "    </tr>\n",
              "    <tr>\n",
              "      <th>9</th>\n",
              "      <td>1</td>\n",
              "      <td>10</td>\n",
              "      <td>58</td>\n",
              "      <td>50</td>\n",
              "      <td>41</td>\n",
              "      <td>55</td>\n",
              "      <td>47</td>\n",
              "      <td>24</td>\n",
              "      <td>96</td>\n",
              "      <td>73</td>\n",
              "      <td>49</td>\n",
              "      <td>30.01</td>\n",
              "      <td>29.57</td>\n",
              "      <td>29.31</td>\n",
              "      <td>10</td>\n",
              "      <td>6</td>\n",
              "      <td>0</td>\n",
              "      <td>35</td>\n",
              "      <td>21</td>\n",
              "      <td>44</td>\n",
              "      <td>1.28</td>\n",
              "      <td>Fog,Rain</td>\n",
              "    </tr>\n",
              "  </tbody>\n",
              "</table>\n",
              "</div>"
            ],
            "text/plain": [
              "   Month  Day  ...  Precipitation (in) - Sum     Event\n",
              "0      1    1  ...                      0.00       NaN\n",
              "1      1    2  ...                      0.00       NaN\n",
              "2      1    3  ...                      0.00       NaN\n",
              "3      1    4  ...                      0.00       NaN\n",
              "4      1    5  ...                      0.00       NaN\n",
              "5      1    6  ...                      0.00       NaN\n",
              "6      1    7  ...                      0.00       NaN\n",
              "7      1    8  ...                      0.00       NaN\n",
              "8      1    9  ...                      0.02       NaN\n",
              "9      1   10  ...                      1.28  Fog,Rain\n",
              "\n",
              "[10 rows x 22 columns]"
            ]
          },
          "metadata": {
            "tags": []
          },
          "execution_count": 10
        }
      ]
    },
    {
      "cell_type": "code",
      "metadata": {
        "id": "epyV1w4L6SKf",
        "colab_type": "code",
        "outputId": "ad11c3d3-a567-4183-c3a2-95a2943e93d4",
        "colab": {
          "base_uri": "https://localhost:8080/",
          "height": 390
        }
      },
      "source": [
        "weather_df.describe()"
      ],
      "execution_count": 11,
      "outputs": [
        {
          "output_type": "execute_result",
          "data": {
            "text/html": [
              "<div>\n",
              "<style scoped>\n",
              "    .dataframe tbody tr th:only-of-type {\n",
              "        vertical-align: middle;\n",
              "    }\n",
              "\n",
              "    .dataframe tbody tr th {\n",
              "        vertical-align: top;\n",
              "    }\n",
              "\n",
              "    .dataframe thead th {\n",
              "        text-align: right;\n",
              "    }\n",
              "</style>\n",
              "<table border=\"1\" class=\"dataframe\">\n",
              "  <thead>\n",
              "    <tr style=\"text-align: right;\">\n",
              "      <th></th>\n",
              "      <th>Month</th>\n",
              "      <th>Day</th>\n",
              "      <th>Temp. (Degrees F) - Max</th>\n",
              "      <th>Temp. (Degrees F) - Avg</th>\n",
              "      <th>Temp. (Degrees F) - Min</th>\n",
              "      <th>Dew Point (Degrees F) - Max</th>\n",
              "      <th>Dew Point (Degrees F) - Avg</th>\n",
              "      <th>Dew Point (Degrees F) - Min</th>\n",
              "      <th>Humidity (%) - Max</th>\n",
              "      <th>Humidity (%) - Avg</th>\n",
              "      <th>Humidity (%) - Min</th>\n",
              "      <th>Sea Level Press. (in) - Max</th>\n",
              "      <th>Sea Level Press. (in) - Avg</th>\n",
              "      <th>Sea Level Press. (in) - Min</th>\n",
              "      <th>Visibility (mi) - Max</th>\n",
              "      <th>Visibility (mi) - Avg</th>\n",
              "      <th>Visibility (mi) - Min</th>\n",
              "      <th>Wind (mph) - Avg</th>\n",
              "      <th>Wind (mph) - Min</th>\n",
              "      <th>Precipitation (in) - Sum</th>\n",
              "    </tr>\n",
              "  </thead>\n",
              "  <tbody>\n",
              "    <tr>\n",
              "      <th>count</th>\n",
              "      <td>366.000000</td>\n",
              "      <td>366.000000</td>\n",
              "      <td>366.000000</td>\n",
              "      <td>366.000000</td>\n",
              "      <td>366.000000</td>\n",
              "      <td>366.000000</td>\n",
              "      <td>366.000000</td>\n",
              "      <td>366.000000</td>\n",
              "      <td>366.000000</td>\n",
              "      <td>366.000000</td>\n",
              "      <td>366.000000</td>\n",
              "      <td>366.000000</td>\n",
              "      <td>366.000000</td>\n",
              "      <td>366.000000</td>\n",
              "      <td>366.000000</td>\n",
              "      <td>366.000000</td>\n",
              "      <td>366.000000</td>\n",
              "      <td>366.000000</td>\n",
              "      <td>366.000000</td>\n",
              "      <td>366.000000</td>\n",
              "    </tr>\n",
              "    <tr>\n",
              "      <th>mean</th>\n",
              "      <td>6.513661</td>\n",
              "      <td>15.756831</td>\n",
              "      <td>64.092896</td>\n",
              "      <td>57.021858</td>\n",
              "      <td>49.426230</td>\n",
              "      <td>49.920765</td>\n",
              "      <td>42.909836</td>\n",
              "      <td>35.734973</td>\n",
              "      <td>81.661202</td>\n",
              "      <td>62.978142</td>\n",
              "      <td>43.748634</td>\n",
              "      <td>30.141366</td>\n",
              "      <td>30.035383</td>\n",
              "      <td>29.933388</td>\n",
              "      <td>9.969945</td>\n",
              "      <td>9.423497</td>\n",
              "      <td>7.527322</td>\n",
              "      <td>22.191257</td>\n",
              "      <td>11.467213</td>\n",
              "      <td>0.097855</td>\n",
              "    </tr>\n",
              "    <tr>\n",
              "      <th>std</th>\n",
              "      <td>3.455958</td>\n",
              "      <td>8.823592</td>\n",
              "      <td>16.977410</td>\n",
              "      <td>16.507186</td>\n",
              "      <td>16.426966</td>\n",
              "      <td>17.743894</td>\n",
              "      <td>18.942597</td>\n",
              "      <td>20.317028</td>\n",
              "      <td>13.906142</td>\n",
              "      <td>13.535122</td>\n",
              "      <td>16.495983</td>\n",
              "      <td>0.194596</td>\n",
              "      <td>0.205746</td>\n",
              "      <td>0.218016</td>\n",
              "      <td>0.446200</td>\n",
              "      <td>1.315199</td>\n",
              "      <td>3.594984</td>\n",
              "      <td>7.152471</td>\n",
              "      <td>4.463277</td>\n",
              "      <td>0.286195</td>\n",
              "    </tr>\n",
              "    <tr>\n",
              "      <th>min</th>\n",
              "      <td>1.000000</td>\n",
              "      <td>1.000000</td>\n",
              "      <td>17.000000</td>\n",
              "      <td>9.000000</td>\n",
              "      <td>1.000000</td>\n",
              "      <td>-8.000000</td>\n",
              "      <td>-15.000000</td>\n",
              "      <td>-19.000000</td>\n",
              "      <td>36.000000</td>\n",
              "      <td>27.000000</td>\n",
              "      <td>11.000000</td>\n",
              "      <td>29.570000</td>\n",
              "      <td>29.350000</td>\n",
              "      <td>29.250000</td>\n",
              "      <td>2.000000</td>\n",
              "      <td>0.000000</td>\n",
              "      <td>0.000000</td>\n",
              "      <td>9.000000</td>\n",
              "      <td>4.000000</td>\n",
              "      <td>0.000000</td>\n",
              "    </tr>\n",
              "    <tr>\n",
              "      <th>25%</th>\n",
              "      <td>4.000000</td>\n",
              "      <td>8.000000</td>\n",
              "      <td>51.000000</td>\n",
              "      <td>44.250000</td>\n",
              "      <td>37.250000</td>\n",
              "      <td>37.000000</td>\n",
              "      <td>28.000000</td>\n",
              "      <td>20.000000</td>\n",
              "      <td>73.000000</td>\n",
              "      <td>53.000000</td>\n",
              "      <td>31.250000</td>\n",
              "      <td>30.010000</td>\n",
              "      <td>29.900000</td>\n",
              "      <td>29.810000</td>\n",
              "      <td>10.000000</td>\n",
              "      <td>10.000000</td>\n",
              "      <td>6.000000</td>\n",
              "      <td>16.000000</td>\n",
              "      <td>8.000000</td>\n",
              "      <td>0.000000</td>\n",
              "    </tr>\n",
              "    <tr>\n",
              "      <th>50%</th>\n",
              "      <td>7.000000</td>\n",
              "      <td>16.000000</td>\n",
              "      <td>64.000000</td>\n",
              "      <td>56.000000</td>\n",
              "      <td>47.500000</td>\n",
              "      <td>51.000000</td>\n",
              "      <td>43.000000</td>\n",
              "      <td>35.000000</td>\n",
              "      <td>86.000000</td>\n",
              "      <td>64.000000</td>\n",
              "      <td>42.000000</td>\n",
              "      <td>30.140000</td>\n",
              "      <td>30.040000</td>\n",
              "      <td>29.940000</td>\n",
              "      <td>10.000000</td>\n",
              "      <td>10.000000</td>\n",
              "      <td>10.000000</td>\n",
              "      <td>21.000000</td>\n",
              "      <td>11.000000</td>\n",
              "      <td>0.000000</td>\n",
              "    </tr>\n",
              "    <tr>\n",
              "      <th>75%</th>\n",
              "      <td>9.750000</td>\n",
              "      <td>23.000000</td>\n",
              "      <td>79.000000</td>\n",
              "      <td>73.000000</td>\n",
              "      <td>64.000000</td>\n",
              "      <td>65.000000</td>\n",
              "      <td>59.000000</td>\n",
              "      <td>52.000000</td>\n",
              "      <td>93.000000</td>\n",
              "      <td>73.000000</td>\n",
              "      <td>55.000000</td>\n",
              "      <td>30.250000</td>\n",
              "      <td>30.167500</td>\n",
              "      <td>30.087500</td>\n",
              "      <td>10.000000</td>\n",
              "      <td>10.000000</td>\n",
              "      <td>10.000000</td>\n",
              "      <td>28.000000</td>\n",
              "      <td>14.000000</td>\n",
              "      <td>0.020000</td>\n",
              "    </tr>\n",
              "    <tr>\n",
              "      <th>max</th>\n",
              "      <td>12.000000</td>\n",
              "      <td>31.000000</td>\n",
              "      <td>98.000000</td>\n",
              "      <td>89.000000</td>\n",
              "      <td>82.000000</td>\n",
              "      <td>84.000000</td>\n",
              "      <td>77.000000</td>\n",
              "      <td>75.000000</td>\n",
              "      <td>100.000000</td>\n",
              "      <td>92.000000</td>\n",
              "      <td>86.000000</td>\n",
              "      <td>30.750000</td>\n",
              "      <td>30.670000</td>\n",
              "      <td>30.500000</td>\n",
              "      <td>10.000000</td>\n",
              "      <td>10.000000</td>\n",
              "      <td>10.000000</td>\n",
              "      <td>49.000000</td>\n",
              "      <td>25.000000</td>\n",
              "      <td>2.900000</td>\n",
              "    </tr>\n",
              "  </tbody>\n",
              "</table>\n",
              "</div>"
            ],
            "text/plain": [
              "            Month         Day  ...  Wind (mph) - Min  Precipitation (in) - Sum\n",
              "count  366.000000  366.000000  ...        366.000000                366.000000\n",
              "mean     6.513661   15.756831  ...         11.467213                  0.097855\n",
              "std      3.455958    8.823592  ...          4.463277                  0.286195\n",
              "min      1.000000    1.000000  ...          4.000000                  0.000000\n",
              "25%      4.000000    8.000000  ...          8.000000                  0.000000\n",
              "50%      7.000000   16.000000  ...         11.000000                  0.000000\n",
              "75%      9.750000   23.000000  ...         14.000000                  0.020000\n",
              "max     12.000000   31.000000  ...         25.000000                  2.900000\n",
              "\n",
              "[8 rows x 20 columns]"
            ]
          },
          "metadata": {
            "tags": []
          },
          "execution_count": 11
        }
      ]
    },
    {
      "cell_type": "markdown",
      "metadata": {
        "id": "vdKqf3UNctag",
        "colab_type": "text"
      },
      "source": [
        "## Data Cleaning"
      ]
    },
    {
      "cell_type": "markdown",
      "metadata": {
        "id": "Mk34kawpltkf",
        "colab_type": "text"
      },
      "source": [
        "Green Taxi Data"
      ]
    },
    {
      "cell_type": "code",
      "metadata": {
        "id": "bLtsJRaGGWqd",
        "colab_type": "code",
        "outputId": "eb4ae2ab-922d-41bf-bec9-f29bc6167d08",
        "colab": {
          "base_uri": "https://localhost:8080/",
          "height": 326
        }
      },
      "source": [
        "taxi_df.isnull().sum().sort_values(ascending = False)"
      ],
      "execution_count": 12,
      "outputs": [
        {
          "output_type": "execute_result",
          "data": {
            "text/plain": [
              "ehail_fee                16385532\n",
              "payment_type                    0\n",
              "total_amount                    0\n",
              "improvement_surcharge           0\n",
              "tolls_amount                    0\n",
              "tip_amount                      0\n",
              "mta_tax                         0\n",
              "extra                           0\n",
              "fare_amount                     0\n",
              "trip_distance                   0\n",
              "passenger_count                 0\n",
              "ratecodeid                      0\n",
              "store_and_fwd_flag              0\n",
              "lpep_dropoff_datetime           0\n",
              "lpep_pickup_datetime            0\n",
              "vendorid                        0\n",
              "dtype: int64"
            ]
          },
          "metadata": {
            "tags": []
          },
          "execution_count": 12
        }
      ]
    },
    {
      "cell_type": "code",
      "metadata": {
        "id": "rQJkT6gwAYqL",
        "colab_type": "code",
        "colab": {}
      },
      "source": [
        "final_taxi_df = taxi_df.drop(columns=['lpep_pickup_datetime', \n",
        "                                      'lpep_dropoff_datetime', \n",
        "                                      'ehail_fee',\n",
        "                                      'payment_type',\n",
        "                                      'tip_amount'])\n",
        "final_taxi_df[\"Date\"] = taxi_df[\"lpep_pickup_datetime\"].apply(lambda x: x.split(' ')[0])\n",
        "final_taxi_df[\"ratecodeid\"] = final_taxi_df[\"ratecodeid\"].astype(str)"
      ],
      "execution_count": 0,
      "outputs": []
    },
    {
      "cell_type": "code",
      "metadata": {
        "id": "Y_riGembG5ZN",
        "colab_type": "code",
        "colab": {
          "base_uri": "https://localhost:8080/",
          "height": 362
        },
        "outputId": "fdd9a73f-9c7d-4913-db64-2486a05b4466"
      },
      "source": [
        "final_taxi_df.info()"
      ],
      "execution_count": 9,
      "outputs": [
        {
          "output_type": "stream",
          "text": [
            "<class 'pandas.core.frame.DataFrame'>\n",
            "RangeIndex: 16385532 entries, 0 to 16385531\n",
            "Data columns (total 12 columns):\n",
            " #   Column                 Dtype  \n",
            "---  ------                 -----  \n",
            " 0   vendorid               int64  \n",
            " 1   store_and_fwd_flag     object \n",
            " 2   ratecodeid             object \n",
            " 3   passenger_count        int64  \n",
            " 4   trip_distance          float64\n",
            " 5   fare_amount            float64\n",
            " 6   extra                  float64\n",
            " 7   mta_tax                float64\n",
            " 8   tolls_amount           float64\n",
            " 9   improvement_surcharge  float64\n",
            " 10  total_amount           float64\n",
            " 11  Date                   object \n",
            "dtypes: float64(7), int64(2), object(3)\n",
            "memory usage: 1.5+ GB\n"
          ],
          "name": "stdout"
        }
      ]
    },
    {
      "cell_type": "code",
      "metadata": {
        "id": "xIjvl7zHuLOn",
        "colab_type": "code",
        "outputId": "3e01cf9c-792c-4541-fa04-83788351eeb8",
        "colab": {
          "base_uri": "https://localhost:8080/",
          "height": 363
        }
      },
      "source": [
        "final_taxi_df.head(10)"
      ],
      "execution_count": 14,
      "outputs": [
        {
          "output_type": "execute_result",
          "data": {
            "text/html": [
              "<div>\n",
              "<style scoped>\n",
              "    .dataframe tbody tr th:only-of-type {\n",
              "        vertical-align: middle;\n",
              "    }\n",
              "\n",
              "    .dataframe tbody tr th {\n",
              "        vertical-align: top;\n",
              "    }\n",
              "\n",
              "    .dataframe thead th {\n",
              "        text-align: right;\n",
              "    }\n",
              "</style>\n",
              "<table border=\"1\" class=\"dataframe\">\n",
              "  <thead>\n",
              "    <tr style=\"text-align: right;\">\n",
              "      <th></th>\n",
              "      <th>vendorid</th>\n",
              "      <th>store_and_fwd_flag</th>\n",
              "      <th>ratecodeid</th>\n",
              "      <th>passenger_count</th>\n",
              "      <th>trip_distance</th>\n",
              "      <th>fare_amount</th>\n",
              "      <th>extra</th>\n",
              "      <th>mta_tax</th>\n",
              "      <th>tolls_amount</th>\n",
              "      <th>improvement_surcharge</th>\n",
              "      <th>total_amount</th>\n",
              "      <th>Date</th>\n",
              "    </tr>\n",
              "  </thead>\n",
              "  <tbody>\n",
              "    <tr>\n",
              "      <th>0</th>\n",
              "      <td>2</td>\n",
              "      <td>N</td>\n",
              "      <td>1</td>\n",
              "      <td>1</td>\n",
              "      <td>1.46</td>\n",
              "      <td>8.0</td>\n",
              "      <td>0.5</td>\n",
              "      <td>0.5</td>\n",
              "      <td>0.0</td>\n",
              "      <td>0.3</td>\n",
              "      <td>11.16</td>\n",
              "      <td>2016-01-01</td>\n",
              "    </tr>\n",
              "    <tr>\n",
              "      <th>1</th>\n",
              "      <td>2</td>\n",
              "      <td>N</td>\n",
              "      <td>1</td>\n",
              "      <td>1</td>\n",
              "      <td>3.56</td>\n",
              "      <td>15.5</td>\n",
              "      <td>0.5</td>\n",
              "      <td>0.5</td>\n",
              "      <td>0.0</td>\n",
              "      <td>0.3</td>\n",
              "      <td>16.80</td>\n",
              "      <td>2016-01-01</td>\n",
              "    </tr>\n",
              "    <tr>\n",
              "      <th>2</th>\n",
              "      <td>2</td>\n",
              "      <td>N</td>\n",
              "      <td>1</td>\n",
              "      <td>1</td>\n",
              "      <td>3.79</td>\n",
              "      <td>16.5</td>\n",
              "      <td>0.5</td>\n",
              "      <td>0.5</td>\n",
              "      <td>0.0</td>\n",
              "      <td>0.3</td>\n",
              "      <td>22.25</td>\n",
              "      <td>2016-01-01</td>\n",
              "    </tr>\n",
              "    <tr>\n",
              "      <th>3</th>\n",
              "      <td>2</td>\n",
              "      <td>N</td>\n",
              "      <td>1</td>\n",
              "      <td>1</td>\n",
              "      <td>3.01</td>\n",
              "      <td>13.5</td>\n",
              "      <td>0.5</td>\n",
              "      <td>0.5</td>\n",
              "      <td>0.0</td>\n",
              "      <td>0.3</td>\n",
              "      <td>14.80</td>\n",
              "      <td>2016-01-01</td>\n",
              "    </tr>\n",
              "    <tr>\n",
              "      <th>4</th>\n",
              "      <td>2</td>\n",
              "      <td>N</td>\n",
              "      <td>1</td>\n",
              "      <td>1</td>\n",
              "      <td>2.55</td>\n",
              "      <td>12.0</td>\n",
              "      <td>0.5</td>\n",
              "      <td>0.5</td>\n",
              "      <td>0.0</td>\n",
              "      <td>0.3</td>\n",
              "      <td>13.30</td>\n",
              "      <td>2016-01-01</td>\n",
              "    </tr>\n",
              "    <tr>\n",
              "      <th>5</th>\n",
              "      <td>2</td>\n",
              "      <td>N</td>\n",
              "      <td>1</td>\n",
              "      <td>1</td>\n",
              "      <td>1.37</td>\n",
              "      <td>7.0</td>\n",
              "      <td>0.5</td>\n",
              "      <td>0.5</td>\n",
              "      <td>0.0</td>\n",
              "      <td>0.3</td>\n",
              "      <td>8.30</td>\n",
              "      <td>2016-01-01</td>\n",
              "    </tr>\n",
              "    <tr>\n",
              "      <th>6</th>\n",
              "      <td>2</td>\n",
              "      <td>N</td>\n",
              "      <td>1</td>\n",
              "      <td>1</td>\n",
              "      <td>0.57</td>\n",
              "      <td>5.0</td>\n",
              "      <td>0.5</td>\n",
              "      <td>0.5</td>\n",
              "      <td>0.0</td>\n",
              "      <td>0.3</td>\n",
              "      <td>6.30</td>\n",
              "      <td>2016-01-01</td>\n",
              "    </tr>\n",
              "    <tr>\n",
              "      <th>7</th>\n",
              "      <td>2</td>\n",
              "      <td>N</td>\n",
              "      <td>1</td>\n",
              "      <td>1</td>\n",
              "      <td>1.01</td>\n",
              "      <td>7.0</td>\n",
              "      <td>0.5</td>\n",
              "      <td>0.5</td>\n",
              "      <td>0.0</td>\n",
              "      <td>0.3</td>\n",
              "      <td>8.30</td>\n",
              "      <td>2016-01-01</td>\n",
              "    </tr>\n",
              "    <tr>\n",
              "      <th>8</th>\n",
              "      <td>2</td>\n",
              "      <td>N</td>\n",
              "      <td>1</td>\n",
              "      <td>1</td>\n",
              "      <td>2.46</td>\n",
              "      <td>12.0</td>\n",
              "      <td>0.5</td>\n",
              "      <td>0.5</td>\n",
              "      <td>0.0</td>\n",
              "      <td>0.3</td>\n",
              "      <td>15.30</td>\n",
              "      <td>2016-01-01</td>\n",
              "    </tr>\n",
              "    <tr>\n",
              "      <th>9</th>\n",
              "      <td>2</td>\n",
              "      <td>N</td>\n",
              "      <td>1</td>\n",
              "      <td>1</td>\n",
              "      <td>1.61</td>\n",
              "      <td>9.0</td>\n",
              "      <td>0.5</td>\n",
              "      <td>0.5</td>\n",
              "      <td>0.0</td>\n",
              "      <td>0.3</td>\n",
              "      <td>11.90</td>\n",
              "      <td>2016-01-01</td>\n",
              "    </tr>\n",
              "  </tbody>\n",
              "</table>\n",
              "</div>"
            ],
            "text/plain": [
              "   vendorid store_and_fwd_flag  ... total_amount        Date\n",
              "0         2                  N  ...        11.16  2016-01-01\n",
              "1         2                  N  ...        16.80  2016-01-01\n",
              "2         2                  N  ...        22.25  2016-01-01\n",
              "3         2                  N  ...        14.80  2016-01-01\n",
              "4         2                  N  ...        13.30  2016-01-01\n",
              "5         2                  N  ...         8.30  2016-01-01\n",
              "6         2                  N  ...         6.30  2016-01-01\n",
              "7         2                  N  ...         8.30  2016-01-01\n",
              "8         2                  N  ...        15.30  2016-01-01\n",
              "9         2                  N  ...        11.90  2016-01-01\n",
              "\n",
              "[10 rows x 12 columns]"
            ]
          },
          "metadata": {
            "tags": []
          },
          "execution_count": 14
        }
      ]
    },
    {
      "cell_type": "markdown",
      "metadata": {
        "id": "-7xnYTPidI4d",
        "colab_type": "text"
      },
      "source": [
        "Categorical Fields: vendorid, ratecodeid, store_and_fwd_flag"
      ]
    },
    {
      "cell_type": "markdown",
      "metadata": {
        "id": "KVbW1aCzlwZT",
        "colab_type": "text"
      },
      "source": [
        "Weather Data"
      ]
    },
    {
      "cell_type": "code",
      "metadata": {
        "id": "oVsVfbnflymP",
        "colab_type": "code",
        "outputId": "ab1306ef-770d-453b-ac9b-61014b998aa0",
        "colab": {
          "base_uri": "https://localhost:8080/",
          "height": 435
        }
      },
      "source": [
        "weather_df.isnull().sum().sort_values(ascending = False)"
      ],
      "execution_count": 15,
      "outputs": [
        {
          "output_type": "execute_result",
          "data": {
            "text/plain": [
              "Event                          215\n",
              "Precipitation (in) - Sum         0\n",
              "Day                              0\n",
              "Temp. (Degrees F) - Max          0\n",
              "Temp. (Degrees F) - Avg          0\n",
              "Temp. (Degrees F) - Min          0\n",
              "Dew Point (Degrees F) - Max      0\n",
              "Dew Point (Degrees F) - Avg      0\n",
              "Dew Point (Degrees F) - Min      0\n",
              "Humidity (%) - Max               0\n",
              "Humidity (%) - Avg               0\n",
              "Humidity (%) - Min               0\n",
              "Sea Level Press. (in) - Max      0\n",
              "Sea Level Press. (in) - Avg      0\n",
              "Sea Level Press. (in) - Min      0\n",
              "Visibility (mi) - Max            0\n",
              "Visibility (mi) - Avg            0\n",
              "Visibility (mi) - Min            0\n",
              "Wind (mph) - Avg                 0\n",
              "Wind (mph) - Min                 0\n",
              "Wind (mph) - Max                 0\n",
              "Month                            0\n",
              "dtype: int64"
            ]
          },
          "metadata": {
            "tags": []
          },
          "execution_count": 15
        }
      ]
    },
    {
      "cell_type": "code",
      "metadata": {
        "id": "I6gt0DMgl421",
        "colab_type": "code",
        "colab": {}
      },
      "source": [
        "final_weather_df = weather_df.drop(columns=['Event'])\n",
        "final_weather_df[\"Day\"] = final_weather_df[\"Day\"].replace([1,2,3,4,5,6,7,8,9], ['01','02','03','04','05','06','07', '08', '09'])\n",
        "final_weather_df[\"Month\"] = final_weather_df[\"Month\"].replace([1,2,3,4,5,6,7,8,9], ['01','02','03','04','05','06','07', '08', '09'])\n",
        "final_weather_df[\"Date\"] = \"2016-\" + final_weather_df[\"Month\"].astype(str) + \"-\" + final_weather_df[\"Day\"].astype(str)\n",
        "final_weather_df = final_weather_df.drop(columns=['Day', 'Month'])\n",
        "final_weather_df = final_weather_df[(final_weather_df['Wind (mph) - Max']!='-')]\n",
        "final_weather_df[\"Wind (mph) - Max\"] = final_weather_df[\"Wind (mph) - Max\"].astype(int)"
      ],
      "execution_count": 0,
      "outputs": []
    },
    {
      "cell_type": "code",
      "metadata": {
        "id": "9-ogwd1jG-OM",
        "colab_type": "code",
        "colab": {
          "base_uri": "https://localhost:8080/",
          "height": 508
        },
        "outputId": "a3eed1fb-5224-470f-f38b-da6f2ddf349f"
      },
      "source": [
        "final_weather_df.info()"
      ],
      "execution_count": 11,
      "outputs": [
        {
          "output_type": "stream",
          "text": [
            "<class 'pandas.core.frame.DataFrame'>\n",
            "Int64Index: 360 entries, 0 to 365\n",
            "Data columns (total 20 columns):\n",
            " #   Column                       Non-Null Count  Dtype  \n",
            "---  ------                       --------------  -----  \n",
            " 0   Temp. (Degrees F) - Max      360 non-null    int64  \n",
            " 1   Temp. (Degrees F) - Avg      360 non-null    int64  \n",
            " 2   Temp. (Degrees F) - Min      360 non-null    int64  \n",
            " 3   Dew Point (Degrees F) - Max  360 non-null    int64  \n",
            " 4   Dew Point (Degrees F) - Avg  360 non-null    int64  \n",
            " 5   Dew Point (Degrees F) - Min  360 non-null    int64  \n",
            " 6   Humidity (%) - Max           360 non-null    int64  \n",
            " 7   Humidity (%) - Avg           360 non-null    int64  \n",
            " 8   Humidity (%) - Min           360 non-null    int64  \n",
            " 9   Sea Level Press. (in) - Max  360 non-null    float64\n",
            " 10  Sea Level Press. (in) - Avg  360 non-null    float64\n",
            " 11  Sea Level Press. (in) - Min  360 non-null    float64\n",
            " 12  Visibility (mi) - Max        360 non-null    int64  \n",
            " 13  Visibility (mi) - Avg        360 non-null    int64  \n",
            " 14  Visibility (mi) - Min        360 non-null    int64  \n",
            " 15  Wind (mph) - Avg             360 non-null    int64  \n",
            " 16  Wind (mph) - Min             360 non-null    int64  \n",
            " 17  Wind (mph) - Max             360 non-null    int64  \n",
            " 18  Precipitation (in) - Sum     360 non-null    float64\n",
            " 19  Date                         360 non-null    object \n",
            "dtypes: float64(4), int64(15), object(1)\n",
            "memory usage: 59.1+ KB\n"
          ],
          "name": "stdout"
        }
      ]
    },
    {
      "cell_type": "code",
      "metadata": {
        "id": "76LhYT7iRvwq",
        "colab_type": "code",
        "outputId": "11b50269-6726-4ae4-d6fd-15d3987928a7",
        "colab": {
          "base_uri": "https://localhost:8080/",
          "height": 452
        }
      },
      "source": [
        "final_weather_df.head(10)"
      ],
      "execution_count": 12,
      "outputs": [
        {
          "output_type": "execute_result",
          "data": {
            "text/html": [
              "<div>\n",
              "<style scoped>\n",
              "    .dataframe tbody tr th:only-of-type {\n",
              "        vertical-align: middle;\n",
              "    }\n",
              "\n",
              "    .dataframe tbody tr th {\n",
              "        vertical-align: top;\n",
              "    }\n",
              "\n",
              "    .dataframe thead th {\n",
              "        text-align: right;\n",
              "    }\n",
              "</style>\n",
              "<table border=\"1\" class=\"dataframe\">\n",
              "  <thead>\n",
              "    <tr style=\"text-align: right;\">\n",
              "      <th></th>\n",
              "      <th>Temp. (Degrees F) - Max</th>\n",
              "      <th>Temp. (Degrees F) - Avg</th>\n",
              "      <th>Temp. (Degrees F) - Min</th>\n",
              "      <th>Dew Point (Degrees F) - Max</th>\n",
              "      <th>Dew Point (Degrees F) - Avg</th>\n",
              "      <th>Dew Point (Degrees F) - Min</th>\n",
              "      <th>Humidity (%) - Max</th>\n",
              "      <th>Humidity (%) - Avg</th>\n",
              "      <th>Humidity (%) - Min</th>\n",
              "      <th>Sea Level Press. (in) - Max</th>\n",
              "      <th>Sea Level Press. (in) - Avg</th>\n",
              "      <th>Sea Level Press. (in) - Min</th>\n",
              "      <th>Visibility (mi) - Max</th>\n",
              "      <th>Visibility (mi) - Avg</th>\n",
              "      <th>Visibility (mi) - Min</th>\n",
              "      <th>Wind (mph) - Avg</th>\n",
              "      <th>Wind (mph) - Min</th>\n",
              "      <th>Wind (mph) - Max</th>\n",
              "      <th>Precipitation (in) - Sum</th>\n",
              "      <th>Date</th>\n",
              "    </tr>\n",
              "  </thead>\n",
              "  <tbody>\n",
              "    <tr>\n",
              "      <th>0</th>\n",
              "      <td>44</td>\n",
              "      <td>40</td>\n",
              "      <td>36</td>\n",
              "      <td>28</td>\n",
              "      <td>24</td>\n",
              "      <td>18</td>\n",
              "      <td>59</td>\n",
              "      <td>50</td>\n",
              "      <td>40</td>\n",
              "      <td>30.08</td>\n",
              "      <td>30.04</td>\n",
              "      <td>29.99</td>\n",
              "      <td>10</td>\n",
              "      <td>10</td>\n",
              "      <td>10</td>\n",
              "      <td>28</td>\n",
              "      <td>15</td>\n",
              "      <td>33</td>\n",
              "      <td>0.00</td>\n",
              "      <td>2016-01-01</td>\n",
              "    </tr>\n",
              "    <tr>\n",
              "      <th>1</th>\n",
              "      <td>41</td>\n",
              "      <td>38</td>\n",
              "      <td>34</td>\n",
              "      <td>22</td>\n",
              "      <td>19</td>\n",
              "      <td>17</td>\n",
              "      <td>52</td>\n",
              "      <td>47</td>\n",
              "      <td>41</td>\n",
              "      <td>30.12</td>\n",
              "      <td>30.04</td>\n",
              "      <td>29.98</td>\n",
              "      <td>10</td>\n",
              "      <td>10</td>\n",
              "      <td>10</td>\n",
              "      <td>24</td>\n",
              "      <td>13</td>\n",
              "      <td>30</td>\n",
              "      <td>0.00</td>\n",
              "      <td>2016-01-02</td>\n",
              "    </tr>\n",
              "    <tr>\n",
              "      <th>2</th>\n",
              "      <td>48</td>\n",
              "      <td>42</td>\n",
              "      <td>35</td>\n",
              "      <td>27</td>\n",
              "      <td>23</td>\n",
              "      <td>21</td>\n",
              "      <td>64</td>\n",
              "      <td>49</td>\n",
              "      <td>34</td>\n",
              "      <td>29.96</td>\n",
              "      <td>29.88</td>\n",
              "      <td>29.80</td>\n",
              "      <td>10</td>\n",
              "      <td>10</td>\n",
              "      <td>10</td>\n",
              "      <td>23</td>\n",
              "      <td>14</td>\n",
              "      <td>29</td>\n",
              "      <td>0.00</td>\n",
              "      <td>2016-01-03</td>\n",
              "    </tr>\n",
              "    <tr>\n",
              "      <th>3</th>\n",
              "      <td>38</td>\n",
              "      <td>27</td>\n",
              "      <td>15</td>\n",
              "      <td>25</td>\n",
              "      <td>10</td>\n",
              "      <td>-1</td>\n",
              "      <td>59</td>\n",
              "      <td>44</td>\n",
              "      <td>29</td>\n",
              "      <td>30.32</td>\n",
              "      <td>30.05</td>\n",
              "      <td>29.89</td>\n",
              "      <td>10</td>\n",
              "      <td>10</td>\n",
              "      <td>10</td>\n",
              "      <td>31</td>\n",
              "      <td>20</td>\n",
              "      <td>39</td>\n",
              "      <td>0.00</td>\n",
              "      <td>2016-01-04</td>\n",
              "    </tr>\n",
              "    <tr>\n",
              "      <th>4</th>\n",
              "      <td>29</td>\n",
              "      <td>21</td>\n",
              "      <td>12</td>\n",
              "      <td>10</td>\n",
              "      <td>-2</td>\n",
              "      <td>-7</td>\n",
              "      <td>58</td>\n",
              "      <td>40</td>\n",
              "      <td>21</td>\n",
              "      <td>30.64</td>\n",
              "      <td>30.58</td>\n",
              "      <td>30.45</td>\n",
              "      <td>10</td>\n",
              "      <td>10</td>\n",
              "      <td>10</td>\n",
              "      <td>28</td>\n",
              "      <td>12</td>\n",
              "      <td>38</td>\n",
              "      <td>0.00</td>\n",
              "      <td>2016-01-05</td>\n",
              "    </tr>\n",
              "    <tr>\n",
              "      <th>5</th>\n",
              "      <td>40</td>\n",
              "      <td>31</td>\n",
              "      <td>21</td>\n",
              "      <td>19</td>\n",
              "      <td>12</td>\n",
              "      <td>5</td>\n",
              "      <td>63</td>\n",
              "      <td>44</td>\n",
              "      <td>25</td>\n",
              "      <td>30.61</td>\n",
              "      <td>30.53</td>\n",
              "      <td>30.43</td>\n",
              "      <td>10</td>\n",
              "      <td>10</td>\n",
              "      <td>10</td>\n",
              "      <td>14</td>\n",
              "      <td>8</td>\n",
              "      <td>17</td>\n",
              "      <td>0.00</td>\n",
              "      <td>2016-01-06</td>\n",
              "    </tr>\n",
              "    <tr>\n",
              "      <th>6</th>\n",
              "      <td>46</td>\n",
              "      <td>37</td>\n",
              "      <td>27</td>\n",
              "      <td>20</td>\n",
              "      <td>14</td>\n",
              "      <td>8</td>\n",
              "      <td>58</td>\n",
              "      <td>40</td>\n",
              "      <td>22</td>\n",
              "      <td>30.40</td>\n",
              "      <td>30.30</td>\n",
              "      <td>30.20</td>\n",
              "      <td>10</td>\n",
              "      <td>10</td>\n",
              "      <td>10</td>\n",
              "      <td>13</td>\n",
              "      <td>4</td>\n",
              "      <td>15</td>\n",
              "      <td>0.00</td>\n",
              "      <td>2016-01-07</td>\n",
              "    </tr>\n",
              "    <tr>\n",
              "      <th>7</th>\n",
              "      <td>47</td>\n",
              "      <td>40</td>\n",
              "      <td>32</td>\n",
              "      <td>34</td>\n",
              "      <td>29</td>\n",
              "      <td>21</td>\n",
              "      <td>70</td>\n",
              "      <td>59</td>\n",
              "      <td>48</td>\n",
              "      <td>30.25</td>\n",
              "      <td>30.21</td>\n",
              "      <td>30.18</td>\n",
              "      <td>10</td>\n",
              "      <td>10</td>\n",
              "      <td>10</td>\n",
              "      <td>16</td>\n",
              "      <td>9</td>\n",
              "      <td>18</td>\n",
              "      <td>0.00</td>\n",
              "      <td>2016-01-08</td>\n",
              "    </tr>\n",
              "    <tr>\n",
              "      <th>8</th>\n",
              "      <td>53</td>\n",
              "      <td>47</td>\n",
              "      <td>40</td>\n",
              "      <td>46</td>\n",
              "      <td>40</td>\n",
              "      <td>34</td>\n",
              "      <td>86</td>\n",
              "      <td>76</td>\n",
              "      <td>66</td>\n",
              "      <td>30.22</td>\n",
              "      <td>30.16</td>\n",
              "      <td>30.06</td>\n",
              "      <td>10</td>\n",
              "      <td>10</td>\n",
              "      <td>8</td>\n",
              "      <td>21</td>\n",
              "      <td>12</td>\n",
              "      <td>26</td>\n",
              "      <td>0.02</td>\n",
              "      <td>2016-01-09</td>\n",
              "    </tr>\n",
              "    <tr>\n",
              "      <th>9</th>\n",
              "      <td>58</td>\n",
              "      <td>50</td>\n",
              "      <td>41</td>\n",
              "      <td>55</td>\n",
              "      <td>47</td>\n",
              "      <td>24</td>\n",
              "      <td>96</td>\n",
              "      <td>73</td>\n",
              "      <td>49</td>\n",
              "      <td>30.01</td>\n",
              "      <td>29.57</td>\n",
              "      <td>29.31</td>\n",
              "      <td>10</td>\n",
              "      <td>6</td>\n",
              "      <td>0</td>\n",
              "      <td>35</td>\n",
              "      <td>21</td>\n",
              "      <td>44</td>\n",
              "      <td>1.28</td>\n",
              "      <td>2016-01-10</td>\n",
              "    </tr>\n",
              "  </tbody>\n",
              "</table>\n",
              "</div>"
            ],
            "text/plain": [
              "   Temp. (Degrees F) - Max  ...        Date\n",
              "0                       44  ...  2016-01-01\n",
              "1                       41  ...  2016-01-02\n",
              "2                       48  ...  2016-01-03\n",
              "3                       38  ...  2016-01-04\n",
              "4                       29  ...  2016-01-05\n",
              "5                       40  ...  2016-01-06\n",
              "6                       46  ...  2016-01-07\n",
              "7                       47  ...  2016-01-08\n",
              "8                       53  ...  2016-01-09\n",
              "9                       58  ...  2016-01-10\n",
              "\n",
              "[10 rows x 20 columns]"
            ]
          },
          "metadata": {
            "tags": []
          },
          "execution_count": 12
        }
      ]
    },
    {
      "cell_type": "markdown",
      "metadata": {
        "id": "KAcnJTaspE78",
        "colab_type": "text"
      },
      "source": [
        "Merging Data"
      ]
    },
    {
      "cell_type": "code",
      "metadata": {
        "id": "Ow4un_pqmmTZ",
        "colab_type": "code",
        "colab": {}
      },
      "source": [
        "final_df = final_taxi_df.merge(right=final_weather_df, on='Date')"
      ],
      "execution_count": 0,
      "outputs": []
    },
    {
      "cell_type": "code",
      "metadata": {
        "id": "eUFMaMuhHDLc",
        "colab_type": "code",
        "colab": {
          "base_uri": "https://localhost:8080/",
          "height": 452
        },
        "outputId": "024effa0-b7d7-40b0-a960-6c4ba10631f6"
      },
      "source": [
        "final_df.head(10)"
      ],
      "execution_count": 14,
      "outputs": [
        {
          "output_type": "execute_result",
          "data": {
            "text/html": [
              "<div>\n",
              "<style scoped>\n",
              "    .dataframe tbody tr th:only-of-type {\n",
              "        vertical-align: middle;\n",
              "    }\n",
              "\n",
              "    .dataframe tbody tr th {\n",
              "        vertical-align: top;\n",
              "    }\n",
              "\n",
              "    .dataframe thead th {\n",
              "        text-align: right;\n",
              "    }\n",
              "</style>\n",
              "<table border=\"1\" class=\"dataframe\">\n",
              "  <thead>\n",
              "    <tr style=\"text-align: right;\">\n",
              "      <th></th>\n",
              "      <th>vendorid</th>\n",
              "      <th>store_and_fwd_flag</th>\n",
              "      <th>ratecodeid</th>\n",
              "      <th>passenger_count</th>\n",
              "      <th>trip_distance</th>\n",
              "      <th>fare_amount</th>\n",
              "      <th>extra</th>\n",
              "      <th>mta_tax</th>\n",
              "      <th>tolls_amount</th>\n",
              "      <th>improvement_surcharge</th>\n",
              "      <th>total_amount</th>\n",
              "      <th>Date</th>\n",
              "      <th>Temp. (Degrees F) - Max</th>\n",
              "      <th>Temp. (Degrees F) - Avg</th>\n",
              "      <th>Temp. (Degrees F) - Min</th>\n",
              "      <th>Dew Point (Degrees F) - Max</th>\n",
              "      <th>Dew Point (Degrees F) - Avg</th>\n",
              "      <th>Dew Point (Degrees F) - Min</th>\n",
              "      <th>Humidity (%) - Max</th>\n",
              "      <th>Humidity (%) - Avg</th>\n",
              "      <th>Humidity (%) - Min</th>\n",
              "      <th>Sea Level Press. (in) - Max</th>\n",
              "      <th>Sea Level Press. (in) - Avg</th>\n",
              "      <th>Sea Level Press. (in) - Min</th>\n",
              "      <th>Visibility (mi) - Max</th>\n",
              "      <th>Visibility (mi) - Avg</th>\n",
              "      <th>Visibility (mi) - Min</th>\n",
              "      <th>Wind (mph) - Avg</th>\n",
              "      <th>Wind (mph) - Min</th>\n",
              "      <th>Wind (mph) - Max</th>\n",
              "      <th>Precipitation (in) - Sum</th>\n",
              "    </tr>\n",
              "  </thead>\n",
              "  <tbody>\n",
              "    <tr>\n",
              "      <th>0</th>\n",
              "      <td>2</td>\n",
              "      <td>N</td>\n",
              "      <td>1</td>\n",
              "      <td>1</td>\n",
              "      <td>1.46</td>\n",
              "      <td>8.0</td>\n",
              "      <td>0.5</td>\n",
              "      <td>0.5</td>\n",
              "      <td>0.0</td>\n",
              "      <td>0.3</td>\n",
              "      <td>11.16</td>\n",
              "      <td>2016-01-01</td>\n",
              "      <td>44</td>\n",
              "      <td>40</td>\n",
              "      <td>36</td>\n",
              "      <td>28</td>\n",
              "      <td>24</td>\n",
              "      <td>18</td>\n",
              "      <td>59</td>\n",
              "      <td>50</td>\n",
              "      <td>40</td>\n",
              "      <td>30.08</td>\n",
              "      <td>30.04</td>\n",
              "      <td>29.99</td>\n",
              "      <td>10</td>\n",
              "      <td>10</td>\n",
              "      <td>10</td>\n",
              "      <td>28</td>\n",
              "      <td>15</td>\n",
              "      <td>33</td>\n",
              "      <td>0.0</td>\n",
              "    </tr>\n",
              "    <tr>\n",
              "      <th>1</th>\n",
              "      <td>2</td>\n",
              "      <td>N</td>\n",
              "      <td>1</td>\n",
              "      <td>1</td>\n",
              "      <td>3.56</td>\n",
              "      <td>15.5</td>\n",
              "      <td>0.5</td>\n",
              "      <td>0.5</td>\n",
              "      <td>0.0</td>\n",
              "      <td>0.3</td>\n",
              "      <td>16.80</td>\n",
              "      <td>2016-01-01</td>\n",
              "      <td>44</td>\n",
              "      <td>40</td>\n",
              "      <td>36</td>\n",
              "      <td>28</td>\n",
              "      <td>24</td>\n",
              "      <td>18</td>\n",
              "      <td>59</td>\n",
              "      <td>50</td>\n",
              "      <td>40</td>\n",
              "      <td>30.08</td>\n",
              "      <td>30.04</td>\n",
              "      <td>29.99</td>\n",
              "      <td>10</td>\n",
              "      <td>10</td>\n",
              "      <td>10</td>\n",
              "      <td>28</td>\n",
              "      <td>15</td>\n",
              "      <td>33</td>\n",
              "      <td>0.0</td>\n",
              "    </tr>\n",
              "    <tr>\n",
              "      <th>2</th>\n",
              "      <td>2</td>\n",
              "      <td>N</td>\n",
              "      <td>1</td>\n",
              "      <td>1</td>\n",
              "      <td>3.79</td>\n",
              "      <td>16.5</td>\n",
              "      <td>0.5</td>\n",
              "      <td>0.5</td>\n",
              "      <td>0.0</td>\n",
              "      <td>0.3</td>\n",
              "      <td>22.25</td>\n",
              "      <td>2016-01-01</td>\n",
              "      <td>44</td>\n",
              "      <td>40</td>\n",
              "      <td>36</td>\n",
              "      <td>28</td>\n",
              "      <td>24</td>\n",
              "      <td>18</td>\n",
              "      <td>59</td>\n",
              "      <td>50</td>\n",
              "      <td>40</td>\n",
              "      <td>30.08</td>\n",
              "      <td>30.04</td>\n",
              "      <td>29.99</td>\n",
              "      <td>10</td>\n",
              "      <td>10</td>\n",
              "      <td>10</td>\n",
              "      <td>28</td>\n",
              "      <td>15</td>\n",
              "      <td>33</td>\n",
              "      <td>0.0</td>\n",
              "    </tr>\n",
              "    <tr>\n",
              "      <th>3</th>\n",
              "      <td>2</td>\n",
              "      <td>N</td>\n",
              "      <td>1</td>\n",
              "      <td>1</td>\n",
              "      <td>3.01</td>\n",
              "      <td>13.5</td>\n",
              "      <td>0.5</td>\n",
              "      <td>0.5</td>\n",
              "      <td>0.0</td>\n",
              "      <td>0.3</td>\n",
              "      <td>14.80</td>\n",
              "      <td>2016-01-01</td>\n",
              "      <td>44</td>\n",
              "      <td>40</td>\n",
              "      <td>36</td>\n",
              "      <td>28</td>\n",
              "      <td>24</td>\n",
              "      <td>18</td>\n",
              "      <td>59</td>\n",
              "      <td>50</td>\n",
              "      <td>40</td>\n",
              "      <td>30.08</td>\n",
              "      <td>30.04</td>\n",
              "      <td>29.99</td>\n",
              "      <td>10</td>\n",
              "      <td>10</td>\n",
              "      <td>10</td>\n",
              "      <td>28</td>\n",
              "      <td>15</td>\n",
              "      <td>33</td>\n",
              "      <td>0.0</td>\n",
              "    </tr>\n",
              "    <tr>\n",
              "      <th>4</th>\n",
              "      <td>2</td>\n",
              "      <td>N</td>\n",
              "      <td>1</td>\n",
              "      <td>1</td>\n",
              "      <td>2.55</td>\n",
              "      <td>12.0</td>\n",
              "      <td>0.5</td>\n",
              "      <td>0.5</td>\n",
              "      <td>0.0</td>\n",
              "      <td>0.3</td>\n",
              "      <td>13.30</td>\n",
              "      <td>2016-01-01</td>\n",
              "      <td>44</td>\n",
              "      <td>40</td>\n",
              "      <td>36</td>\n",
              "      <td>28</td>\n",
              "      <td>24</td>\n",
              "      <td>18</td>\n",
              "      <td>59</td>\n",
              "      <td>50</td>\n",
              "      <td>40</td>\n",
              "      <td>30.08</td>\n",
              "      <td>30.04</td>\n",
              "      <td>29.99</td>\n",
              "      <td>10</td>\n",
              "      <td>10</td>\n",
              "      <td>10</td>\n",
              "      <td>28</td>\n",
              "      <td>15</td>\n",
              "      <td>33</td>\n",
              "      <td>0.0</td>\n",
              "    </tr>\n",
              "    <tr>\n",
              "      <th>5</th>\n",
              "      <td>2</td>\n",
              "      <td>N</td>\n",
              "      <td>1</td>\n",
              "      <td>1</td>\n",
              "      <td>1.37</td>\n",
              "      <td>7.0</td>\n",
              "      <td>0.5</td>\n",
              "      <td>0.5</td>\n",
              "      <td>0.0</td>\n",
              "      <td>0.3</td>\n",
              "      <td>8.30</td>\n",
              "      <td>2016-01-01</td>\n",
              "      <td>44</td>\n",
              "      <td>40</td>\n",
              "      <td>36</td>\n",
              "      <td>28</td>\n",
              "      <td>24</td>\n",
              "      <td>18</td>\n",
              "      <td>59</td>\n",
              "      <td>50</td>\n",
              "      <td>40</td>\n",
              "      <td>30.08</td>\n",
              "      <td>30.04</td>\n",
              "      <td>29.99</td>\n",
              "      <td>10</td>\n",
              "      <td>10</td>\n",
              "      <td>10</td>\n",
              "      <td>28</td>\n",
              "      <td>15</td>\n",
              "      <td>33</td>\n",
              "      <td>0.0</td>\n",
              "    </tr>\n",
              "    <tr>\n",
              "      <th>6</th>\n",
              "      <td>2</td>\n",
              "      <td>N</td>\n",
              "      <td>1</td>\n",
              "      <td>1</td>\n",
              "      <td>0.57</td>\n",
              "      <td>5.0</td>\n",
              "      <td>0.5</td>\n",
              "      <td>0.5</td>\n",
              "      <td>0.0</td>\n",
              "      <td>0.3</td>\n",
              "      <td>6.30</td>\n",
              "      <td>2016-01-01</td>\n",
              "      <td>44</td>\n",
              "      <td>40</td>\n",
              "      <td>36</td>\n",
              "      <td>28</td>\n",
              "      <td>24</td>\n",
              "      <td>18</td>\n",
              "      <td>59</td>\n",
              "      <td>50</td>\n",
              "      <td>40</td>\n",
              "      <td>30.08</td>\n",
              "      <td>30.04</td>\n",
              "      <td>29.99</td>\n",
              "      <td>10</td>\n",
              "      <td>10</td>\n",
              "      <td>10</td>\n",
              "      <td>28</td>\n",
              "      <td>15</td>\n",
              "      <td>33</td>\n",
              "      <td>0.0</td>\n",
              "    </tr>\n",
              "    <tr>\n",
              "      <th>7</th>\n",
              "      <td>2</td>\n",
              "      <td>N</td>\n",
              "      <td>1</td>\n",
              "      <td>1</td>\n",
              "      <td>1.01</td>\n",
              "      <td>7.0</td>\n",
              "      <td>0.5</td>\n",
              "      <td>0.5</td>\n",
              "      <td>0.0</td>\n",
              "      <td>0.3</td>\n",
              "      <td>8.30</td>\n",
              "      <td>2016-01-01</td>\n",
              "      <td>44</td>\n",
              "      <td>40</td>\n",
              "      <td>36</td>\n",
              "      <td>28</td>\n",
              "      <td>24</td>\n",
              "      <td>18</td>\n",
              "      <td>59</td>\n",
              "      <td>50</td>\n",
              "      <td>40</td>\n",
              "      <td>30.08</td>\n",
              "      <td>30.04</td>\n",
              "      <td>29.99</td>\n",
              "      <td>10</td>\n",
              "      <td>10</td>\n",
              "      <td>10</td>\n",
              "      <td>28</td>\n",
              "      <td>15</td>\n",
              "      <td>33</td>\n",
              "      <td>0.0</td>\n",
              "    </tr>\n",
              "    <tr>\n",
              "      <th>8</th>\n",
              "      <td>2</td>\n",
              "      <td>N</td>\n",
              "      <td>1</td>\n",
              "      <td>1</td>\n",
              "      <td>2.46</td>\n",
              "      <td>12.0</td>\n",
              "      <td>0.5</td>\n",
              "      <td>0.5</td>\n",
              "      <td>0.0</td>\n",
              "      <td>0.3</td>\n",
              "      <td>15.30</td>\n",
              "      <td>2016-01-01</td>\n",
              "      <td>44</td>\n",
              "      <td>40</td>\n",
              "      <td>36</td>\n",
              "      <td>28</td>\n",
              "      <td>24</td>\n",
              "      <td>18</td>\n",
              "      <td>59</td>\n",
              "      <td>50</td>\n",
              "      <td>40</td>\n",
              "      <td>30.08</td>\n",
              "      <td>30.04</td>\n",
              "      <td>29.99</td>\n",
              "      <td>10</td>\n",
              "      <td>10</td>\n",
              "      <td>10</td>\n",
              "      <td>28</td>\n",
              "      <td>15</td>\n",
              "      <td>33</td>\n",
              "      <td>0.0</td>\n",
              "    </tr>\n",
              "    <tr>\n",
              "      <th>9</th>\n",
              "      <td>2</td>\n",
              "      <td>N</td>\n",
              "      <td>1</td>\n",
              "      <td>1</td>\n",
              "      <td>1.61</td>\n",
              "      <td>9.0</td>\n",
              "      <td>0.5</td>\n",
              "      <td>0.5</td>\n",
              "      <td>0.0</td>\n",
              "      <td>0.3</td>\n",
              "      <td>11.90</td>\n",
              "      <td>2016-01-01</td>\n",
              "      <td>44</td>\n",
              "      <td>40</td>\n",
              "      <td>36</td>\n",
              "      <td>28</td>\n",
              "      <td>24</td>\n",
              "      <td>18</td>\n",
              "      <td>59</td>\n",
              "      <td>50</td>\n",
              "      <td>40</td>\n",
              "      <td>30.08</td>\n",
              "      <td>30.04</td>\n",
              "      <td>29.99</td>\n",
              "      <td>10</td>\n",
              "      <td>10</td>\n",
              "      <td>10</td>\n",
              "      <td>28</td>\n",
              "      <td>15</td>\n",
              "      <td>33</td>\n",
              "      <td>0.0</td>\n",
              "    </tr>\n",
              "  </tbody>\n",
              "</table>\n",
              "</div>"
            ],
            "text/plain": [
              "   vendorid store_and_fwd_flag  ... Wind (mph) - Max  Precipitation (in) - Sum\n",
              "0         2                  N  ...               33                       0.0\n",
              "1         2                  N  ...               33                       0.0\n",
              "2         2                  N  ...               33                       0.0\n",
              "3         2                  N  ...               33                       0.0\n",
              "4         2                  N  ...               33                       0.0\n",
              "5         2                  N  ...               33                       0.0\n",
              "6         2                  N  ...               33                       0.0\n",
              "7         2                  N  ...               33                       0.0\n",
              "8         2                  N  ...               33                       0.0\n",
              "9         2                  N  ...               33                       0.0\n",
              "\n",
              "[10 rows x 31 columns]"
            ]
          },
          "metadata": {
            "tags": []
          },
          "execution_count": 14
        }
      ]
    },
    {
      "cell_type": "code",
      "metadata": {
        "id": "wR5gNwU53AGt",
        "colab_type": "code",
        "outputId": "95342380-b045-4866-d41f-30cc2ca76b04",
        "colab": {
          "base_uri": "https://localhost:8080/",
          "height": 707
        }
      },
      "source": [
        "final_df.info()"
      ],
      "execution_count": 15,
      "outputs": [
        {
          "output_type": "stream",
          "text": [
            "<class 'pandas.core.frame.DataFrame'>\n",
            "Int64Index: 16103149 entries, 0 to 16103148\n",
            "Data columns (total 31 columns):\n",
            " #   Column                       Dtype  \n",
            "---  ------                       -----  \n",
            " 0   vendorid                     int64  \n",
            " 1   store_and_fwd_flag           object \n",
            " 2   ratecodeid                   object \n",
            " 3   passenger_count              int64  \n",
            " 4   trip_distance                float64\n",
            " 5   fare_amount                  float64\n",
            " 6   extra                        float64\n",
            " 7   mta_tax                      float64\n",
            " 8   tolls_amount                 float64\n",
            " 9   improvement_surcharge        float64\n",
            " 10  total_amount                 float64\n",
            " 11  Date                         object \n",
            " 12  Temp. (Degrees F) - Max      int64  \n",
            " 13  Temp. (Degrees F) - Avg      int64  \n",
            " 14  Temp. (Degrees F) - Min      int64  \n",
            " 15  Dew Point (Degrees F) - Max  int64  \n",
            " 16  Dew Point (Degrees F) - Avg  int64  \n",
            " 17  Dew Point (Degrees F) - Min  int64  \n",
            " 18  Humidity (%) - Max           int64  \n",
            " 19  Humidity (%) - Avg           int64  \n",
            " 20  Humidity (%) - Min           int64  \n",
            " 21  Sea Level Press. (in) - Max  float64\n",
            " 22  Sea Level Press. (in) - Avg  float64\n",
            " 23  Sea Level Press. (in) - Min  float64\n",
            " 24  Visibility (mi) - Max        int64  \n",
            " 25  Visibility (mi) - Avg        int64  \n",
            " 26  Visibility (mi) - Min        int64  \n",
            " 27  Wind (mph) - Avg             int64  \n",
            " 28  Wind (mph) - Min             int64  \n",
            " 29  Wind (mph) - Max             int64  \n",
            " 30  Precipitation (in) - Sum     float64\n",
            "dtypes: float64(11), int64(17), object(3)\n",
            "memory usage: 3.8+ GB\n"
          ],
          "name": "stdout"
        }
      ]
    },
    {
      "cell_type": "code",
      "metadata": {
        "id": "v4T71zCQXE14",
        "colab_type": "code",
        "outputId": "2d343df1-af86-4364-b320-864fa9afb071",
        "colab": {
          "base_uri": "https://localhost:8080/",
          "height": 598
        }
      },
      "source": [
        "final_df.isnull().sum().sort_values(ascending = False)"
      ],
      "execution_count": 20,
      "outputs": [
        {
          "output_type": "execute_result",
          "data": {
            "text/plain": [
              "Precipitation (in) - Sum       0\n",
              "Temp. (Degrees F) - Min        0\n",
              "store_and_fwd_flag             0\n",
              "ratecodeid                     0\n",
              "passenger_count                0\n",
              "trip_distance                  0\n",
              "fare_amount                    0\n",
              "extra                          0\n",
              "mta_tax                        0\n",
              "tolls_amount                   0\n",
              "improvement_surcharge          0\n",
              "total_amount                   0\n",
              "Date                           0\n",
              "Temp. (Degrees F) - Max        0\n",
              "Temp. (Degrees F) - Avg        0\n",
              "Dew Point (Degrees F) - Max    0\n",
              "Wind (mph) - Max               0\n",
              "Dew Point (Degrees F) - Avg    0\n",
              "Dew Point (Degrees F) - Min    0\n",
              "Humidity (%) - Max             0\n",
              "Humidity (%) - Avg             0\n",
              "Humidity (%) - Min             0\n",
              "Sea Level Press. (in) - Max    0\n",
              "Sea Level Press. (in) - Avg    0\n",
              "Sea Level Press. (in) - Min    0\n",
              "Visibility (mi) - Max          0\n",
              "Visibility (mi) - Avg          0\n",
              "Visibility (mi) - Min          0\n",
              "Wind (mph) - Avg               0\n",
              "Wind (mph) - Min               0\n",
              "vendorid                       0\n",
              "dtype: int64"
            ]
          },
          "metadata": {
            "tags": []
          },
          "execution_count": 20
        }
      ]
    },
    {
      "cell_type": "code",
      "metadata": {
        "id": "mNrOB19y9aja",
        "colab_type": "code",
        "outputId": "1183ec92-2a32-4025-8bda-3b8a5f8b5761",
        "colab": {
          "base_uri": "https://localhost:8080/",
          "height": 355
        }
      },
      "source": [
        "final_df.describe()"
      ],
      "execution_count": 21,
      "outputs": [
        {
          "output_type": "execute_result",
          "data": {
            "text/html": [
              "<div>\n",
              "<style scoped>\n",
              "    .dataframe tbody tr th:only-of-type {\n",
              "        vertical-align: middle;\n",
              "    }\n",
              "\n",
              "    .dataframe tbody tr th {\n",
              "        vertical-align: top;\n",
              "    }\n",
              "\n",
              "    .dataframe thead th {\n",
              "        text-align: right;\n",
              "    }\n",
              "</style>\n",
              "<table border=\"1\" class=\"dataframe\">\n",
              "  <thead>\n",
              "    <tr style=\"text-align: right;\">\n",
              "      <th></th>\n",
              "      <th>vendorid</th>\n",
              "      <th>passenger_count</th>\n",
              "      <th>trip_distance</th>\n",
              "      <th>fare_amount</th>\n",
              "      <th>extra</th>\n",
              "      <th>mta_tax</th>\n",
              "      <th>tolls_amount</th>\n",
              "      <th>improvement_surcharge</th>\n",
              "      <th>total_amount</th>\n",
              "      <th>Temp. (Degrees F) - Max</th>\n",
              "      <th>Temp. (Degrees F) - Avg</th>\n",
              "      <th>Temp. (Degrees F) - Min</th>\n",
              "      <th>Dew Point (Degrees F) - Max</th>\n",
              "      <th>Dew Point (Degrees F) - Avg</th>\n",
              "      <th>Dew Point (Degrees F) - Min</th>\n",
              "      <th>Humidity (%) - Max</th>\n",
              "      <th>Humidity (%) - Avg</th>\n",
              "      <th>Humidity (%) - Min</th>\n",
              "      <th>Sea Level Press. (in) - Max</th>\n",
              "      <th>Sea Level Press. (in) - Avg</th>\n",
              "      <th>Sea Level Press. (in) - Min</th>\n",
              "      <th>Visibility (mi) - Max</th>\n",
              "      <th>Visibility (mi) - Avg</th>\n",
              "      <th>Visibility (mi) - Min</th>\n",
              "      <th>Wind (mph) - Avg</th>\n",
              "      <th>Wind (mph) - Min</th>\n",
              "      <th>Wind (mph) - Max</th>\n",
              "      <th>Precipitation (in) - Sum</th>\n",
              "    </tr>\n",
              "  </thead>\n",
              "  <tbody>\n",
              "    <tr>\n",
              "      <th>count</th>\n",
              "      <td>1.610315e+07</td>\n",
              "      <td>1.610315e+07</td>\n",
              "      <td>1.610315e+07</td>\n",
              "      <td>1.610315e+07</td>\n",
              "      <td>1.610315e+07</td>\n",
              "      <td>1.610315e+07</td>\n",
              "      <td>1.610315e+07</td>\n",
              "      <td>1.610315e+07</td>\n",
              "      <td>1.610315e+07</td>\n",
              "      <td>1.610315e+07</td>\n",
              "      <td>1.610315e+07</td>\n",
              "      <td>1.610315e+07</td>\n",
              "      <td>1.610315e+07</td>\n",
              "      <td>1.610315e+07</td>\n",
              "      <td>1.610315e+07</td>\n",
              "      <td>1.610315e+07</td>\n",
              "      <td>1.610315e+07</td>\n",
              "      <td>1.610315e+07</td>\n",
              "      <td>1.610315e+07</td>\n",
              "      <td>1.610315e+07</td>\n",
              "      <td>1.610315e+07</td>\n",
              "      <td>1.610315e+07</td>\n",
              "      <td>1.610315e+07</td>\n",
              "      <td>1.610315e+07</td>\n",
              "      <td>1.610315e+07</td>\n",
              "      <td>1.610315e+07</td>\n",
              "      <td>1.610315e+07</td>\n",
              "      <td>1.610315e+07</td>\n",
              "    </tr>\n",
              "    <tr>\n",
              "      <th>mean</th>\n",
              "      <td>1.790551e+00</td>\n",
              "      <td>1.357451e+00</td>\n",
              "      <td>2.800610e+00</td>\n",
              "      <td>1.213177e+01</td>\n",
              "      <td>3.527233e-01</td>\n",
              "      <td>4.867222e-01</td>\n",
              "      <td>1.103122e-01</td>\n",
              "      <td>2.921090e-01</td>\n",
              "      <td>1.463603e+01</td>\n",
              "      <td>6.323052e+01</td>\n",
              "      <td>5.615868e+01</td>\n",
              "      <td>4.855953e+01</td>\n",
              "      <td>4.907218e+01</td>\n",
              "      <td>4.192686e+01</td>\n",
              "      <td>3.463558e+01</td>\n",
              "      <td>8.150236e+01</td>\n",
              "      <td>6.274236e+01</td>\n",
              "      <td>4.342664e+01</td>\n",
              "      <td>3.013704e+01</td>\n",
              "      <td>3.002911e+01</td>\n",
              "      <td>2.992494e+01</td>\n",
              "      <td>9.985267e+00</td>\n",
              "      <td>9.420415e+00</td>\n",
              "      <td>7.476127e+00</td>\n",
              "      <td>2.247283e+01</td>\n",
              "      <td>1.156079e+01</td>\n",
              "      <td>2.835948e+01</td>\n",
              "      <td>9.198428e-02</td>\n",
              "    </tr>\n",
              "    <tr>\n",
              "      <th>std</th>\n",
              "      <td>4.069150e-01</td>\n",
              "      <td>1.024237e+00</td>\n",
              "      <td>2.940234e+00</td>\n",
              "      <td>1.028561e+01</td>\n",
              "      <td>3.824330e-01</td>\n",
              "      <td>8.621508e-02</td>\n",
              "      <td>1.076703e+00</td>\n",
              "      <td>5.139784e-02</td>\n",
              "      <td>1.174070e+01</td>\n",
              "      <td>1.693830e+01</td>\n",
              "      <td>1.643144e+01</td>\n",
              "      <td>1.631286e+01</td>\n",
              "      <td>1.772626e+01</td>\n",
              "      <td>1.900555e+01</td>\n",
              "      <td>2.040831e+01</td>\n",
              "      <td>1.408395e+01</td>\n",
              "      <td>1.364547e+01</td>\n",
              "      <td>1.658989e+01</td>\n",
              "      <td>1.958383e-01</td>\n",
              "      <td>2.086431e-01</td>\n",
              "      <td>2.222048e-01</td>\n",
              "      <td>2.671771e-01</td>\n",
              "      <td>1.272309e+00</td>\n",
              "      <td>3.607397e+00</td>\n",
              "      <td>7.144173e+00</td>\n",
              "      <td>4.455026e+00</td>\n",
              "      <td>9.318024e+00</td>\n",
              "      <td>2.495659e-01</td>\n",
              "    </tr>\n",
              "    <tr>\n",
              "      <th>min</th>\n",
              "      <td>1.000000e+00</td>\n",
              "      <td>0.000000e+00</td>\n",
              "      <td>0.000000e+00</td>\n",
              "      <td>-4.990000e+02</td>\n",
              "      <td>-4.500000e+00</td>\n",
              "      <td>-5.000000e-01</td>\n",
              "      <td>-5.000000e+01</td>\n",
              "      <td>-3.000000e-01</td>\n",
              "      <td>-4.990000e+02</td>\n",
              "      <td>1.700000e+01</td>\n",
              "      <td>9.000000e+00</td>\n",
              "      <td>1.000000e+00</td>\n",
              "      <td>-8.000000e+00</td>\n",
              "      <td>-1.500000e+01</td>\n",
              "      <td>-1.900000e+01</td>\n",
              "      <td>3.600000e+01</td>\n",
              "      <td>2.700000e+01</td>\n",
              "      <td>1.100000e+01</td>\n",
              "      <td>2.957000e+01</td>\n",
              "      <td>2.935000e+01</td>\n",
              "      <td>2.925000e+01</td>\n",
              "      <td>2.000000e+00</td>\n",
              "      <td>0.000000e+00</td>\n",
              "      <td>0.000000e+00</td>\n",
              "      <td>9.000000e+00</td>\n",
              "      <td>4.000000e+00</td>\n",
              "      <td>1.200000e+01</td>\n",
              "      <td>0.000000e+00</td>\n",
              "    </tr>\n",
              "    <tr>\n",
              "      <th>25%</th>\n",
              "      <td>2.000000e+00</td>\n",
              "      <td>1.000000e+00</td>\n",
              "      <td>1.030000e+00</td>\n",
              "      <td>6.500000e+00</td>\n",
              "      <td>0.000000e+00</td>\n",
              "      <td>5.000000e-01</td>\n",
              "      <td>0.000000e+00</td>\n",
              "      <td>3.000000e-01</td>\n",
              "      <td>7.800000e+00</td>\n",
              "      <td>5.000000e+01</td>\n",
              "      <td>4.300000e+01</td>\n",
              "      <td>3.700000e+01</td>\n",
              "      <td>3.700000e+01</td>\n",
              "      <td>2.700000e+01</td>\n",
              "      <td>1.900000e+01</td>\n",
              "      <td>7.300000e+01</td>\n",
              "      <td>5.200000e+01</td>\n",
              "      <td>3.100000e+01</td>\n",
              "      <td>3.000000e+01</td>\n",
              "      <td>2.989000e+01</td>\n",
              "      <td>2.980000e+01</td>\n",
              "      <td>1.000000e+01</td>\n",
              "      <td>1.000000e+01</td>\n",
              "      <td>5.000000e+00</td>\n",
              "      <td>1.700000e+01</td>\n",
              "      <td>8.000000e+00</td>\n",
              "      <td>2.200000e+01</td>\n",
              "      <td>0.000000e+00</td>\n",
              "    </tr>\n",
              "    <tr>\n",
              "      <th>50%</th>\n",
              "      <td>2.000000e+00</td>\n",
              "      <td>1.000000e+00</td>\n",
              "      <td>1.830000e+00</td>\n",
              "      <td>9.500000e+00</td>\n",
              "      <td>5.000000e-01</td>\n",
              "      <td>5.000000e-01</td>\n",
              "      <td>0.000000e+00</td>\n",
              "      <td>3.000000e-01</td>\n",
              "      <td>1.130000e+01</td>\n",
              "      <td>6.300000e+01</td>\n",
              "      <td>5.500000e+01</td>\n",
              "      <td>4.700000e+01</td>\n",
              "      <td>5.000000e+01</td>\n",
              "      <td>4.200000e+01</td>\n",
              "      <td>3.400000e+01</td>\n",
              "      <td>8.600000e+01</td>\n",
              "      <td>6.400000e+01</td>\n",
              "      <td>4.200000e+01</td>\n",
              "      <td>3.014000e+01</td>\n",
              "      <td>3.004000e+01</td>\n",
              "      <td>2.994000e+01</td>\n",
              "      <td>1.000000e+01</td>\n",
              "      <td>1.000000e+01</td>\n",
              "      <td>1.000000e+01</td>\n",
              "      <td>2.200000e+01</td>\n",
              "      <td>1.100000e+01</td>\n",
              "      <td>2.600000e+01</td>\n",
              "      <td>0.000000e+00</td>\n",
              "    </tr>\n",
              "    <tr>\n",
              "      <th>75%</th>\n",
              "      <td>2.000000e+00</td>\n",
              "      <td>1.000000e+00</td>\n",
              "      <td>3.500000e+00</td>\n",
              "      <td>1.500000e+01</td>\n",
              "      <td>5.000000e-01</td>\n",
              "      <td>5.000000e-01</td>\n",
              "      <td>0.000000e+00</td>\n",
              "      <td>3.000000e-01</td>\n",
              "      <td>1.775000e+01</td>\n",
              "      <td>7.800000e+01</td>\n",
              "      <td>7.100000e+01</td>\n",
              "      <td>6.300000e+01</td>\n",
              "      <td>6.400000e+01</td>\n",
              "      <td>5.800000e+01</td>\n",
              "      <td>5.000000e+01</td>\n",
              "      <td>9.300000e+01</td>\n",
              "      <td>7.300000e+01</td>\n",
              "      <td>5.400000e+01</td>\n",
              "      <td>3.025000e+01</td>\n",
              "      <td>3.016000e+01</td>\n",
              "      <td>3.008000e+01</td>\n",
              "      <td>1.000000e+01</td>\n",
              "      <td>1.000000e+01</td>\n",
              "      <td>1.000000e+01</td>\n",
              "      <td>2.800000e+01</td>\n",
              "      <td>1.400000e+01</td>\n",
              "      <td>3.500000e+01</td>\n",
              "      <td>3.000000e-02</td>\n",
              "    </tr>\n",
              "    <tr>\n",
              "      <th>max</th>\n",
              "      <td>2.000000e+00</td>\n",
              "      <td>9.000000e+00</td>\n",
              "      <td>8.322000e+02</td>\n",
              "      <td>5.005500e+03</td>\n",
              "      <td>8.300000e+01</td>\n",
              "      <td>3.000000e+00</td>\n",
              "      <td>9.021700e+02</td>\n",
              "      <td>1.770000e+00</td>\n",
              "      <td>5.006300e+03</td>\n",
              "      <td>9.800000e+01</td>\n",
              "      <td>8.900000e+01</td>\n",
              "      <td>8.200000e+01</td>\n",
              "      <td>8.400000e+01</td>\n",
              "      <td>7.700000e+01</td>\n",
              "      <td>7.500000e+01</td>\n",
              "      <td>1.000000e+02</td>\n",
              "      <td>9.200000e+01</td>\n",
              "      <td>8.600000e+01</td>\n",
              "      <td>3.075000e+01</td>\n",
              "      <td>3.067000e+01</td>\n",
              "      <td>3.050000e+01</td>\n",
              "      <td>1.000000e+01</td>\n",
              "      <td>1.000000e+01</td>\n",
              "      <td>1.000000e+01</td>\n",
              "      <td>4.900000e+01</td>\n",
              "      <td>2.500000e+01</td>\n",
              "      <td>6.400000e+01</td>\n",
              "      <td>2.900000e+00</td>\n",
              "    </tr>\n",
              "  </tbody>\n",
              "</table>\n",
              "</div>"
            ],
            "text/plain": [
              "           vendorid  ...  Precipitation (in) - Sum\n",
              "count  1.610315e+07  ...              1.610315e+07\n",
              "mean   1.790551e+00  ...              9.198428e-02\n",
              "std    4.069150e-01  ...              2.495659e-01\n",
              "min    1.000000e+00  ...              0.000000e+00\n",
              "25%    2.000000e+00  ...              0.000000e+00\n",
              "50%    2.000000e+00  ...              0.000000e+00\n",
              "75%    2.000000e+00  ...              3.000000e-02\n",
              "max    2.000000e+00  ...              2.900000e+00\n",
              "\n",
              "[8 rows x 28 columns]"
            ]
          },
          "metadata": {
            "tags": []
          },
          "execution_count": 21
        }
      ]
    },
    {
      "cell_type": "markdown",
      "metadata": {
        "id": "38HUpy-606rz",
        "colab_type": "text"
      },
      "source": [
        "Removing Outliers"
      ]
    },
    {
      "cell_type": "code",
      "metadata": {
        "id": "EvVL9Rzt05yX",
        "colab_type": "code",
        "colab": {}
      },
      "source": [
        "final_df = final_df[(final_df['trip_distance']>0.0) & (final_df['trip_distance']<=400.0) &\n",
        "                    (final_df['extra']>=0.0) & (final_df['fare_amount']>0.0) &\n",
        "                    (final_df['mta_tax']>0.0) & (final_df['tolls_amount']>=0.0) &\n",
        "                    (final_df['improvement_surcharge']>=0.0) & (final_df['total_amount']>0.0)]"
      ],
      "execution_count": 0,
      "outputs": []
    },
    {
      "cell_type": "code",
      "metadata": {
        "id": "5DORNtzx-NXZ",
        "colab_type": "code",
        "outputId": "6d592b12-32fd-4400-c308-0cd944c5f771",
        "colab": {
          "base_uri": "https://localhost:8080/",
          "height": 355
        }
      },
      "source": [
        "final_df.describe()"
      ],
      "execution_count": 23,
      "outputs": [
        {
          "output_type": "execute_result",
          "data": {
            "text/html": [
              "<div>\n",
              "<style scoped>\n",
              "    .dataframe tbody tr th:only-of-type {\n",
              "        vertical-align: middle;\n",
              "    }\n",
              "\n",
              "    .dataframe tbody tr th {\n",
              "        vertical-align: top;\n",
              "    }\n",
              "\n",
              "    .dataframe thead th {\n",
              "        text-align: right;\n",
              "    }\n",
              "</style>\n",
              "<table border=\"1\" class=\"dataframe\">\n",
              "  <thead>\n",
              "    <tr style=\"text-align: right;\">\n",
              "      <th></th>\n",
              "      <th>vendorid</th>\n",
              "      <th>passenger_count</th>\n",
              "      <th>trip_distance</th>\n",
              "      <th>fare_amount</th>\n",
              "      <th>extra</th>\n",
              "      <th>mta_tax</th>\n",
              "      <th>tolls_amount</th>\n",
              "      <th>improvement_surcharge</th>\n",
              "      <th>total_amount</th>\n",
              "      <th>Temp. (Degrees F) - Max</th>\n",
              "      <th>Temp. (Degrees F) - Avg</th>\n",
              "      <th>Temp. (Degrees F) - Min</th>\n",
              "      <th>Dew Point (Degrees F) - Max</th>\n",
              "      <th>Dew Point (Degrees F) - Avg</th>\n",
              "      <th>Dew Point (Degrees F) - Min</th>\n",
              "      <th>Humidity (%) - Max</th>\n",
              "      <th>Humidity (%) - Avg</th>\n",
              "      <th>Humidity (%) - Min</th>\n",
              "      <th>Sea Level Press. (in) - Max</th>\n",
              "      <th>Sea Level Press. (in) - Avg</th>\n",
              "      <th>Sea Level Press. (in) - Min</th>\n",
              "      <th>Visibility (mi) - Max</th>\n",
              "      <th>Visibility (mi) - Avg</th>\n",
              "      <th>Visibility (mi) - Min</th>\n",
              "      <th>Wind (mph) - Avg</th>\n",
              "      <th>Wind (mph) - Min</th>\n",
              "      <th>Wind (mph) - Max</th>\n",
              "      <th>Precipitation (in) - Sum</th>\n",
              "    </tr>\n",
              "  </thead>\n",
              "  <tbody>\n",
              "    <tr>\n",
              "      <th>count</th>\n",
              "      <td>1.558878e+07</td>\n",
              "      <td>1.558878e+07</td>\n",
              "      <td>1.558878e+07</td>\n",
              "      <td>1.558878e+07</td>\n",
              "      <td>1.558878e+07</td>\n",
              "      <td>1.558878e+07</td>\n",
              "      <td>1.558878e+07</td>\n",
              "      <td>1.558878e+07</td>\n",
              "      <td>1.558878e+07</td>\n",
              "      <td>1.558878e+07</td>\n",
              "      <td>1.558878e+07</td>\n",
              "      <td>1.558878e+07</td>\n",
              "      <td>1.558878e+07</td>\n",
              "      <td>1.558878e+07</td>\n",
              "      <td>1.558878e+07</td>\n",
              "      <td>1.558878e+07</td>\n",
              "      <td>1.558878e+07</td>\n",
              "      <td>1.558878e+07</td>\n",
              "      <td>1.558878e+07</td>\n",
              "      <td>1.558878e+07</td>\n",
              "      <td>1.558878e+07</td>\n",
              "      <td>1.558878e+07</td>\n",
              "      <td>1.558878e+07</td>\n",
              "      <td>1.558878e+07</td>\n",
              "      <td>1.558878e+07</td>\n",
              "      <td>1.558878e+07</td>\n",
              "      <td>1.558878e+07</td>\n",
              "      <td>1.558878e+07</td>\n",
              "    </tr>\n",
              "    <tr>\n",
              "      <th>mean</th>\n",
              "      <td>1.791433e+00</td>\n",
              "      <td>1.358605e+00</td>\n",
              "      <td>2.811961e+00</td>\n",
              "      <td>1.200828e+01</td>\n",
              "      <td>3.620787e-01</td>\n",
              "      <td>5.000181e-01</td>\n",
              "      <td>1.051642e-01</td>\n",
              "      <td>2.997854e-01</td>\n",
              "      <td>1.453731e+01</td>\n",
              "      <td>6.322065e+01</td>\n",
              "      <td>5.614964e+01</td>\n",
              "      <td>4.855151e+01</td>\n",
              "      <td>4.906548e+01</td>\n",
              "      <td>4.191910e+01</td>\n",
              "      <td>3.462638e+01</td>\n",
              "      <td>8.150114e+01</td>\n",
              "      <td>6.274290e+01</td>\n",
              "      <td>4.342869e+01</td>\n",
              "      <td>3.013706e+01</td>\n",
              "      <td>3.002909e+01</td>\n",
              "      <td>2.992488e+01</td>\n",
              "      <td>9.985285e+00</td>\n",
              "      <td>9.420045e+00</td>\n",
              "      <td>7.474674e+00</td>\n",
              "      <td>2.247431e+01</td>\n",
              "      <td>1.156180e+01</td>\n",
              "      <td>2.836173e+01</td>\n",
              "      <td>9.205432e-02</td>\n",
              "    </tr>\n",
              "    <tr>\n",
              "      <th>std</th>\n",
              "      <td>4.062842e-01</td>\n",
              "      <td>1.029048e+00</td>\n",
              "      <td>2.847875e+00</td>\n",
              "      <td>9.049925e+00</td>\n",
              "      <td>3.794841e-01</td>\n",
              "      <td>6.732231e-03</td>\n",
              "      <td>9.413199e-01</td>\n",
              "      <td>8.133738e-03</td>\n",
              "      <td>1.051622e+01</td>\n",
              "      <td>1.693588e+01</td>\n",
              "      <td>1.642864e+01</td>\n",
              "      <td>1.630958e+01</td>\n",
              "      <td>1.772482e+01</td>\n",
              "      <td>1.900372e+01</td>\n",
              "      <td>2.040668e+01</td>\n",
              "      <td>1.408451e+01</td>\n",
              "      <td>1.364616e+01</td>\n",
              "      <td>1.659091e+01</td>\n",
              "      <td>1.958820e-01</td>\n",
              "      <td>2.087075e-01</td>\n",
              "      <td>2.222836e-01</td>\n",
              "      <td>2.670365e-01</td>\n",
              "      <td>1.272662e+00</td>\n",
              "      <td>3.608097e+00</td>\n",
              "      <td>7.145128e+00</td>\n",
              "      <td>4.455219e+00</td>\n",
              "      <td>9.319010e+00</td>\n",
              "      <td>2.495296e-01</td>\n",
              "    </tr>\n",
              "    <tr>\n",
              "      <th>min</th>\n",
              "      <td>1.000000e+00</td>\n",
              "      <td>0.000000e+00</td>\n",
              "      <td>1.000000e-02</td>\n",
              "      <td>1.000000e-02</td>\n",
              "      <td>0.000000e+00</td>\n",
              "      <td>4.000000e-01</td>\n",
              "      <td>0.000000e+00</td>\n",
              "      <td>0.000000e+00</td>\n",
              "      <td>5.100000e-01</td>\n",
              "      <td>1.700000e+01</td>\n",
              "      <td>9.000000e+00</td>\n",
              "      <td>1.000000e+00</td>\n",
              "      <td>-8.000000e+00</td>\n",
              "      <td>-1.500000e+01</td>\n",
              "      <td>-1.900000e+01</td>\n",
              "      <td>3.600000e+01</td>\n",
              "      <td>2.700000e+01</td>\n",
              "      <td>1.100000e+01</td>\n",
              "      <td>2.957000e+01</td>\n",
              "      <td>2.935000e+01</td>\n",
              "      <td>2.925000e+01</td>\n",
              "      <td>2.000000e+00</td>\n",
              "      <td>0.000000e+00</td>\n",
              "      <td>0.000000e+00</td>\n",
              "      <td>9.000000e+00</td>\n",
              "      <td>4.000000e+00</td>\n",
              "      <td>1.200000e+01</td>\n",
              "      <td>0.000000e+00</td>\n",
              "    </tr>\n",
              "    <tr>\n",
              "      <th>25%</th>\n",
              "      <td>2.000000e+00</td>\n",
              "      <td>1.000000e+00</td>\n",
              "      <td>1.060000e+00</td>\n",
              "      <td>6.500000e+00</td>\n",
              "      <td>0.000000e+00</td>\n",
              "      <td>5.000000e-01</td>\n",
              "      <td>0.000000e+00</td>\n",
              "      <td>3.000000e-01</td>\n",
              "      <td>8.000000e+00</td>\n",
              "      <td>5.000000e+01</td>\n",
              "      <td>4.300000e+01</td>\n",
              "      <td>3.700000e+01</td>\n",
              "      <td>3.700000e+01</td>\n",
              "      <td>2.700000e+01</td>\n",
              "      <td>1.900000e+01</td>\n",
              "      <td>7.300000e+01</td>\n",
              "      <td>5.200000e+01</td>\n",
              "      <td>3.100000e+01</td>\n",
              "      <td>3.000000e+01</td>\n",
              "      <td>2.989000e+01</td>\n",
              "      <td>2.980000e+01</td>\n",
              "      <td>1.000000e+01</td>\n",
              "      <td>1.000000e+01</td>\n",
              "      <td>5.000000e+00</td>\n",
              "      <td>1.700000e+01</td>\n",
              "      <td>8.000000e+00</td>\n",
              "      <td>2.200000e+01</td>\n",
              "      <td>0.000000e+00</td>\n",
              "    </tr>\n",
              "    <tr>\n",
              "      <th>50%</th>\n",
              "      <td>2.000000e+00</td>\n",
              "      <td>1.000000e+00</td>\n",
              "      <td>1.860000e+00</td>\n",
              "      <td>9.000000e+00</td>\n",
              "      <td>5.000000e-01</td>\n",
              "      <td>5.000000e-01</td>\n",
              "      <td>0.000000e+00</td>\n",
              "      <td>3.000000e-01</td>\n",
              "      <td>1.130000e+01</td>\n",
              "      <td>6.300000e+01</td>\n",
              "      <td>5.500000e+01</td>\n",
              "      <td>4.700000e+01</td>\n",
              "      <td>5.000000e+01</td>\n",
              "      <td>4.200000e+01</td>\n",
              "      <td>3.400000e+01</td>\n",
              "      <td>8.600000e+01</td>\n",
              "      <td>6.400000e+01</td>\n",
              "      <td>4.200000e+01</td>\n",
              "      <td>3.014000e+01</td>\n",
              "      <td>3.004000e+01</td>\n",
              "      <td>2.994000e+01</td>\n",
              "      <td>1.000000e+01</td>\n",
              "      <td>1.000000e+01</td>\n",
              "      <td>1.000000e+01</td>\n",
              "      <td>2.200000e+01</td>\n",
              "      <td>1.100000e+01</td>\n",
              "      <td>2.600000e+01</td>\n",
              "      <td>0.000000e+00</td>\n",
              "    </tr>\n",
              "    <tr>\n",
              "      <th>75%</th>\n",
              "      <td>2.000000e+00</td>\n",
              "      <td>1.000000e+00</td>\n",
              "      <td>3.500000e+00</td>\n",
              "      <td>1.450000e+01</td>\n",
              "      <td>5.000000e-01</td>\n",
              "      <td>5.000000e-01</td>\n",
              "      <td>0.000000e+00</td>\n",
              "      <td>3.000000e-01</td>\n",
              "      <td>1.740000e+01</td>\n",
              "      <td>7.800000e+01</td>\n",
              "      <td>7.100000e+01</td>\n",
              "      <td>6.300000e+01</td>\n",
              "      <td>6.400000e+01</td>\n",
              "      <td>5.800000e+01</td>\n",
              "      <td>5.000000e+01</td>\n",
              "      <td>9.300000e+01</td>\n",
              "      <td>7.300000e+01</td>\n",
              "      <td>5.400000e+01</td>\n",
              "      <td>3.025000e+01</td>\n",
              "      <td>3.016000e+01</td>\n",
              "      <td>3.008000e+01</td>\n",
              "      <td>1.000000e+01</td>\n",
              "      <td>1.000000e+01</td>\n",
              "      <td>1.000000e+01</td>\n",
              "      <td>2.800000e+01</td>\n",
              "      <td>1.400000e+01</td>\n",
              "      <td>3.500000e+01</td>\n",
              "      <td>3.000000e-02</td>\n",
              "    </tr>\n",
              "    <tr>\n",
              "      <th>max</th>\n",
              "      <td>2.000000e+00</td>\n",
              "      <td>9.000000e+00</td>\n",
              "      <td>3.605000e+02</td>\n",
              "      <td>5.005500e+03</td>\n",
              "      <td>8.300000e+01</td>\n",
              "      <td>3.000000e+00</td>\n",
              "      <td>9.021700e+02</td>\n",
              "      <td>1.770000e+00</td>\n",
              "      <td>5.006300e+03</td>\n",
              "      <td>9.800000e+01</td>\n",
              "      <td>8.900000e+01</td>\n",
              "      <td>8.200000e+01</td>\n",
              "      <td>8.400000e+01</td>\n",
              "      <td>7.700000e+01</td>\n",
              "      <td>7.500000e+01</td>\n",
              "      <td>1.000000e+02</td>\n",
              "      <td>9.200000e+01</td>\n",
              "      <td>8.600000e+01</td>\n",
              "      <td>3.075000e+01</td>\n",
              "      <td>3.067000e+01</td>\n",
              "      <td>3.050000e+01</td>\n",
              "      <td>1.000000e+01</td>\n",
              "      <td>1.000000e+01</td>\n",
              "      <td>1.000000e+01</td>\n",
              "      <td>4.900000e+01</td>\n",
              "      <td>2.500000e+01</td>\n",
              "      <td>6.400000e+01</td>\n",
              "      <td>2.900000e+00</td>\n",
              "    </tr>\n",
              "  </tbody>\n",
              "</table>\n",
              "</div>"
            ],
            "text/plain": [
              "           vendorid  ...  Precipitation (in) - Sum\n",
              "count  1.558878e+07  ...              1.558878e+07\n",
              "mean   1.791433e+00  ...              9.205432e-02\n",
              "std    4.062842e-01  ...              2.495296e-01\n",
              "min    1.000000e+00  ...              0.000000e+00\n",
              "25%    2.000000e+00  ...              0.000000e+00\n",
              "50%    2.000000e+00  ...              0.000000e+00\n",
              "75%    2.000000e+00  ...              3.000000e-02\n",
              "max    2.000000e+00  ...              2.900000e+00\n",
              "\n",
              "[8 rows x 28 columns]"
            ]
          },
          "metadata": {
            "tags": []
          },
          "execution_count": 23
        }
      ]
    },
    {
      "cell_type": "code",
      "metadata": {
        "id": "V12wxhSLAncD",
        "colab_type": "code",
        "outputId": "c7962f90-c95d-4c8a-9699-4a60406cc730",
        "colab": {
          "base_uri": "https://localhost:8080/",
          "height": 707
        }
      },
      "source": [
        "final_df.info()"
      ],
      "execution_count": 11,
      "outputs": [
        {
          "output_type": "stream",
          "text": [
            "<class 'pandas.core.frame.DataFrame'>\n",
            "Int64Index: 15588782 entries, 0 to 16103148\n",
            "Data columns (total 31 columns):\n",
            " #   Column                       Dtype  \n",
            "---  ------                       -----  \n",
            " 0   vendorid                     int64  \n",
            " 1   store_and_fwd_flag           object \n",
            " 2   ratecodeid                   object \n",
            " 3   passenger_count              int64  \n",
            " 4   trip_distance                float64\n",
            " 5   fare_amount                  float64\n",
            " 6   extra                        float64\n",
            " 7   mta_tax                      float64\n",
            " 8   tolls_amount                 float64\n",
            " 9   improvement_surcharge        float64\n",
            " 10  total_amount                 float64\n",
            " 11  Date                         object \n",
            " 12  Temp. (Degrees F) - Max      int64  \n",
            " 13  Temp. (Degrees F) - Avg      int64  \n",
            " 14  Temp. (Degrees F) - Min      int64  \n",
            " 15  Dew Point (Degrees F) - Max  int64  \n",
            " 16  Dew Point (Degrees F) - Avg  int64  \n",
            " 17  Dew Point (Degrees F) - Min  int64  \n",
            " 18  Humidity (%) - Max           int64  \n",
            " 19  Humidity (%) - Avg           int64  \n",
            " 20  Humidity (%) - Min           int64  \n",
            " 21  Sea Level Press. (in) - Max  float64\n",
            " 22  Sea Level Press. (in) - Avg  float64\n",
            " 23  Sea Level Press. (in) - Min  float64\n",
            " 24  Visibility (mi) - Max        int64  \n",
            " 25  Visibility (mi) - Avg        int64  \n",
            " 26  Visibility (mi) - Min        int64  \n",
            " 27  Wind (mph) - Avg             int64  \n",
            " 28  Wind (mph) - Min             int64  \n",
            " 29  Wind (mph) - Max             int64  \n",
            " 30  Precipitation (in) - Sum     float64\n",
            "dtypes: float64(11), int64(17), object(3)\n",
            "memory usage: 3.7+ GB\n"
          ],
          "name": "stdout"
        }
      ]
    },
    {
      "cell_type": "code",
      "metadata": {
        "id": "MIzFYhWKAN5H",
        "colab_type": "code",
        "colab": {}
      },
      "source": [
        "final_df = final_df.sample(n=10000000)"
      ],
      "execution_count": 0,
      "outputs": []
    },
    {
      "cell_type": "code",
      "metadata": {
        "id": "uS9-CyiNA81C",
        "colab_type": "code",
        "colab": {
          "base_uri": "https://localhost:8080/",
          "height": 707
        },
        "outputId": "448370ec-c302-4069-ad8e-0270d2a44303"
      },
      "source": [
        "final_df.info()"
      ],
      "execution_count": 18,
      "outputs": [
        {
          "output_type": "stream",
          "text": [
            "<class 'pandas.core.frame.DataFrame'>\n",
            "Int64Index: 10000000 entries, 1999897 to 3773251\n",
            "Data columns (total 31 columns):\n",
            " #   Column                       Dtype  \n",
            "---  ------                       -----  \n",
            " 0   vendorid                     int64  \n",
            " 1   store_and_fwd_flag           object \n",
            " 2   ratecodeid                   object \n",
            " 3   passenger_count              int64  \n",
            " 4   trip_distance                float64\n",
            " 5   fare_amount                  float64\n",
            " 6   extra                        float64\n",
            " 7   mta_tax                      float64\n",
            " 8   tolls_amount                 float64\n",
            " 9   improvement_surcharge        float64\n",
            " 10  total_amount                 float64\n",
            " 11  Date                         object \n",
            " 12  Temp. (Degrees F) - Max      int64  \n",
            " 13  Temp. (Degrees F) - Avg      int64  \n",
            " 14  Temp. (Degrees F) - Min      int64  \n",
            " 15  Dew Point (Degrees F) - Max  int64  \n",
            " 16  Dew Point (Degrees F) - Avg  int64  \n",
            " 17  Dew Point (Degrees F) - Min  int64  \n",
            " 18  Humidity (%) - Max           int64  \n",
            " 19  Humidity (%) - Avg           int64  \n",
            " 20  Humidity (%) - Min           int64  \n",
            " 21  Sea Level Press. (in) - Max  float64\n",
            " 22  Sea Level Press. (in) - Avg  float64\n",
            " 23  Sea Level Press. (in) - Min  float64\n",
            " 24  Visibility (mi) - Max        int64  \n",
            " 25  Visibility (mi) - Avg        int64  \n",
            " 26  Visibility (mi) - Min        int64  \n",
            " 27  Wind (mph) - Avg             int64  \n",
            " 28  Wind (mph) - Min             int64  \n",
            " 29  Wind (mph) - Max             int64  \n",
            " 30  Precipitation (in) - Sum     float64\n",
            "dtypes: float64(11), int64(17), object(3)\n",
            "memory usage: 2.4+ GB\n"
          ],
          "name": "stdout"
        }
      ]
    },
    {
      "cell_type": "markdown",
      "metadata": {
        "id": "UusTN1WDMjpd",
        "colab_type": "text"
      },
      "source": [
        "## Models"
      ]
    },
    {
      "cell_type": "markdown",
      "metadata": {
        "id": "EclDOPBKUKcn",
        "colab_type": "text"
      },
      "source": [
        "Linear Regression (Baseline)"
      ]
    },
    {
      "cell_type": "code",
      "metadata": {
        "id": "ZtaR_1pAUKza",
        "colab_type": "code",
        "colab": {}
      },
      "source": [
        "def linear_regression(train_data, test_data, train_labels, test_labels):\n",
        "  lg = LinearRegression()  \n",
        "  lg.fit(train_data, train_labels)\n",
        "  predictions = lg.predict(test_data)\n",
        "  performance(lg, predictions, test_labels)"
      ],
      "execution_count": 0,
      "outputs": []
    },
    {
      "cell_type": "markdown",
      "metadata": {
        "id": "-hU9O3txMn7z",
        "colab_type": "text"
      },
      "source": [
        "Lasso"
      ]
    },
    {
      "cell_type": "code",
      "metadata": {
        "id": "dm6OCXl5MoLQ",
        "colab_type": "code",
        "colab": {}
      },
      "source": [
        "def lasso(n, train_data, test_data, train_labels, test_labels):\n",
        "  ls = Lasso(alpha=n)\n",
        "  ls.fit(train_data, train_labels)\n",
        "  predictions = ls.predict(test_data)\n",
        "  performance(ls, predictions, test_labels)"
      ],
      "execution_count": 0,
      "outputs": []
    },
    {
      "cell_type": "markdown",
      "metadata": {
        "id": "I8hY0q_hoJMI",
        "colab_type": "text"
      },
      "source": [
        "Gradient boost"
      ]
    },
    {
      "cell_type": "code",
      "metadata": {
        "id": "4Q5LNigJoJjj",
        "colab_type": "code",
        "colab": {}
      },
      "source": [
        "def gradient_boosting(n, train_data, test_data, train_labels, test_labels):\n",
        "  gb = DecisionTreeRegressor(max_depth=n)\n",
        "  gb.fit(train_data, train_labels)\n",
        "  predictions = gb.predict(test_data)\n",
        "  performance(gb, predictions, test_labels)"
      ],
      "execution_count": 0,
      "outputs": []
    },
    {
      "cell_type": "markdown",
      "metadata": {
        "id": "EzxWr4S6Mq5x",
        "colab_type": "text"
      },
      "source": [
        "Random Forest"
      ]
    },
    {
      "cell_type": "code",
      "metadata": {
        "id": "2Ur9ULwLMrLU",
        "colab_type": "code",
        "colab": {}
      },
      "source": [
        "def random_forest(n, train_data, test_data, train_labels, test_labels):\n",
        "  rf = RandomForestRegressor(n_estimators = n, random_state = 42)\n",
        "  rf.fit(train_data, train_labels)\n",
        "  predictions = rf.predict(test_data)\n",
        "  performance(rf, predictions, test_labels)"
      ],
      "execution_count": 0,
      "outputs": []
    },
    {
      "cell_type": "markdown",
      "metadata": {
        "id": "dJY9QjWIDQQL",
        "colab_type": "text"
      },
      "source": [
        "## Performance"
      ]
    },
    {
      "cell_type": "code",
      "metadata": {
        "id": "ehv61XGBx45D",
        "colab_type": "code",
        "colab": {}
      },
      "source": [
        "def performance(mod, predictions, test_labels):\n",
        "  errors = abs(predictions - test_labels)\n",
        "  mape = 100 * (errors / test_labels)\n",
        "  print('Mean Absolute Error:', metrics.mean_absolute_error(predictions, test_labels))\n",
        "  print('Mean Squared Error:', metrics.mean_squared_error(predictions, test_labels))\n",
        "  print('Root Mean Squared Error:', np.sqrt(metrics.mean_squared_error(predictions, test_labels)))\n",
        "  accu = 100 - np.mean(mape)\n",
        "  print('Accuracy:', round(accu, 2), '%')"
      ],
      "execution_count": 0,
      "outputs": []
    },
    {
      "cell_type": "markdown",
      "metadata": {
        "id": "03ba_rwtdltL",
        "colab_type": "text"
      },
      "source": [
        "## Run 1"
      ]
    },
    {
      "cell_type": "code",
      "metadata": {
        "id": "MDBLkxe6kdcx",
        "colab_type": "code",
        "colab": {}
      },
      "source": [
        "# Drop the categorical variables\n",
        "run1_df = final_df.drop(columns=['vendorid', 'store_and_fwd_flag', 'ratecodeid', 'Date'])"
      ],
      "execution_count": 0,
      "outputs": []
    },
    {
      "cell_type": "code",
      "metadata": {
        "id": "PKJEcFBRXexE",
        "colab_type": "code",
        "outputId": "16ea9a50-4de3-4752-9f78-94d191a2f3a2",
        "colab": {
          "base_uri": "https://localhost:8080/",
          "height": 635
        }
      },
      "source": [
        "run1_df.info()"
      ],
      "execution_count": 16,
      "outputs": [
        {
          "output_type": "stream",
          "text": [
            "<class 'pandas.core.frame.DataFrame'>\n",
            "Int64Index: 10000000 entries, 4896936 to 13421204\n",
            "Data columns (total 27 columns):\n",
            " #   Column                       Dtype  \n",
            "---  ------                       -----  \n",
            " 0   passenger_count              int64  \n",
            " 1   trip_distance                float64\n",
            " 2   fare_amount                  float64\n",
            " 3   extra                        float64\n",
            " 4   mta_tax                      float64\n",
            " 5   tolls_amount                 float64\n",
            " 6   improvement_surcharge        float64\n",
            " 7   total_amount                 float64\n",
            " 8   Temp. (Degrees F) - Max      int64  \n",
            " 9   Temp. (Degrees F) - Avg      int64  \n",
            " 10  Temp. (Degrees F) - Min      int64  \n",
            " 11  Dew Point (Degrees F) - Max  int64  \n",
            " 12  Dew Point (Degrees F) - Avg  int64  \n",
            " 13  Dew Point (Degrees F) - Min  int64  \n",
            " 14  Humidity (%) - Max           int64  \n",
            " 15  Humidity (%) - Avg           int64  \n",
            " 16  Humidity (%) - Min           int64  \n",
            " 17  Sea Level Press. (in) - Max  float64\n",
            " 18  Sea Level Press. (in) - Avg  float64\n",
            " 19  Sea Level Press. (in) - Min  float64\n",
            " 20  Visibility (mi) - Max        int64  \n",
            " 21  Visibility (mi) - Avg        int64  \n",
            " 22  Visibility (mi) - Min        int64  \n",
            " 23  Wind (mph) - Avg             int64  \n",
            " 24  Wind (mph) - Min             int64  \n",
            " 25  Wind (mph) - Max             int64  \n",
            " 26  Precipitation (in) - Sum     float64\n",
            "dtypes: float64(11), int64(16)\n",
            "memory usage: 2.1 GB\n"
          ],
          "name": "stdout"
        }
      ]
    },
    {
      "cell_type": "markdown",
      "metadata": {
        "id": "8FtadHkrhS87",
        "colab_type": "text"
      },
      "source": [
        "Features and Labels"
      ]
    },
    {
      "cell_type": "code",
      "metadata": {
        "id": "wzpGChlShbDw",
        "colab_type": "code",
        "colab": {}
      },
      "source": [
        "labels = run1_df['total_amount']"
      ],
      "execution_count": 0,
      "outputs": []
    },
    {
      "cell_type": "code",
      "metadata": {
        "id": "kQnBYVfGhTUH",
        "colab_type": "code",
        "colab": {}
      },
      "source": [
        "features = run1_df.drop(columns='total_amount')\n",
        "feature_list = list(features.columns)\n",
        "features = np.array(features)"
      ],
      "execution_count": 0,
      "outputs": []
    },
    {
      "cell_type": "markdown",
      "metadata": {
        "id": "SRPoY58nZzpb",
        "colab_type": "text"
      },
      "source": [
        "Train-Test Split"
      ]
    },
    {
      "cell_type": "code",
      "metadata": {
        "id": "MHAeoQtHZ2kY",
        "colab_type": "code",
        "colab": {}
      },
      "source": [
        "run1_train_features_df, run1_test_features_df, run1_train_labels_df, run1_test_labels_df = train_test_split(features, labels, test_size=0.2, random_state=42)"
      ],
      "execution_count": 0,
      "outputs": []
    },
    {
      "cell_type": "markdown",
      "metadata": {
        "id": "l0KOVLlBVK-s",
        "colab_type": "text"
      },
      "source": [
        "Linear Regression (Baseline)"
      ]
    },
    {
      "cell_type": "code",
      "metadata": {
        "id": "P6FD-4OCVpuO",
        "colab_type": "code",
        "outputId": "9af83109-2310-4ff7-dd7b-2691bd255624",
        "colab": {
          "base_uri": "https://localhost:8080/",
          "height": 90
        }
      },
      "source": [
        "linear_regression(run1_train_features_df, run1_test_features_df, run1_train_labels_df, run1_test_labels_df)"
      ],
      "execution_count": 22,
      "outputs": [
        {
          "output_type": "stream",
          "text": [
            "Mean Absolute Error: 1.3394067045453109\n",
            "Mean Squared Error: 4.500328367193192\n",
            "Root Mean Squared Error: 2.1213977390374468\n",
            "Accuracy: 90.84 %\n"
          ],
          "name": "stdout"
        }
      ]
    },
    {
      "cell_type": "markdown",
      "metadata": {
        "id": "9FzyWKiDDZNs",
        "colab_type": "text"
      },
      "source": [
        "Lasso"
      ]
    },
    {
      "cell_type": "code",
      "metadata": {
        "id": "kdWFWzMpW3yB",
        "colab_type": "code",
        "outputId": "3d89dd70-6d24-4383-a3a5-8e7fec394bc6",
        "colab": {
          "base_uri": "https://localhost:8080/",
          "height": 90
        }
      },
      "source": [
        "lasso(1, run1_train_features_df, run1_test_features_df, run1_train_labels_df, run1_test_labels_df)"
      ],
      "execution_count": 26,
      "outputs": [
        {
          "output_type": "stream",
          "text": [
            "Mean Absolute Error: 1.4298388101587864\n",
            "Mean Squared Error: 5.506199914167465\n",
            "Root Mean Squared Error: 2.346529333753888\n",
            "Accuracy: 90.21 %\n"
          ],
          "name": "stdout"
        }
      ]
    },
    {
      "cell_type": "markdown",
      "metadata": {
        "id": "161zHhCjDdz1",
        "colab_type": "text"
      },
      "source": [
        "Gradient boost"
      ]
    },
    {
      "cell_type": "code",
      "metadata": {
        "id": "z4sDFm3fwVpp",
        "colab_type": "code",
        "outputId": "65aa918e-dde4-4d9c-cb22-2fd80afb5a35",
        "colab": {
          "base_uri": "https://localhost:8080/",
          "height": 90
        }
      },
      "source": [
        "gradient_boosting(10, run1_train_features_df, run1_test_features_df, run1_train_labels_df, run1_test_labels_df)"
      ],
      "execution_count": 27,
      "outputs": [
        {
          "output_type": "stream",
          "text": [
            "Mean Absolute Error: 1.335636708084491\n",
            "Mean Squared Error: 4.816445087100021\n",
            "Root Mean Squared Error: 2.1946400814484415\n",
            "Accuracy: 90.81 %\n"
          ],
          "name": "stdout"
        }
      ]
    },
    {
      "cell_type": "markdown",
      "metadata": {
        "id": "WYEbJxUPfdpn",
        "colab_type": "text"
      },
      "source": [
        "Random Forest"
      ]
    },
    {
      "cell_type": "code",
      "metadata": {
        "id": "Z1rBckznXJsS",
        "colab_type": "code",
        "outputId": "ec58c4b0-acbd-4b2f-ec50-dfe746361364",
        "colab": {
          "base_uri": "https://localhost:8080/",
          "height": 90
        }
      },
      "source": [
        "random_forest(3, run1_train_features_df, run1_test_features_df, run1_train_labels_df, run1_test_labels_df)"
      ],
      "execution_count": 28,
      "outputs": [
        {
          "output_type": "stream",
          "text": [
            "Mean Absolute Error: 1.4186619090945627\n",
            "Mean Squared Error: 6.461870881592657\n",
            "Root Mean Squared Error: 2.542021023043015\n",
            "Accuracy: 90.32 %\n"
          ],
          "name": "stdout"
        }
      ]
    },
    {
      "cell_type": "markdown",
      "metadata": {
        "id": "cNk1CpBibVR7",
        "colab_type": "text"
      },
      "source": [
        "## Run 2"
      ]
    },
    {
      "cell_type": "code",
      "metadata": {
        "id": "8UovPytFiy6i",
        "colab_type": "code",
        "colab": {}
      },
      "source": [
        "run2_df = final_df.drop(columns=['Date'])"
      ],
      "execution_count": 0,
      "outputs": []
    },
    {
      "cell_type": "code",
      "metadata": {
        "id": "WmkiJaOXqPnw",
        "colab_type": "code",
        "outputId": "bebe898e-af5d-4706-aac0-044bb27eaec4",
        "colab": {
          "base_uri": "https://localhost:8080/",
          "height": 689
        }
      },
      "source": [
        "run2_df.info()"
      ],
      "execution_count": 25,
      "outputs": [
        {
          "output_type": "stream",
          "text": [
            "<class 'pandas.core.frame.DataFrame'>\n",
            "Int64Index: 10000000 entries, 1999897 to 3773251\n",
            "Data columns (total 30 columns):\n",
            " #   Column                       Dtype  \n",
            "---  ------                       -----  \n",
            " 0   vendorid                     int64  \n",
            " 1   store_and_fwd_flag           object \n",
            " 2   ratecodeid                   object \n",
            " 3   passenger_count              int64  \n",
            " 4   trip_distance                float64\n",
            " 5   fare_amount                  float64\n",
            " 6   extra                        float64\n",
            " 7   mta_tax                      float64\n",
            " 8   tolls_amount                 float64\n",
            " 9   improvement_surcharge        float64\n",
            " 10  total_amount                 float64\n",
            " 11  Temp. (Degrees F) - Max      int64  \n",
            " 12  Temp. (Degrees F) - Avg      int64  \n",
            " 13  Temp. (Degrees F) - Min      int64  \n",
            " 14  Dew Point (Degrees F) - Max  int64  \n",
            " 15  Dew Point (Degrees F) - Avg  int64  \n",
            " 16  Dew Point (Degrees F) - Min  int64  \n",
            " 17  Humidity (%) - Max           int64  \n",
            " 18  Humidity (%) - Avg           int64  \n",
            " 19  Humidity (%) - Min           int64  \n",
            " 20  Sea Level Press. (in) - Max  float64\n",
            " 21  Sea Level Press. (in) - Avg  float64\n",
            " 22  Sea Level Press. (in) - Min  float64\n",
            " 23  Visibility (mi) - Max        int64  \n",
            " 24  Visibility (mi) - Avg        int64  \n",
            " 25  Visibility (mi) - Min        int64  \n",
            " 26  Wind (mph) - Avg             int64  \n",
            " 27  Wind (mph) - Min             int64  \n",
            " 28  Wind (mph) - Max             int64  \n",
            " 29  Precipitation (in) - Sum     float64\n",
            "dtypes: float64(11), int64(17), object(2)\n",
            "memory usage: 2.3+ GB\n"
          ],
          "name": "stdout"
        }
      ]
    },
    {
      "cell_type": "markdown",
      "metadata": {
        "id": "V_GAJAVXraqs",
        "colab_type": "text"
      },
      "source": [
        "Features and Labels"
      ]
    },
    {
      "cell_type": "code",
      "metadata": {
        "id": "EmCeOj-NreQQ",
        "colab_type": "code",
        "colab": {}
      },
      "source": [
        "labels = run2_df['total_amount']"
      ],
      "execution_count": 0,
      "outputs": []
    },
    {
      "cell_type": "code",
      "metadata": {
        "id": "s5U9wpumrgBQ",
        "colab_type": "code",
        "colab": {}
      },
      "source": [
        "features = run2_df.drop(columns='total_amount')"
      ],
      "execution_count": 0,
      "outputs": []
    },
    {
      "cell_type": "markdown",
      "metadata": {
        "id": "OxwoIFjIC7dP",
        "colab_type": "text"
      },
      "source": [
        "One-Hot Encoding"
      ]
    },
    {
      "cell_type": "code",
      "metadata": {
        "id": "-7I33UgQC7kV",
        "colab_type": "code",
        "colab": {}
      },
      "source": [
        "features = pd.get_dummies(features)"
      ],
      "execution_count": 0,
      "outputs": []
    },
    {
      "cell_type": "code",
      "metadata": {
        "id": "8XHK1z_HEcvy",
        "colab_type": "code",
        "colab": {}
      },
      "source": [
        "features.iloc[:,5:].head(5)"
      ],
      "execution_count": 0,
      "outputs": []
    },
    {
      "cell_type": "code",
      "metadata": {
        "id": "IVA6v0y_fI1v",
        "colab_type": "code",
        "colab": {}
      },
      "source": [
        "features.info()"
      ],
      "execution_count": 0,
      "outputs": []
    },
    {
      "cell_type": "code",
      "metadata": {
        "id": "FOSLUvx0hSHh",
        "colab_type": "code",
        "colab": {}
      },
      "source": [
        "feature_list = list(features.columns)\n",
        "features = np.array(features)"
      ],
      "execution_count": 0,
      "outputs": []
    },
    {
      "cell_type": "markdown",
      "metadata": {
        "id": "LZfzz3tDCF-o",
        "colab_type": "text"
      },
      "source": [
        "Train-Test Split"
      ]
    },
    {
      "cell_type": "code",
      "metadata": {
        "id": "ylURepYiCGD2",
        "colab_type": "code",
        "colab": {}
      },
      "source": [
        "run2_train_features_df, run2_test_features_df, run2_train_labels_df, run2_test_labels_df = train_test_split(features, labels, test_size=0.2, random_state=42)"
      ],
      "execution_count": 0,
      "outputs": []
    },
    {
      "cell_type": "markdown",
      "metadata": {
        "id": "UTuvksq6CGii",
        "colab_type": "text"
      },
      "source": [
        "Linear Regression (Baseline)"
      ]
    },
    {
      "cell_type": "code",
      "metadata": {
        "id": "izRKgDtCCGnn",
        "colab_type": "code",
        "outputId": "b5818182-566b-4a2c-8f49-18d4c1fd560f",
        "colab": {
          "base_uri": "https://localhost:8080/",
          "height": 90
        }
      },
      "source": [
        "linear_regression(run2_train_features_df, run2_test_features_df, run2_train_labels_df, run2_test_labels_df)"
      ],
      "execution_count": 31,
      "outputs": [
        {
          "output_type": "stream",
          "text": [
            "Mean Absolute Error: 1.3406468260695228\n",
            "Mean Squared Error: 4.650101514266171\n",
            "Root Mean Squared Error: 2.1564094032131678\n",
            "Accuracy: 90.84 %\n"
          ],
          "name": "stdout"
        }
      ]
    },
    {
      "cell_type": "markdown",
      "metadata": {
        "id": "6_Qkx-LQsArg",
        "colab_type": "text"
      },
      "source": [
        "Lasso"
      ]
    },
    {
      "cell_type": "code",
      "metadata": {
        "id": "ENj5YjuLsA0Y",
        "colab_type": "code",
        "outputId": "1bd32388-2677-4e93-ddb8-137970bd004e",
        "colab": {
          "base_uri": "https://localhost:8080/",
          "height": 90
        }
      },
      "source": [
        "lasso(1, run2_train_features_df, run2_test_features_df, run2_train_labels_df, run2_test_labels_df)"
      ],
      "execution_count": 33,
      "outputs": [
        {
          "output_type": "stream",
          "text": [
            "Mean Absolute Error: 1.432948601115237\n",
            "Mean Squared Error: 6.278178157781384\n",
            "Root Mean Squared Error: 2.5056292937666145\n",
            "Accuracy: 90.2 %\n"
          ],
          "name": "stdout"
        }
      ]
    },
    {
      "cell_type": "markdown",
      "metadata": {
        "id": "1o-t8b7csA73",
        "colab_type": "text"
      },
      "source": [
        "Gradient Boosting"
      ]
    },
    {
      "cell_type": "code",
      "metadata": {
        "id": "Z6V2dOZjsBCi",
        "colab_type": "code",
        "outputId": "996ffe4c-4892-4a04-bb19-d5446a5ab933",
        "colab": {
          "base_uri": "https://localhost:8080/",
          "height": 90
        }
      },
      "source": [
        "gradient_boosting(10, run2_train_features_df, run2_test_features_df, run2_train_labels_df, run2_test_labels_df)"
      ],
      "execution_count": 34,
      "outputs": [
        {
          "output_type": "stream",
          "text": [
            "Mean Absolute Error: 1.3380909644765462\n",
            "Mean Squared Error: 6.444186061452252\n",
            "Root Mean Squared Error: 2.5385401437543296\n",
            "Accuracy: 90.8 %\n"
          ],
          "name": "stdout"
        }
      ]
    },
    {
      "cell_type": "markdown",
      "metadata": {
        "id": "d4BD9LofsBKC",
        "colab_type": "text"
      },
      "source": [
        "Random Forest"
      ]
    },
    {
      "cell_type": "code",
      "metadata": {
        "id": "yr942RlesBPy",
        "colab_type": "code",
        "outputId": "188edd90-b794-4835-cf04-178d39a04864",
        "colab": {
          "base_uri": "https://localhost:8080/",
          "height": 90
        }
      },
      "source": [
        "random_forest(3, run2_train_features_df, run2_test_features_df, run2_train_labels_df, run2_test_labels_df)"
      ],
      "execution_count": 35,
      "outputs": [
        {
          "output_type": "stream",
          "text": [
            "Mean Absolute Error: 1.4215463940458877\n",
            "Mean Squared Error: 8.168031576598473\n",
            "Root Mean Squared Error: 2.8579768327609782\n",
            "Accuracy: 90.31 %\n"
          ],
          "name": "stdout"
        }
      ]
    },
    {
      "cell_type": "markdown",
      "metadata": {
        "id": "pA09oDxjuPCb",
        "colab_type": "text"
      },
      "source": [
        "# NYC Weather Transportation Study"
      ]
    },
    {
      "cell_type": "code",
      "metadata": {
        "id": "xh8gp0kjuPqU",
        "colab_type": "code",
        "colab": {}
      },
      "source": [
        "avg_taxi_csv = \"Green Taxi Average.csv\"\n",
        "avg_taxi_df = pd.read_csv(path + avg_taxi_csv)"
      ],
      "execution_count": 0,
      "outputs": []
    },
    {
      "cell_type": "code",
      "metadata": {
        "id": "IRjUPG8RptXs",
        "colab_type": "code",
        "outputId": "15f331b6-af22-444c-fd9d-a0d80067d332",
        "colab": {
          "base_uri": "https://localhost:8080/",
          "height": 290
        }
      },
      "source": [
        "avg_taxi_df.info()"
      ],
      "execution_count": 37,
      "outputs": [
        {
          "output_type": "stream",
          "text": [
            "<class 'pandas.core.frame.DataFrame'>\n",
            "RangeIndex: 366 entries, 0 to 365\n",
            "Data columns (total 8 columns):\n",
            " #   Column           Non-Null Count  Dtype  \n",
            "---  ------           --------------  -----  \n",
            " 0   Date             366 non-null    object \n",
            " 1   Total_Passenger  366 non-null    int64  \n",
            " 2   Avg_Passen       366 non-null    float64\n",
            " 3   Total_trip       366 non-null    int64  \n",
            " 4   Total_dist(mi)   366 non-null    float64\n",
            " 5   Avg_Dist(mi)     366 non-null    float64\n",
            " 6   Avg_speed(mi/h)  366 non-null    float64\n",
            " 7   Avg_duration(s)  366 non-null    float64\n",
            "dtypes: float64(5), int64(2), object(1)\n",
            "memory usage: 23.0+ KB\n"
          ],
          "name": "stdout"
        }
      ]
    },
    {
      "cell_type": "code",
      "metadata": {
        "id": "ecFSGzGe5lrK",
        "colab_type": "code",
        "outputId": "e52cb801-f0d3-4e7b-ee67-c59a42844afa",
        "colab": {
          "base_uri": "https://localhost:8080/",
          "height": 544
        }
      },
      "source": [
        "weather_df.info()"
      ],
      "execution_count": 38,
      "outputs": [
        {
          "output_type": "stream",
          "text": [
            "<class 'pandas.core.frame.DataFrame'>\n",
            "RangeIndex: 366 entries, 0 to 365\n",
            "Data columns (total 22 columns):\n",
            " #   Column                       Non-Null Count  Dtype  \n",
            "---  ------                       --------------  -----  \n",
            " 0   Month                        366 non-null    int64  \n",
            " 1   Day                          366 non-null    int64  \n",
            " 2   Temp. (Degrees F) - Max      366 non-null    int64  \n",
            " 3   Temp. (Degrees F) - Avg      366 non-null    int64  \n",
            " 4   Temp. (Degrees F) - Min      366 non-null    int64  \n",
            " 5   Dew Point (Degrees F) - Max  366 non-null    int64  \n",
            " 6   Dew Point (Degrees F) - Avg  366 non-null    int64  \n",
            " 7   Dew Point (Degrees F) - Min  366 non-null    int64  \n",
            " 8   Humidity (%) - Max           366 non-null    int64  \n",
            " 9   Humidity (%) - Avg           366 non-null    int64  \n",
            " 10  Humidity (%) - Min           366 non-null    int64  \n",
            " 11  Sea Level Press. (in) - Max  366 non-null    float64\n",
            " 12  Sea Level Press. (in) - Avg  366 non-null    float64\n",
            " 13  Sea Level Press. (in) - Min  366 non-null    float64\n",
            " 14  Visibility (mi) - Max        366 non-null    int64  \n",
            " 15  Visibility (mi) - Avg        366 non-null    int64  \n",
            " 16  Visibility (mi) - Min        366 non-null    int64  \n",
            " 17  Wind (mph) - Avg             366 non-null    int64  \n",
            " 18  Wind (mph) - Min             366 non-null    int64  \n",
            " 19  Wind (mph) - Max             366 non-null    object \n",
            " 20  Precipitation (in) - Sum     366 non-null    float64\n",
            " 21  Event                        151 non-null    object \n",
            "dtypes: float64(4), int64(16), object(2)\n",
            "memory usage: 63.0+ KB\n"
          ],
          "name": "stdout"
        }
      ]
    },
    {
      "cell_type": "markdown",
      "metadata": {
        "id": "qZVTzWCa6rDc",
        "colab_type": "text"
      },
      "source": [
        "Data Cleaning"
      ]
    },
    {
      "cell_type": "markdown",
      "metadata": {
        "id": "IO4n6jYk7Q9D",
        "colab_type": "text"
      },
      "source": [
        "Average Taxi Data"
      ]
    },
    {
      "cell_type": "code",
      "metadata": {
        "id": "HUrlh3P67NBE",
        "colab_type": "code",
        "colab": {}
      },
      "source": [
        "avg_taxi_df = avg_taxi_df.drop(columns=['Date'])"
      ],
      "execution_count": 0,
      "outputs": []
    },
    {
      "cell_type": "markdown",
      "metadata": {
        "id": "Nr1sam1d7Nk2",
        "colab_type": "text"
      },
      "source": [
        "Weather Data"
      ]
    },
    {
      "cell_type": "code",
      "metadata": {
        "id": "L6noNm093-90",
        "colab_type": "code",
        "colab": {}
      },
      "source": [
        "new_weather_df = weather_df.drop(columns=['Month', \n",
        "                                          'Day', \n",
        "                                          'Temp. (Degrees F) - Max',\n",
        "                                          'Temp. (Degrees F) - Min',\n",
        "                                          'Dew Point (Degrees F) - Max',\n",
        "                                          'Dew Point (Degrees F) - Min',\n",
        "                                          'Humidity (%) - Max',\n",
        "                                          'Humidity (%) - Min',\n",
        "                                          'Sea Level Press. (in) - Max',\n",
        "                                          'Sea Level Press. (in) - Min',\n",
        "                                          'Visibility (mi) - Max',\n",
        "                                          'Visibility (mi) - Min',\n",
        "                                          'Wind (mph) - Min',\n",
        "                                          'Wind (mph) - Max',\n",
        "                                          'Event'])"
      ],
      "execution_count": 0,
      "outputs": []
    },
    {
      "cell_type": "code",
      "metadata": {
        "id": "IK8i80hgpvex",
        "colab_type": "code",
        "outputId": "4fd246ac-0313-473c-9248-cf6af2cbc670",
        "colab": {
          "base_uri": "https://localhost:8080/",
          "height": 271
        }
      },
      "source": [
        "new_weather_df.info()"
      ],
      "execution_count": 41,
      "outputs": [
        {
          "output_type": "stream",
          "text": [
            "<class 'pandas.core.frame.DataFrame'>\n",
            "RangeIndex: 366 entries, 0 to 365\n",
            "Data columns (total 7 columns):\n",
            " #   Column                       Non-Null Count  Dtype  \n",
            "---  ------                       --------------  -----  \n",
            " 0   Temp. (Degrees F) - Avg      366 non-null    int64  \n",
            " 1   Dew Point (Degrees F) - Avg  366 non-null    int64  \n",
            " 2   Humidity (%) - Avg           366 non-null    int64  \n",
            " 3   Sea Level Press. (in) - Avg  366 non-null    float64\n",
            " 4   Visibility (mi) - Avg        366 non-null    int64  \n",
            " 5   Wind (mph) - Avg             366 non-null    int64  \n",
            " 6   Precipitation (in) - Sum     366 non-null    float64\n",
            "dtypes: float64(2), int64(5)\n",
            "memory usage: 20.1 KB\n"
          ],
          "name": "stdout"
        }
      ]
    },
    {
      "cell_type": "markdown",
      "metadata": {
        "id": "ZBuBFrjIqrxM",
        "colab_type": "text"
      },
      "source": [
        "Merge Average Taxi and Weather Data"
      ]
    },
    {
      "cell_type": "code",
      "metadata": {
        "id": "4r2QRvPj1gKb",
        "colab_type": "code",
        "colab": {}
      },
      "source": [
        "result_df = pd.concat([avg_taxi_df, new_weather_df], axis=1)"
      ],
      "execution_count": 0,
      "outputs": []
    },
    {
      "cell_type": "code",
      "metadata": {
        "id": "e34-LYGLLskD",
        "colab_type": "code",
        "colab": {
          "base_uri": "https://localhost:8080/",
          "height": 399
        },
        "outputId": "0cfe9e31-e9a5-42c0-c789-5aab8e9acd52"
      },
      "source": [
        "result_df.info()"
      ],
      "execution_count": 43,
      "outputs": [
        {
          "output_type": "stream",
          "text": [
            "<class 'pandas.core.frame.DataFrame'>\n",
            "RangeIndex: 366 entries, 0 to 365\n",
            "Data columns (total 14 columns):\n",
            " #   Column                       Non-Null Count  Dtype  \n",
            "---  ------                       --------------  -----  \n",
            " 0   Total_Passenger              366 non-null    int64  \n",
            " 1   Avg_Passen                   366 non-null    float64\n",
            " 2   Total_trip                   366 non-null    int64  \n",
            " 3   Total_dist(mi)               366 non-null    float64\n",
            " 4   Avg_Dist(mi)                 366 non-null    float64\n",
            " 5   Avg_speed(mi/h)              366 non-null    float64\n",
            " 6   Avg_duration(s)              366 non-null    float64\n",
            " 7   Temp. (Degrees F) - Avg      366 non-null    int64  \n",
            " 8   Dew Point (Degrees F) - Avg  366 non-null    int64  \n",
            " 9   Humidity (%) - Avg           366 non-null    int64  \n",
            " 10  Sea Level Press. (in) - Avg  366 non-null    float64\n",
            " 11  Visibility (mi) - Avg        366 non-null    int64  \n",
            " 12  Wind (mph) - Avg             366 non-null    int64  \n",
            " 13  Precipitation (in) - Sum     366 non-null    float64\n",
            "dtypes: float64(7), int64(7)\n",
            "memory usage: 40.2 KB\n"
          ],
          "name": "stdout"
        }
      ]
    },
    {
      "cell_type": "code",
      "metadata": {
        "id": "g1VWL6Cd7o2h",
        "colab_type": "code",
        "outputId": "31b909a7-a494-4b20-866f-e469ef481703",
        "colab": {
          "base_uri": "https://localhost:8080/",
          "height": 721
        }
      },
      "source": [
        "heatmap_plot = sns.heatmap(\n",
        "                            result_df.corr(),\n",
        "                            cmap='RdYlGn_r',\n",
        "                            square=True,\n",
        "                            ax = plt.subplots(figsize = (12,10))[1],\n",
        "                            annot=True,\n",
        "                            linewidths=.5\n",
        "                          )"
      ],
      "execution_count": 44,
      "outputs": [
        {
          "output_type": "display_data",
          "data": {
            "image/png": "[encoded data removed]",
            "text/plain": [
              "<Figure size 864x720 with 2 Axes>"
            ]
          },
          "metadata": {
            "tags": [],
            "needs_background": "light"
          }
        }
      ]
    },
    {
      "cell_type": "markdown",
      "metadata": {
        "id": "5ZKLM4hV59Bn",
        "colab_type": "text"
      },
      "source": [
        "# Influence of Distance/Duration on extra fare"
      ]
    },
    {
      "cell_type": "code",
      "metadata": {
        "id": "jTU5nzqV70y6",
        "colab_type": "code",
        "colab": {}
      },
      "source": [
        "influence_df = taxi_df[['lpep_pickup_datetime', 'lpep_dropoff_datetime', 'trip_distance', 'extra']]"
      ],
      "execution_count": 0,
      "outputs": []
    },
    {
      "cell_type": "code",
      "metadata": {
        "id": "B2cOJvFmJ-Z_",
        "colab_type": "code",
        "colab": {
          "base_uri": "https://localhost:8080/",
          "height": 217
        },
        "outputId": "70d193a8-a54c-45c0-bcd4-14b237cbc4a4"
      },
      "source": [
        "influence_df.info()"
      ],
      "execution_count": 50,
      "outputs": [
        {
          "output_type": "stream",
          "text": [
            "<class 'pandas.core.frame.DataFrame'>\n",
            "RangeIndex: 16385532 entries, 0 to 16385531\n",
            "Data columns (total 4 columns):\n",
            " #   Column                 Dtype  \n",
            "---  ------                 -----  \n",
            " 0   lpep_pickup_datetime   object \n",
            " 1   lpep_dropoff_datetime  object \n",
            " 2   trip_distance          float64\n",
            " 3   extra                  float64\n",
            "dtypes: float64(2), object(2)\n",
            "memory usage: 500.0+ MB\n"
          ],
          "name": "stdout"
        }
      ]
    },
    {
      "cell_type": "code",
      "metadata": {
        "id": "LVCEspD2kFCT",
        "colab_type": "code",
        "outputId": "b119a1e9-8c4b-456c-d289-186e628381ff",
        "colab": {
          "base_uri": "https://localhost:8080/",
          "height": 363
        }
      },
      "source": [
        "influence_df.head(10)"
      ],
      "execution_count": 51,
      "outputs": [
        {
          "output_type": "execute_result",
          "data": {
            "text/html": [
              "<div>\n",
              "<style scoped>\n",
              "    .dataframe tbody tr th:only-of-type {\n",
              "        vertical-align: middle;\n",
              "    }\n",
              "\n",
              "    .dataframe tbody tr th {\n",
              "        vertical-align: top;\n",
              "    }\n",
              "\n",
              "    .dataframe thead th {\n",
              "        text-align: right;\n",
              "    }\n",
              "</style>\n",
              "<table border=\"1\" class=\"dataframe\">\n",
              "  <thead>\n",
              "    <tr style=\"text-align: right;\">\n",
              "      <th></th>\n",
              "      <th>lpep_pickup_datetime</th>\n",
              "      <th>lpep_dropoff_datetime</th>\n",
              "      <th>trip_distance</th>\n",
              "      <th>extra</th>\n",
              "    </tr>\n",
              "  </thead>\n",
              "  <tbody>\n",
              "    <tr>\n",
              "      <th>0</th>\n",
              "      <td>2016-01-01 00:29:24</td>\n",
              "      <td>2016-01-01 00:39:36</td>\n",
              "      <td>1.46</td>\n",
              "      <td>0.5</td>\n",
              "    </tr>\n",
              "    <tr>\n",
              "      <th>1</th>\n",
              "      <td>2016-01-01 00:19:39</td>\n",
              "      <td>2016-01-01 00:39:18</td>\n",
              "      <td>3.56</td>\n",
              "      <td>0.5</td>\n",
              "    </tr>\n",
              "    <tr>\n",
              "      <th>2</th>\n",
              "      <td>2016-01-01 00:19:33</td>\n",
              "      <td>2016-01-01 00:39:48</td>\n",
              "      <td>3.79</td>\n",
              "      <td>0.5</td>\n",
              "    </tr>\n",
              "    <tr>\n",
              "      <th>3</th>\n",
              "      <td>2016-01-01 00:22:12</td>\n",
              "      <td>2016-01-01 00:38:32</td>\n",
              "      <td>3.01</td>\n",
              "      <td>0.5</td>\n",
              "    </tr>\n",
              "    <tr>\n",
              "      <th>4</th>\n",
              "      <td>2016-01-01 00:24:01</td>\n",
              "      <td>2016-01-01 00:39:22</td>\n",
              "      <td>2.55</td>\n",
              "      <td>0.5</td>\n",
              "    </tr>\n",
              "    <tr>\n",
              "      <th>5</th>\n",
              "      <td>2016-01-01 00:32:59</td>\n",
              "      <td>2016-01-01 00:39:35</td>\n",
              "      <td>1.37</td>\n",
              "      <td>0.5</td>\n",
              "    </tr>\n",
              "    <tr>\n",
              "      <th>6</th>\n",
              "      <td>2016-01-01 00:34:42</td>\n",
              "      <td>2016-01-01 00:39:21</td>\n",
              "      <td>0.57</td>\n",
              "      <td>0.5</td>\n",
              "    </tr>\n",
              "    <tr>\n",
              "      <th>7</th>\n",
              "      <td>2016-01-01 00:31:23</td>\n",
              "      <td>2016-01-01 00:39:36</td>\n",
              "      <td>1.01</td>\n",
              "      <td>0.5</td>\n",
              "    </tr>\n",
              "    <tr>\n",
              "      <th>8</th>\n",
              "      <td>2016-01-01 00:24:40</td>\n",
              "      <td>2016-01-01 00:39:52</td>\n",
              "      <td>2.46</td>\n",
              "      <td>0.5</td>\n",
              "    </tr>\n",
              "    <tr>\n",
              "      <th>9</th>\n",
              "      <td>2016-01-01 00:28:59</td>\n",
              "      <td>2016-01-01 00:39:23</td>\n",
              "      <td>1.61</td>\n",
              "      <td>0.5</td>\n",
              "    </tr>\n",
              "  </tbody>\n",
              "</table>\n",
              "</div>"
            ],
            "text/plain": [
              "  lpep_pickup_datetime lpep_dropoff_datetime  trip_distance  extra\n",
              "0  2016-01-01 00:29:24   2016-01-01 00:39:36           1.46    0.5\n",
              "1  2016-01-01 00:19:39   2016-01-01 00:39:18           3.56    0.5\n",
              "2  2016-01-01 00:19:33   2016-01-01 00:39:48           3.79    0.5\n",
              "3  2016-01-01 00:22:12   2016-01-01 00:38:32           3.01    0.5\n",
              "4  2016-01-01 00:24:01   2016-01-01 00:39:22           2.55    0.5\n",
              "5  2016-01-01 00:32:59   2016-01-01 00:39:35           1.37    0.5\n",
              "6  2016-01-01 00:34:42   2016-01-01 00:39:21           0.57    0.5\n",
              "7  2016-01-01 00:31:23   2016-01-01 00:39:36           1.01    0.5\n",
              "8  2016-01-01 00:24:40   2016-01-01 00:39:52           2.46    0.5\n",
              "9  2016-01-01 00:28:59   2016-01-01 00:39:23           1.61    0.5"
            ]
          },
          "metadata": {
            "tags": []
          },
          "execution_count": 51
        }
      ]
    },
    {
      "cell_type": "markdown",
      "metadata": {
        "id": "RAKW-9gJ99Er",
        "colab_type": "text"
      },
      "source": [
        "Calculating Total Trip duration"
      ]
    },
    {
      "cell_type": "code",
      "metadata": {
        "id": "n17Z7cby9KEu",
        "colab_type": "code",
        "outputId": "62e2fada-fa9f-43c7-eeb8-b0ecc049b135",
        "colab": {
          "base_uri": "https://localhost:8080/",
          "height": 126
        }
      },
      "source": [
        "influence_df[\"trip_duration\"] = (pd.to_datetime(influence_df['lpep_dropoff_datetime'], format=\"%Y-%m-%d %H:%M:%S\") - pd.to_datetime(influence_df['lpep_pickup_datetime'], format=\"%Y-%m-%d %H:%M:%S\")) / np.timedelta64(1, 'm')\n",
        "influence_df = influence_df[influence_df['trip_duration'] >= 0]\n",
        "influence_df = influence_df.drop(columns=['lpep_dropoff_datetime', 'lpep_pickup_datetime'])"
      ],
      "execution_count": 52,
      "outputs": [
        {
          "output_type": "stream",
          "text": [
            "/usr/local/lib/python3.6/dist-packages/ipykernel_launcher.py:1: SettingWithCopyWarning: \n",
            "A value is trying to be set on a copy of a slice from a DataFrame.\n",
            "Try using .loc[row_indexer,col_indexer] = value instead\n",
            "\n",
            "See the caveats in the documentation: https://pandas.pydata.org/pandas-docs/stable/user_guide/indexing.html#returning-a-view-versus-a-copy\n",
            "  \"\"\"Entry point for launching an IPython kernel.\n"
          ],
          "name": "stderr"
        }
      ]
    },
    {
      "cell_type": "code",
      "metadata": {
        "id": "V-SowSRcA-7U",
        "colab_type": "code",
        "colab": {
          "base_uri": "https://localhost:8080/",
          "height": 199
        },
        "outputId": "8819473a-38b7-4292-af89-933858f62a75"
      },
      "source": [
        "influence_df.info()"
      ],
      "execution_count": 53,
      "outputs": [
        {
          "output_type": "stream",
          "text": [
            "<class 'pandas.core.frame.DataFrame'>\n",
            "Int64Index: 16385431 entries, 0 to 16385531\n",
            "Data columns (total 3 columns):\n",
            " #   Column         Dtype  \n",
            "---  ------         -----  \n",
            " 0   trip_distance  float64\n",
            " 1   extra          float64\n",
            " 2   trip_duration  float64\n",
            "dtypes: float64(3)\n",
            "memory usage: 500.0 MB\n"
          ],
          "name": "stdout"
        }
      ]
    },
    {
      "cell_type": "code",
      "metadata": {
        "id": "XvvduSKkL8Uk",
        "colab_type": "code",
        "colab": {
          "base_uri": "https://localhost:8080/",
          "height": 363
        },
        "outputId": "137f4dfa-c02b-40bd-859b-e4642472d0d6"
      },
      "source": [
        "influence_df.head(10)"
      ],
      "execution_count": 54,
      "outputs": [
        {
          "output_type": "execute_result",
          "data": {
            "text/html": [
              "<div>\n",
              "<style scoped>\n",
              "    .dataframe tbody tr th:only-of-type {\n",
              "        vertical-align: middle;\n",
              "    }\n",
              "\n",
              "    .dataframe tbody tr th {\n",
              "        vertical-align: top;\n",
              "    }\n",
              "\n",
              "    .dataframe thead th {\n",
              "        text-align: right;\n",
              "    }\n",
              "</style>\n",
              "<table border=\"1\" class=\"dataframe\">\n",
              "  <thead>\n",
              "    <tr style=\"text-align: right;\">\n",
              "      <th></th>\n",
              "      <th>trip_distance</th>\n",
              "      <th>extra</th>\n",
              "      <th>trip_duration</th>\n",
              "    </tr>\n",
              "  </thead>\n",
              "  <tbody>\n",
              "    <tr>\n",
              "      <th>0</th>\n",
              "      <td>1.46</td>\n",
              "      <td>0.5</td>\n",
              "      <td>10.200000</td>\n",
              "    </tr>\n",
              "    <tr>\n",
              "      <th>1</th>\n",
              "      <td>3.56</td>\n",
              "      <td>0.5</td>\n",
              "      <td>19.650000</td>\n",
              "    </tr>\n",
              "    <tr>\n",
              "      <th>2</th>\n",
              "      <td>3.79</td>\n",
              "      <td>0.5</td>\n",
              "      <td>20.250000</td>\n",
              "    </tr>\n",
              "    <tr>\n",
              "      <th>3</th>\n",
              "      <td>3.01</td>\n",
              "      <td>0.5</td>\n",
              "      <td>16.333333</td>\n",
              "    </tr>\n",
              "    <tr>\n",
              "      <th>4</th>\n",
              "      <td>2.55</td>\n",
              "      <td>0.5</td>\n",
              "      <td>15.350000</td>\n",
              "    </tr>\n",
              "    <tr>\n",
              "      <th>5</th>\n",
              "      <td>1.37</td>\n",
              "      <td>0.5</td>\n",
              "      <td>6.600000</td>\n",
              "    </tr>\n",
              "    <tr>\n",
              "      <th>6</th>\n",
              "      <td>0.57</td>\n",
              "      <td>0.5</td>\n",
              "      <td>4.650000</td>\n",
              "    </tr>\n",
              "    <tr>\n",
              "      <th>7</th>\n",
              "      <td>1.01</td>\n",
              "      <td>0.5</td>\n",
              "      <td>8.216667</td>\n",
              "    </tr>\n",
              "    <tr>\n",
              "      <th>8</th>\n",
              "      <td>2.46</td>\n",
              "      <td>0.5</td>\n",
              "      <td>15.200000</td>\n",
              "    </tr>\n",
              "    <tr>\n",
              "      <th>9</th>\n",
              "      <td>1.61</td>\n",
              "      <td>0.5</td>\n",
              "      <td>10.400000</td>\n",
              "    </tr>\n",
              "  </tbody>\n",
              "</table>\n",
              "</div>"
            ],
            "text/plain": [
              "   trip_distance  extra  trip_duration\n",
              "0           1.46    0.5      10.200000\n",
              "1           3.56    0.5      19.650000\n",
              "2           3.79    0.5      20.250000\n",
              "3           3.01    0.5      16.333333\n",
              "4           2.55    0.5      15.350000\n",
              "5           1.37    0.5       6.600000\n",
              "6           0.57    0.5       4.650000\n",
              "7           1.01    0.5       8.216667\n",
              "8           2.46    0.5      15.200000\n",
              "9           1.61    0.5      10.400000"
            ]
          },
          "metadata": {
            "tags": []
          },
          "execution_count": 54
        }
      ]
    },
    {
      "cell_type": "markdown",
      "metadata": {
        "id": "G2g0JYt8eHR8",
        "colab_type": "text"
      },
      "source": [
        "### Influence trip distance on extra"
      ]
    },
    {
      "cell_type": "code",
      "metadata": {
        "id": "qmoy4dOpL_PT",
        "colab_type": "code",
        "colab": {}
      },
      "source": [
        "dist_extra_df = influence_df[['trip_distance', 'extra']]"
      ],
      "execution_count": 0,
      "outputs": []
    },
    {
      "cell_type": "code",
      "metadata": {
        "id": "kkOJZi9VfAdi",
        "colab_type": "code",
        "colab": {
          "base_uri": "https://localhost:8080/",
          "height": 181
        },
        "outputId": "738e2599-6618-4c80-c67d-eaeb1abafab5"
      },
      "source": [
        "dist_extra_df.info()"
      ],
      "execution_count": 56,
      "outputs": [
        {
          "output_type": "stream",
          "text": [
            "<class 'pandas.core.frame.DataFrame'>\n",
            "Int64Index: 16385431 entries, 0 to 16385531\n",
            "Data columns (total 2 columns):\n",
            " #   Column         Dtype  \n",
            "---  ------         -----  \n",
            " 0   trip_distance  float64\n",
            " 1   extra          float64\n",
            "dtypes: float64(2)\n",
            "memory usage: 375.0 MB\n"
          ],
          "name": "stdout"
        }
      ]
    },
    {
      "cell_type": "code",
      "metadata": {
        "id": "_Jq6tVMBfDdO",
        "colab_type": "code",
        "colab": {
          "base_uri": "https://localhost:8080/",
          "height": 363
        },
        "outputId": "f573910d-7d68-40e5-a9bc-ef1d0b58bf2e"
      },
      "source": [
        "dist_extra_df.head(10)"
      ],
      "execution_count": 57,
      "outputs": [
        {
          "output_type": "execute_result",
          "data": {
            "text/html": [
              "<div>\n",
              "<style scoped>\n",
              "    .dataframe tbody tr th:only-of-type {\n",
              "        vertical-align: middle;\n",
              "    }\n",
              "\n",
              "    .dataframe tbody tr th {\n",
              "        vertical-align: top;\n",
              "    }\n",
              "\n",
              "    .dataframe thead th {\n",
              "        text-align: right;\n",
              "    }\n",
              "</style>\n",
              "<table border=\"1\" class=\"dataframe\">\n",
              "  <thead>\n",
              "    <tr style=\"text-align: right;\">\n",
              "      <th></th>\n",
              "      <th>trip_distance</th>\n",
              "      <th>extra</th>\n",
              "    </tr>\n",
              "  </thead>\n",
              "  <tbody>\n",
              "    <tr>\n",
              "      <th>0</th>\n",
              "      <td>1.46</td>\n",
              "      <td>0.5</td>\n",
              "    </tr>\n",
              "    <tr>\n",
              "      <th>1</th>\n",
              "      <td>3.56</td>\n",
              "      <td>0.5</td>\n",
              "    </tr>\n",
              "    <tr>\n",
              "      <th>2</th>\n",
              "      <td>3.79</td>\n",
              "      <td>0.5</td>\n",
              "    </tr>\n",
              "    <tr>\n",
              "      <th>3</th>\n",
              "      <td>3.01</td>\n",
              "      <td>0.5</td>\n",
              "    </tr>\n",
              "    <tr>\n",
              "      <th>4</th>\n",
              "      <td>2.55</td>\n",
              "      <td>0.5</td>\n",
              "    </tr>\n",
              "    <tr>\n",
              "      <th>5</th>\n",
              "      <td>1.37</td>\n",
              "      <td>0.5</td>\n",
              "    </tr>\n",
              "    <tr>\n",
              "      <th>6</th>\n",
              "      <td>0.57</td>\n",
              "      <td>0.5</td>\n",
              "    </tr>\n",
              "    <tr>\n",
              "      <th>7</th>\n",
              "      <td>1.01</td>\n",
              "      <td>0.5</td>\n",
              "    </tr>\n",
              "    <tr>\n",
              "      <th>8</th>\n",
              "      <td>2.46</td>\n",
              "      <td>0.5</td>\n",
              "    </tr>\n",
              "    <tr>\n",
              "      <th>9</th>\n",
              "      <td>1.61</td>\n",
              "      <td>0.5</td>\n",
              "    </tr>\n",
              "  </tbody>\n",
              "</table>\n",
              "</div>"
            ],
            "text/plain": [
              "   trip_distance  extra\n",
              "0           1.46    0.5\n",
              "1           3.56    0.5\n",
              "2           3.79    0.5\n",
              "3           3.01    0.5\n",
              "4           2.55    0.5\n",
              "5           1.37    0.5\n",
              "6           0.57    0.5\n",
              "7           1.01    0.5\n",
              "8           2.46    0.5\n",
              "9           1.61    0.5"
            ]
          },
          "metadata": {
            "tags": []
          },
          "execution_count": 57
        }
      ]
    },
    {
      "cell_type": "markdown",
      "metadata": {
        "id": "G7_btLK3lUHO",
        "colab_type": "text"
      },
      "source": [
        "Data Cleaning"
      ]
    },
    {
      "cell_type": "code",
      "metadata": {
        "id": "dEHb51qdlUQL",
        "colab_type": "code",
        "colab": {}
      },
      "source": [
        "dist_extra_df = dist_extra_df[(dist_extra_df['extra']>0.0)]"
      ],
      "execution_count": 0,
      "outputs": []
    },
    {
      "cell_type": "markdown",
      "metadata": {
        "id": "obivG0xcfK0-",
        "colab_type": "text"
      },
      "source": [
        "Features and Labels"
      ]
    },
    {
      "cell_type": "code",
      "metadata": {
        "colab_type": "code",
        "id": "xU1knSWgfXtu",
        "colab": {}
      },
      "source": [
        "labels = dist_extra_df['extra']"
      ],
      "execution_count": 0,
      "outputs": []
    },
    {
      "cell_type": "code",
      "metadata": {
        "colab_type": "code",
        "id": "okmANMP7fXuT",
        "colab": {}
      },
      "source": [
        "features = dist_extra_df.drop(columns='extra')\n",
        "feature_list = list(features.columns)\n",
        "features = np.array(features)"
      ],
      "execution_count": 0,
      "outputs": []
    },
    {
      "cell_type": "markdown",
      "metadata": {
        "colab_type": "text",
        "id": "XZG5G6dBfXuc"
      },
      "source": [
        "Train-Test Split"
      ]
    },
    {
      "cell_type": "code",
      "metadata": {
        "colab_type": "code",
        "id": "JHAEzcCQfXue",
        "colab": {}
      },
      "source": [
        "dist_extra_train_features_df, dist_extra_test_features_df, dist_extra_train_labels_df, dist_extra_test_labels_df = train_test_split(features, labels, test_size=0.2, random_state=42)"
      ],
      "execution_count": 0,
      "outputs": []
    },
    {
      "cell_type": "markdown",
      "metadata": {
        "colab_type": "text",
        "id": "aZmke1MefXul"
      },
      "source": [
        "Linear Regression (Baseline)"
      ]
    },
    {
      "cell_type": "code",
      "metadata": {
        "colab_type": "code",
        "outputId": "5bf0ba19-992a-4db9-bded-652b9044b564",
        "id": "YIVI51rVfXul",
        "colab": {
          "base_uri": "https://localhost:8080/",
          "height": 90
        }
      },
      "source": [
        "linear_regression(dist_extra_train_features_df, dist_extra_test_features_df, dist_extra_train_labels_df, dist_extra_test_labels_df)"
      ],
      "execution_count": 62,
      "outputs": [
        {
          "output_type": "stream",
          "text": [
            "Mean Absolute Error: 0.2195125229047787\n",
            "Mean Squared Error: 0.06545588217664941\n",
            "Root Mean Squared Error: 0.2558434720227378\n",
            "Accuracy: 67.29 %\n"
          ],
          "name": "stdout"
        }
      ]
    },
    {
      "cell_type": "markdown",
      "metadata": {
        "id": "D40RQVnIgI3V",
        "colab_type": "text"
      },
      "source": [
        "Lasso"
      ]
    },
    {
      "cell_type": "code",
      "metadata": {
        "id": "HXFbokC3gJAL",
        "colab_type": "code",
        "colab": {
          "base_uri": "https://localhost:8080/",
          "height": 90
        },
        "outputId": "a561c244-d479-4c23-cd65-07c9d4634105"
      },
      "source": [
        "lasso(1, dist_extra_train_features_df, dist_extra_test_features_df, dist_extra_train_labels_df, dist_extra_test_labels_df)"
      ],
      "execution_count": 63,
      "outputs": [
        {
          "output_type": "stream",
          "text": [
            "Mean Absolute Error: 0.2203982973172891\n",
            "Mean Squared Error: 0.06557662100276435\n",
            "Root Mean Squared Error: 0.256079325605884\n",
            "Accuracy: 67.16 %\n"
          ],
          "name": "stdout"
        }
      ]
    },
    {
      "cell_type": "markdown",
      "metadata": {
        "id": "XYYdoqYgl08E",
        "colab_type": "text"
      },
      "source": [
        "Gradient Boosting"
      ]
    },
    {
      "cell_type": "code",
      "metadata": {
        "id": "z-Gs6X6al1ER",
        "colab_type": "code",
        "colab": {
          "base_uri": "https://localhost:8080/",
          "height": 90
        },
        "outputId": "cf7107cd-0d04-4fe6-8f2d-542b56be29a4"
      },
      "source": [
        "gradient_boosting(10, dist_extra_train_features_df, dist_extra_test_features_df, dist_extra_train_labels_df, dist_extra_test_labels_df)"
      ],
      "execution_count": 64,
      "outputs": [
        {
          "output_type": "stream",
          "text": [
            "Mean Absolute Error: 0.21808819178010416\n",
            "Mean Squared Error: 0.06411594546233815\n",
            "Root Mean Squared Error: 0.2532112664601205\n",
            "Accuracy: 67.49 %\n"
          ],
          "name": "stdout"
        }
      ]
    },
    {
      "cell_type": "markdown",
      "metadata": {
        "id": "C7Hedwi8l9FK",
        "colab_type": "text"
      },
      "source": [
        "Random Forest"
      ]
    },
    {
      "cell_type": "code",
      "metadata": {
        "id": "FDEZZ00wl9NR",
        "colab_type": "code",
        "colab": {
          "base_uri": "https://localhost:8080/",
          "height": 90
        },
        "outputId": "e4436448-886e-4a97-f675-17a3dc635bf3"
      },
      "source": [
        "random_forest(3, dist_extra_train_features_df, dist_extra_test_features_df, dist_extra_train_labels_df, dist_extra_test_labels_df)"
      ],
      "execution_count": 65,
      "outputs": [
        {
          "output_type": "stream",
          "text": [
            "Mean Absolute Error: 0.21811081066438975\n",
            "Mean Squared Error: 0.06426172697309034\n",
            "Root Mean Squared Error: 0.25349896838663927\n",
            "Accuracy: 67.49 %\n"
          ],
          "name": "stdout"
        }
      ]
    },
    {
      "cell_type": "markdown",
      "metadata": {
        "colab_type": "text",
        "id": "BVLgOvtFeS-E"
      },
      "source": [
        "### Influence trip duration on extra"
      ]
    },
    {
      "cell_type": "code",
      "metadata": {
        "colab_type": "code",
        "id": "Ne6VUmtMmYEM",
        "colab": {}
      },
      "source": [
        "dur_extra_df = influence_df[['trip_duration', 'extra']]"
      ],
      "execution_count": 0,
      "outputs": []
    },
    {
      "cell_type": "code",
      "metadata": {
        "colab_type": "code",
        "outputId": "37912350-9f0e-44b9-c27e-07f25a93ad8f",
        "id": "9-ZxIOkCmYE7",
        "colab": {
          "base_uri": "https://localhost:8080/",
          "height": 181
        }
      },
      "source": [
        "dur_extra_df.info()"
      ],
      "execution_count": 67,
      "outputs": [
        {
          "output_type": "stream",
          "text": [
            "<class 'pandas.core.frame.DataFrame'>\n",
            "Int64Index: 16385431 entries, 0 to 16385531\n",
            "Data columns (total 2 columns):\n",
            " #   Column         Dtype  \n",
            "---  ------         -----  \n",
            " 0   trip_duration  float64\n",
            " 1   extra          float64\n",
            "dtypes: float64(2)\n",
            "memory usage: 375.0 MB\n"
          ],
          "name": "stdout"
        }
      ]
    },
    {
      "cell_type": "code",
      "metadata": {
        "colab_type": "code",
        "outputId": "d61bfdcf-adf8-4939-fd15-27fb533200b8",
        "id": "R_lANlWomYFW",
        "colab": {
          "base_uri": "https://localhost:8080/",
          "height": 363
        }
      },
      "source": [
        "dur_extra_df.head(10)"
      ],
      "execution_count": 68,
      "outputs": [
        {
          "output_type": "execute_result",
          "data": {
            "text/html": [
              "<div>\n",
              "<style scoped>\n",
              "    .dataframe tbody tr th:only-of-type {\n",
              "        vertical-align: middle;\n",
              "    }\n",
              "\n",
              "    .dataframe tbody tr th {\n",
              "        vertical-align: top;\n",
              "    }\n",
              "\n",
              "    .dataframe thead th {\n",
              "        text-align: right;\n",
              "    }\n",
              "</style>\n",
              "<table border=\"1\" class=\"dataframe\">\n",
              "  <thead>\n",
              "    <tr style=\"text-align: right;\">\n",
              "      <th></th>\n",
              "      <th>trip_duration</th>\n",
              "      <th>extra</th>\n",
              "    </tr>\n",
              "  </thead>\n",
              "  <tbody>\n",
              "    <tr>\n",
              "      <th>0</th>\n",
              "      <td>10.200000</td>\n",
              "      <td>0.5</td>\n",
              "    </tr>\n",
              "    <tr>\n",
              "      <th>1</th>\n",
              "      <td>19.650000</td>\n",
              "      <td>0.5</td>\n",
              "    </tr>\n",
              "    <tr>\n",
              "      <th>2</th>\n",
              "      <td>20.250000</td>\n",
              "      <td>0.5</td>\n",
              "    </tr>\n",
              "    <tr>\n",
              "      <th>3</th>\n",
              "      <td>16.333333</td>\n",
              "      <td>0.5</td>\n",
              "    </tr>\n",
              "    <tr>\n",
              "      <th>4</th>\n",
              "      <td>15.350000</td>\n",
              "      <td>0.5</td>\n",
              "    </tr>\n",
              "    <tr>\n",
              "      <th>5</th>\n",
              "      <td>6.600000</td>\n",
              "      <td>0.5</td>\n",
              "    </tr>\n",
              "    <tr>\n",
              "      <th>6</th>\n",
              "      <td>4.650000</td>\n",
              "      <td>0.5</td>\n",
              "    </tr>\n",
              "    <tr>\n",
              "      <th>7</th>\n",
              "      <td>8.216667</td>\n",
              "      <td>0.5</td>\n",
              "    </tr>\n",
              "    <tr>\n",
              "      <th>8</th>\n",
              "      <td>15.200000</td>\n",
              "      <td>0.5</td>\n",
              "    </tr>\n",
              "    <tr>\n",
              "      <th>9</th>\n",
              "      <td>10.400000</td>\n",
              "      <td>0.5</td>\n",
              "    </tr>\n",
              "  </tbody>\n",
              "</table>\n",
              "</div>"
            ],
            "text/plain": [
              "   trip_duration  extra\n",
              "0      10.200000    0.5\n",
              "1      19.650000    0.5\n",
              "2      20.250000    0.5\n",
              "3      16.333333    0.5\n",
              "4      15.350000    0.5\n",
              "5       6.600000    0.5\n",
              "6       4.650000    0.5\n",
              "7       8.216667    0.5\n",
              "8      15.200000    0.5\n",
              "9      10.400000    0.5"
            ]
          },
          "metadata": {
            "tags": []
          },
          "execution_count": 68
        }
      ]
    },
    {
      "cell_type": "markdown",
      "metadata": {
        "colab_type": "text",
        "id": "ek315YU_mYFf"
      },
      "source": [
        "Data Cleaning"
      ]
    },
    {
      "cell_type": "code",
      "metadata": {
        "colab_type": "code",
        "id": "iYVV_A7hmYFh",
        "colab": {}
      },
      "source": [
        "dur_extra_df = dur_extra_df[(dur_extra_df['extra']>0.0)]"
      ],
      "execution_count": 0,
      "outputs": []
    },
    {
      "cell_type": "markdown",
      "metadata": {
        "colab_type": "text",
        "id": "MgA30RBBmYFm"
      },
      "source": [
        "Features and Labels"
      ]
    },
    {
      "cell_type": "code",
      "metadata": {
        "colab_type": "code",
        "id": "YNDtJPvdmYFn",
        "colab": {}
      },
      "source": [
        "labels = dur_extra_df['extra']"
      ],
      "execution_count": 0,
      "outputs": []
    },
    {
      "cell_type": "code",
      "metadata": {
        "colab_type": "code",
        "id": "snh46Ud9mYFs",
        "colab": {}
      },
      "source": [
        "features = dur_extra_df.drop(columns='extra')\n",
        "feature_list = list(features.columns)\n",
        "features = np.array(features)"
      ],
      "execution_count": 0,
      "outputs": []
    },
    {
      "cell_type": "markdown",
      "metadata": {
        "colab_type": "text",
        "id": "Bwhg7qujmYFx"
      },
      "source": [
        "Train-Test Split"
      ]
    },
    {
      "cell_type": "code",
      "metadata": {
        "colab_type": "code",
        "id": "pxOvXXZHmYFz",
        "colab": {}
      },
      "source": [
        "dur_extra_train_features_df, dur_extra_test_features_df, dur_extra_train_labels_df, dur_extra_test_labels_df = train_test_split(features, labels, test_size=0.2, random_state=42)"
      ],
      "execution_count": 0,
      "outputs": []
    },
    {
      "cell_type": "markdown",
      "metadata": {
        "colab_type": "text",
        "id": "fw2_LtMRmYF2"
      },
      "source": [
        "Linear Regression (Baseline)"
      ]
    },
    {
      "cell_type": "code",
      "metadata": {
        "colab_type": "code",
        "outputId": "ae3cf536-fc50-4fbc-9a9e-0c8e56639b52",
        "id": "9gCi2ST0mYF3",
        "colab": {
          "base_uri": "https://localhost:8080/",
          "height": 90
        }
      },
      "source": [
        "linear_regression(dur_extra_train_features_df, dur_extra_test_features_df, dur_extra_train_labels_df, dur_extra_test_labels_df)"
      ],
      "execution_count": 73,
      "outputs": [
        {
          "output_type": "stream",
          "text": [
            "Mean Absolute Error: 0.22039488016847184\n",
            "Mean Squared Error: 0.06557602492782444\n",
            "Root Mean Squared Error: 0.25607816175500875\n",
            "Accuracy: 67.16 %\n"
          ],
          "name": "stdout"
        }
      ]
    },
    {
      "cell_type": "markdown",
      "metadata": {
        "colab_type": "text",
        "id": "JQw-bK5ZmYF8"
      },
      "source": [
        "Lasso"
      ]
    },
    {
      "cell_type": "code",
      "metadata": {
        "colab_type": "code",
        "outputId": "7f5aa968-0c38-4cf8-aae0-6f898d4b7ba7",
        "id": "CXaY3I5dmYF9",
        "colab": {
          "base_uri": "https://localhost:8080/",
          "height": 90
        }
      },
      "source": [
        "lasso(1, dur_extra_train_features_df, dur_extra_test_features_df, dur_extra_train_labels_df, dur_extra_test_labels_df)"
      ],
      "execution_count": 74,
      "outputs": [
        {
          "output_type": "stream",
          "text": [
            "Mean Absolute Error: 0.2203982973172891\n",
            "Mean Squared Error: 0.06557662100276435\n",
            "Root Mean Squared Error: 0.256079325605884\n",
            "Accuracy: 67.16 %\n"
          ],
          "name": "stdout"
        }
      ]
    },
    {
      "cell_type": "markdown",
      "metadata": {
        "colab_type": "text",
        "id": "Ovs_pgH1mYGB"
      },
      "source": [
        "Gradient Boosting"
      ]
    },
    {
      "cell_type": "code",
      "metadata": {
        "colab_type": "code",
        "outputId": "059fd902-7245-43b4-d502-69eacd1e9196",
        "id": "JuvufwNdmYGC",
        "colab": {
          "base_uri": "https://localhost:8080/",
          "height": 90
        }
      },
      "source": [
        "gradient_boosting(10, dur_extra_train_features_df, dur_extra_test_features_df, dur_extra_train_labels_df, dur_extra_test_labels_df)"
      ],
      "execution_count": 75,
      "outputs": [
        {
          "output_type": "stream",
          "text": [
            "Mean Absolute Error: 0.21702922262210453\n",
            "Mean Squared Error: 0.06411212473178417\n",
            "Root Mean Squared Error: 0.2532037217968649\n",
            "Accuracy: 67.66 %\n"
          ],
          "name": "stdout"
        }
      ]
    },
    {
      "cell_type": "markdown",
      "metadata": {
        "colab_type": "text",
        "id": "FlKz7lnEmYGG"
      },
      "source": [
        "Random Forest"
      ]
    },
    {
      "cell_type": "code",
      "metadata": {
        "colab_type": "code",
        "outputId": "4bdcf5d9-cc36-4193-e010-394980261ba6",
        "id": "hYm3vLCJmYGH",
        "colab": {
          "base_uri": "https://localhost:8080/",
          "height": 90
        }
      },
      "source": [
        "random_forest(10, dur_extra_train_features_df, dur_extra_test_features_df, dur_extra_train_labels_df, dur_extra_test_labels_df)"
      ],
      "execution_count": 76,
      "outputs": [
        {
          "output_type": "stream",
          "text": [
            "Mean Absolute Error: 0.21745031443713017\n",
            "Mean Squared Error: 0.0646758967564737\n",
            "Root Mean Squared Error: 0.2543145626118837\n",
            "Accuracy: 67.62 %\n"
          ],
          "name": "stdout"
        }
      ]
    }
  ]
}